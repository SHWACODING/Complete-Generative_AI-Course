{
 "cells": [
  {
   "cell_type": "code",
   "execution_count": null,
   "id": "01b4f53d-7989-4ddc-b588-96b40f0acd15",
   "metadata": {},
   "outputs": [],
   "source": [
    "from transformers import pipeline\n",
    "import torch"
   ]
  },
  {
   "cell_type": "code",
   "execution_count": null,
   "id": "11c2b989-19cb-434b-a4ea-76ae99da449b",
   "metadata": {},
   "outputs": [],
   "source": [
    "device = \"cuda\" if torch.cuda.is_available() else \"cpu\"\n",
    "\n",
    "device"
   ]
  },
  {
   "cell_type": "code",
   "execution_count": null,
   "id": "961bf0a4-3402-4a2a-a126-20cca6b362c8",
   "metadata": {},
   "outputs": [],
   "source": [
    "text = \"Python is a high level, general-purpose programming language.\"\n",
    "\n",
    "pipe = pipeline(\"text-to-speech\", model=\"suno/bark-small\", device=device)\n",
    "\n",
    "output = pipe(text)"
   ]
  },
  {
   "cell_type": "code",
   "execution_count": null,
   "id": "7a923cf0-d63d-4644-8cb7-8404465d208b",
   "metadata": {},
   "outputs": [],
   "source": [
    "output"
   ]
  },
  {
   "cell_type": "code",
   "execution_count": null,
   "id": "1edc9bd6-fd2b-4bf8-bd99-2ee1eb2cdb8a",
   "metadata": {},
   "outputs": [],
   "source": [
    "from IPython.display import Audio\n",
    "\n",
    "Audio(output['audio'], rate=output['sampling_rate'])"
   ]
  }
 ],
 "metadata": {
  "kernelspec": {
   "display_name": "Python 3 (ipykernel)",
   "language": "python",
   "name": "python3"
  },
  "language_info": {
   "codemirror_mode": {
    "name": "ipython",
    "version": 3
   },
   "file_extension": ".py",
   "mimetype": "text/x-python",
   "name": "python",
   "nbconvert_exporter": "python",
   "pygments_lexer": "ipython3",
   "version": "3.12.4"
  }
 },
 "nbformat": 4,
 "nbformat_minor": 5
}
