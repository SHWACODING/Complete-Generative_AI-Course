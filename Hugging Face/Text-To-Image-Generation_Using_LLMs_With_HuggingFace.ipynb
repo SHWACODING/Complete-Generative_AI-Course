{
 "cells": [
  {
   "cell_type": "markdown",
   "id": "5ea2434f-2114-4be2-8bf6-ada1c7ccf98b",
   "metadata": {},
   "source": [
    "## Text-To-Image Generation Using Stable Diffusion and Diffusers ??"
   ]
  },
  {
   "cell_type": "code",
   "execution_count": null,
   "id": "e027d6ed-b94e-48e6-8d63-0458fadf0053",
   "metadata": {},
   "outputs": [],
   "source": [
    "from diffusers import StableDiffusionPipeline\n",
    "import matplotlib.pyplot as plt\n",
    "import torch"
   ]
  },
  {
   "cell_type": "code",
   "execution_count": null,
   "id": "7bf828d3-147b-44a5-94c0-672b1a8e1e14",
   "metadata": {},
   "outputs": [],
   "source": [
    "device = \"cude\" if torch.cuda.is_available() else \"cpu\"\n",
    "\n",
    "device"
   ]
  },
  {
   "cell_type": "code",
   "execution_count": null,
   "id": "3a8e6629-ebe8-472b-8459-eb2faaa73b24",
   "metadata": {},
   "outputs": [],
   "source": [
    "model_id1 = \"dreamlike-art/dreamlike-diffusion-1.0\"\n",
    "model_id2 = \"stabilityai/stable-diffusion-xl-base-1.0\"\n",
    "\n",
    "pipe = StableDiffusionPipeline.from_pretrained(model_id1, torch_dtype=torch.float16, use_safetensors=True).to(device)"
   ]
  },
  {
   "cell_type": "code",
   "execution_count": null,
   "id": "b38016e0-e4e1-489d-a618-a079139f5cfc",
   "metadata": {},
   "outputs": [],
   "source": [
    "prompt = \"dreamlikeart, a man was playing with dogs, in a awesome green garden?\""
   ]
  },
  {
   "cell_type": "code",
   "execution_count": null,
   "id": "1ad3d4d6-42bd-4bb4-83a1-f158ac4e8227",
   "metadata": {},
   "outputs": [],
   "source": [
    "image = pipe(prompt).images[0]"
   ]
  },
  {
   "cell_type": "code",
   "execution_count": null,
   "id": "abf0c51c-4c73-4b5e-b94a-08a9a6f32e9b",
   "metadata": {},
   "outputs": [],
   "source": [
    "print(\"Prompt => \", prompt)\n",
    "\n",
    "plt.imshow(iamge)\n",
    "plt.axis('off')"
   ]
  },
  {
   "cell_type": "code",
   "execution_count": null,
   "id": "d601eb51-746e-4fa0-a1c2-57f795e4a509",
   "metadata": {},
   "outputs": [],
   "source": []
  },
  {
   "cell_type": "markdown",
   "id": "fd29efa0-eca3-46f3-bb86-35f5bd85f87e",
   "metadata": {},
   "source": [
    "### Working With Stable Diffusion Parameters ??\n",
    "    . Negative prompting\n",
    "    . num_inference_steps\n",
    "    . height\n",
    "    . weight\n",
    "    . num_images_per_prompt"
   ]
  },
  {
   "cell_type": "code",
   "execution_count": null,
   "id": "d3e664e7-0a3d-4b73-9fdb-4535de027450",
   "metadata": {},
   "outputs": [],
   "source": [
    "def generate_image(pipe, prompt, params):\n",
    "    img = pipe(prompt, **params).images\n",
    "\n",
    "    num_images = len(img)\n",
    "\n",
    "    if num_images > 1:\n",
    "        fig, ax = plt.subplots(nrows=1, ncols=num_images)\n",
    "        for i in range(num_images):\n",
    "            ax[i].imshow(img[i])\n",
    "            ax[i].axis('off')\n",
    "    else:\n",
    "        fig = plt.figure()\n",
    "        plt.imshow(img[0])\n",
    "        plt.axis('off')\n",
    "\n",
    "    plt.tight_layout()"
   ]
  },
  {
   "cell_type": "code",
   "execution_count": null,
   "id": "2b1bdbb4-5290-4d3a-9ea9-d661f314cf71",
   "metadata": {},
   "outputs": [],
   "source": [
    "prompt = \"dreamlikeart, a man was playing with dogs, in a awesome green garden?\"\n",
    "\n",
    "params = {}"
   ]
  },
  {
   "cell_type": "code",
   "execution_count": null,
   "id": "b25660f6-c9ef-4423-b8b3-8edc0468a7ba",
   "metadata": {},
   "outputs": [],
   "source": [
    "# num_inference_steps\n",
    "params = {'num_inference_steps': 100}\n",
    "\n",
    "generate_image(pipe, prompt, params)"
   ]
  },
  {
   "cell_type": "code",
   "execution_count": null,
   "id": "484b63ed-eac1-475e-808b-312ea3db37bf",
   "metadata": {},
   "outputs": [],
   "source": [
    "# height width\n",
    "params = {'num_inference_steps': 100, 'width': 512, 'height': int(1.5*640)}\n",
    "\n",
    "generate_image(pipe, prompt, params)"
   ]
  },
  {
   "cell_type": "code",
   "execution_count": null,
   "id": "5a7915d7-ca52-4892-ab56-497f6b889f75",
   "metadata": {},
   "outputs": [],
   "source": [
    "# num_images_per_prompt\n",
    "params = {'num_inference_steps': 100, 'num_images_per_prompt': 2}\n",
    "\n",
    "generate_image(pipe, prompt, params)"
   ]
  },
  {
   "cell_type": "code",
   "execution_count": null,
   "id": "73a7bfe7-1e12-49d6-8036-5e67cb1de2d9",
   "metadata": {},
   "outputs": [],
   "source": [
    "# negative_prompt\n",
    "params = {'num_inference_steps': 100, 'num_images_per_prompt': 2, 'negative_prompt': 'ugly, distorted, low quality'}\n",
    "\n",
    "generate_image(pipe, prompt, params)"
   ]
  },
  {
   "cell_type": "code",
   "execution_count": null,
   "id": "d888f958-b2dc-4950-8203-0d7c2ad753de",
   "metadata": {},
   "outputs": [],
   "source": []
  }
 ],
 "metadata": {
  "kernelspec": {
   "display_name": "Python 3 (ipykernel)",
   "language": "python",
   "name": "python3"
  },
  "language_info": {
   "codemirror_mode": {
    "name": "ipython",
    "version": 3
   },
   "file_extension": ".py",
   "mimetype": "text/x-python",
   "name": "python",
   "nbconvert_exporter": "python",
   "pygments_lexer": "ipython3",
   "version": "3.12.4"
  }
 },
 "nbformat": 4,
 "nbformat_minor": 5
}
