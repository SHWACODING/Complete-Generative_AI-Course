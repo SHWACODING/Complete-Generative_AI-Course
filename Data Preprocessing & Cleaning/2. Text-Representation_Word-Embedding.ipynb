{
 "cells": [
  {
   "cell_type": "markdown",
   "id": "c4199b85-8571-4703-9c95-1f74a1813ee1",
   "metadata": {},
   "source": [
    "## Some Common Terms To Remember:\n",
    "    1. Corpus\n",
    "    2. Vocabulary\n",
    "    3. Document\n",
    "    4. Word"
   ]
  },
  {
   "cell_type": "markdown",
   "id": "92bdef79-0f09-4278-b29a-c9dceba442ce",
   "metadata": {},
   "source": [
    "## Bag Of Words - BOW"
   ]
  },
  {
   "cell_type": "code",
   "execution_count": 5,
   "id": "c59dae16-2389-4ccb-bbb2-fa14403181ac",
   "metadata": {},
   "outputs": [],
   "source": [
    "import numpy as np\n",
    "import pandas as pd"
   ]
  },
  {
   "cell_type": "code",
   "execution_count": 21,
   "id": "85cc092e-7d10-492a-aa47-1f15cda23123",
   "metadata": {},
   "outputs": [
    {
     "data": {
      "text/html": [
       "<div>\n",
       "<style scoped>\n",
       "    .dataframe tbody tr th:only-of-type {\n",
       "        vertical-align: middle;\n",
       "    }\n",
       "\n",
       "    .dataframe tbody tr th {\n",
       "        vertical-align: top;\n",
       "    }\n",
       "\n",
       "    .dataframe thead th {\n",
       "        text-align: right;\n",
       "    }\n",
       "</style>\n",
       "<table border=\"1\" class=\"dataframe\">\n",
       "  <thead>\n",
       "    <tr style=\"text-align: right;\">\n",
       "      <th></th>\n",
       "      <th>text</th>\n",
       "      <th>output</th>\n",
       "    </tr>\n",
       "  </thead>\n",
       "  <tbody>\n",
       "    <tr>\n",
       "      <th>0</th>\n",
       "      <td>people watch shwatech</td>\n",
       "      <td>1</td>\n",
       "    </tr>\n",
       "    <tr>\n",
       "      <th>1</th>\n",
       "      <td>shwatech watch shwatech</td>\n",
       "      <td>1</td>\n",
       "    </tr>\n",
       "    <tr>\n",
       "      <th>2</th>\n",
       "      <td>people write comment</td>\n",
       "      <td>0</td>\n",
       "    </tr>\n",
       "    <tr>\n",
       "      <th>3</th>\n",
       "      <td>shwatech write comment</td>\n",
       "      <td>0</td>\n",
       "    </tr>\n",
       "  </tbody>\n",
       "</table>\n",
       "</div>"
      ],
      "text/plain": [
       "                      text  output\n",
       "0    people watch shwatech       1\n",
       "1  shwatech watch shwatech       1\n",
       "2     people write comment       0\n",
       "3   shwatech write comment       0"
      ]
     },
     "execution_count": 21,
     "metadata": {},
     "output_type": "execute_result"
    }
   ],
   "source": [
    "df = pd.DataFrame({\n",
    "    \"text\": [\n",
    "        \"people watch shwatech\",\n",
    "        \"shwatech watch shwatech\",\n",
    "        \"people write comment\",\n",
    "        \"shwatech write comment\"\n",
    "    ],\n",
    "    \"output\": [\n",
    "        1,\n",
    "        1,\n",
    "        0,\n",
    "        0\n",
    "    ]\n",
    "})\n",
    "\n",
    "df"
   ]
  },
  {
   "cell_type": "code",
   "execution_count": 23,
   "id": "a8070a55-4014-44ef-8eb9-6e14bce4bfe5",
   "metadata": {},
   "outputs": [],
   "source": [
    "from sklearn.feature_extraction.text import CountVectorizer\n",
    "\n",
    "cv = CountVectorizer()"
   ]
  },
  {
   "cell_type": "code",
   "execution_count": 25,
   "id": "e440f56b-ece0-410c-8597-b5a500f74d48",
   "metadata": {},
   "outputs": [],
   "source": [
    "bow = cv.fit_transform(df['text'])"
   ]
  },
  {
   "cell_type": "code",
   "execution_count": 27,
   "id": "7ebb0197-492d-47be-ba3a-7a38d24b80e7",
   "metadata": {},
   "outputs": [
    {
     "name": "stdout",
     "output_type": "stream",
     "text": [
      "{'people': 1, 'watch': 3, 'shwatech': 2, 'write': 4, 'comment': 0}\n"
     ]
    }
   ],
   "source": [
    "# Vocabulary ??\n",
    "print(cv.vocabulary_)"
   ]
  },
  {
   "cell_type": "code",
   "execution_count": 29,
   "id": "24e518c7-c7cf-4b4c-8e96-d8966c239b23",
   "metadata": {},
   "outputs": [
    {
     "data": {
      "text/plain": [
       "array([[0, 1, 1, 1, 0],\n",
       "       [0, 0, 2, 1, 0],\n",
       "       [1, 1, 0, 0, 1],\n",
       "       [1, 0, 1, 0, 1]], dtype=int64)"
      ]
     },
     "execution_count": 29,
     "metadata": {},
     "output_type": "execute_result"
    }
   ],
   "source": [
    "bow.toarray()"
   ]
  },
  {
   "cell_type": "code",
   "execution_count": 31,
   "id": "73fef8d5-fb8c-4127-a74a-2d5ebbcb500c",
   "metadata": {},
   "outputs": [
    {
     "name": "stdout",
     "output_type": "stream",
     "text": [
      "[[0 1 1 1 0]]\n",
      "[[0 0 2 1 0]]\n",
      "[[1 1 0 0 1]]\n",
      "[[1 0 1 0 1]]\n"
     ]
    }
   ],
   "source": [
    "print(bow[0].toarray())\n",
    "print(bow[1].toarray())\n",
    "print(bow[2].toarray())\n",
    "print(bow[3].toarray())"
   ]
  },
  {
   "cell_type": "code",
   "execution_count": 33,
   "id": "4db2351b-3296-4a74-a2b9-8bee48b4677d",
   "metadata": {},
   "outputs": [],
   "source": [
    "X = bow.toarray()\n",
    "\n",
    "y = df['output']"
   ]
  },
  {
   "cell_type": "code",
   "execution_count": null,
   "id": "aa6518da-6d83-4dde-9b37-f99c7a30adf5",
   "metadata": {},
   "outputs": [],
   "source": []
  },
  {
   "cell_type": "markdown",
   "id": "6680f9e4-f690-4ab9-a61e-03e8b01def8f",
   "metadata": {},
   "source": [
    "## N-grams"
   ]
  },
  {
   "cell_type": "code",
   "execution_count": 36,
   "id": "5242f424-8a4f-4c0b-babd-2153409c7734",
   "metadata": {},
   "outputs": [
    {
     "data": {
      "text/html": [
       "<div>\n",
       "<style scoped>\n",
       "    .dataframe tbody tr th:only-of-type {\n",
       "        vertical-align: middle;\n",
       "    }\n",
       "\n",
       "    .dataframe tbody tr th {\n",
       "        vertical-align: top;\n",
       "    }\n",
       "\n",
       "    .dataframe thead th {\n",
       "        text-align: right;\n",
       "    }\n",
       "</style>\n",
       "<table border=\"1\" class=\"dataframe\">\n",
       "  <thead>\n",
       "    <tr style=\"text-align: right;\">\n",
       "      <th></th>\n",
       "      <th>text</th>\n",
       "      <th>output</th>\n",
       "    </tr>\n",
       "  </thead>\n",
       "  <tbody>\n",
       "    <tr>\n",
       "      <th>0</th>\n",
       "      <td>people watch shwatech</td>\n",
       "      <td>1</td>\n",
       "    </tr>\n",
       "    <tr>\n",
       "      <th>1</th>\n",
       "      <td>shwatech watch shwatech</td>\n",
       "      <td>1</td>\n",
       "    </tr>\n",
       "    <tr>\n",
       "      <th>2</th>\n",
       "      <td>people write comment</td>\n",
       "      <td>0</td>\n",
       "    </tr>\n",
       "    <tr>\n",
       "      <th>3</th>\n",
       "      <td>shwatech write comment</td>\n",
       "      <td>0</td>\n",
       "    </tr>\n",
       "  </tbody>\n",
       "</table>\n",
       "</div>"
      ],
      "text/plain": [
       "                      text  output\n",
       "0    people watch shwatech       1\n",
       "1  shwatech watch shwatech       1\n",
       "2     people write comment       0\n",
       "3   shwatech write comment       0"
      ]
     },
     "execution_count": 36,
     "metadata": {},
     "output_type": "execute_result"
    }
   ],
   "source": [
    "df = pd.DataFrame({\n",
    "    \"text\": [\n",
    "        \"people watch shwatech\",\n",
    "        \"shwatech watch shwatech\",\n",
    "        \"people write comment\",\n",
    "        \"shwatech write comment\"\n",
    "    ],\n",
    "    \"output\": [\n",
    "        1,\n",
    "        1,\n",
    "        0,\n",
    "        0\n",
    "    ]\n",
    "})\n",
    "\n",
    "df"
   ]
  },
  {
   "cell_type": "code",
   "execution_count": 56,
   "id": "1c704032-35e7-4792-8afc-b283b62927ea",
   "metadata": {},
   "outputs": [],
   "source": [
    "from sklearn.feature_extraction.text import CountVectorizer"
   ]
  },
  {
   "cell_type": "code",
   "execution_count": 58,
   "id": "5ea00f19-a8b8-4016-ad34-514d7d5a08d5",
   "metadata": {},
   "outputs": [],
   "source": [
    "# BI Grams\n",
    "BI_cv = CountVectorizer(ngram_range=(2, 2))"
   ]
  },
  {
   "cell_type": "code",
   "execution_count": 46,
   "id": "ce5a2174-e7d3-42a4-90ea-e7030012e5af",
   "metadata": {},
   "outputs": [],
   "source": [
    "bow = BI_cv.fit_transform(df['text'])"
   ]
  },
  {
   "cell_type": "code",
   "execution_count": 48,
   "id": "c46b5815-5b55-4c41-bd19-509ee8ea1ae4",
   "metadata": {},
   "outputs": [
    {
     "name": "stdout",
     "output_type": "stream",
     "text": [
      "{'people watch': 0, 'watch shwatech': 4, 'shwatech watch': 2, 'people write': 1, 'write comment': 5, 'shwatech write': 3}\n"
     ]
    }
   ],
   "source": [
    "print(BI_cv.vocabulary_)"
   ]
  },
  {
   "cell_type": "code",
   "execution_count": 50,
   "id": "7e4bbbb7-a590-47cb-9d43-428378c0c870",
   "metadata": {},
   "outputs": [],
   "source": [
    "# Tri Grams\n",
    "Tri_cv = CountVectorizer(ngram_range=(3, 3))"
   ]
  },
  {
   "cell_type": "code",
   "execution_count": 52,
   "id": "2581bbd3-384f-45ab-8523-0cf8f5afa0c1",
   "metadata": {},
   "outputs": [],
   "source": [
    "bow = Tri_cv.fit_transform(df['text'])"
   ]
  },
  {
   "cell_type": "code",
   "execution_count": 54,
   "id": "249a9e34-408f-40e5-ba0d-59870fc026d4",
   "metadata": {},
   "outputs": [
    {
     "name": "stdout",
     "output_type": "stream",
     "text": [
      "{'people watch shwatech': 0, 'shwatech watch shwatech': 2, 'people write comment': 1, 'shwatech write comment': 3}\n"
     ]
    }
   ],
   "source": [
    "print(Tri_cv.vocabulary_)"
   ]
  },
  {
   "cell_type": "markdown",
   "id": "ca3e3989-5572-4c39-ad93-17f8cceb29bf",
   "metadata": {},
   "source": [
    "## TF-IDF (Term Frequency - Inverse Term Frequency)"
   ]
  },
  {
   "cell_type": "code",
   "execution_count": 61,
   "id": "be6b92d5-1100-4ef3-9e39-f1863d4e79dd",
   "metadata": {},
   "outputs": [
    {
     "data": {
      "text/html": [
       "<div>\n",
       "<style scoped>\n",
       "    .dataframe tbody tr th:only-of-type {\n",
       "        vertical-align: middle;\n",
       "    }\n",
       "\n",
       "    .dataframe tbody tr th {\n",
       "        vertical-align: top;\n",
       "    }\n",
       "\n",
       "    .dataframe thead th {\n",
       "        text-align: right;\n",
       "    }\n",
       "</style>\n",
       "<table border=\"1\" class=\"dataframe\">\n",
       "  <thead>\n",
       "    <tr style=\"text-align: right;\">\n",
       "      <th></th>\n",
       "      <th>text</th>\n",
       "      <th>output</th>\n",
       "    </tr>\n",
       "  </thead>\n",
       "  <tbody>\n",
       "    <tr>\n",
       "      <th>0</th>\n",
       "      <td>people watch shwatech</td>\n",
       "      <td>1</td>\n",
       "    </tr>\n",
       "    <tr>\n",
       "      <th>1</th>\n",
       "      <td>shwatech watch shwatech</td>\n",
       "      <td>1</td>\n",
       "    </tr>\n",
       "    <tr>\n",
       "      <th>2</th>\n",
       "      <td>people write comment</td>\n",
       "      <td>0</td>\n",
       "    </tr>\n",
       "    <tr>\n",
       "      <th>3</th>\n",
       "      <td>shwatech write comment</td>\n",
       "      <td>0</td>\n",
       "    </tr>\n",
       "  </tbody>\n",
       "</table>\n",
       "</div>"
      ],
      "text/plain": [
       "                      text  output\n",
       "0    people watch shwatech       1\n",
       "1  shwatech watch shwatech       1\n",
       "2     people write comment       0\n",
       "3   shwatech write comment       0"
      ]
     },
     "execution_count": 61,
     "metadata": {},
     "output_type": "execute_result"
    }
   ],
   "source": [
    "df = pd.DataFrame({\n",
    "    \"text\": [\n",
    "        \"people watch shwatech\",\n",
    "        \"shwatech watch shwatech\",\n",
    "        \"people write comment\",\n",
    "        \"shwatech write comment\"\n",
    "    ],\n",
    "    \"output\": [\n",
    "        1,\n",
    "        1,\n",
    "        0,\n",
    "        0\n",
    "    ]\n",
    "})\n",
    "\n",
    "df"
   ]
  },
  {
   "cell_type": "code",
   "execution_count": 65,
   "id": "10286681-0585-4233-8d9b-2c30264883c7",
   "metadata": {},
   "outputs": [],
   "source": [
    "from sklearn.feature_extraction.text import TfidfVectorizer\n",
    "\n",
    "TF_IDF = TfidfVectorizer()"
   ]
  },
  {
   "cell_type": "code",
   "execution_count": 67,
   "id": "45105058-d58e-4494-801f-dbdeb0e961a9",
   "metadata": {},
   "outputs": [],
   "source": [
    "arr = TF_IDF.fit_transform(df['text']).toarray()"
   ]
  },
  {
   "cell_type": "code",
   "execution_count": 68,
   "id": "c99f2a38-f799-4041-bad9-70ba2bda9708",
   "metadata": {},
   "outputs": [
    {
     "data": {
      "text/plain": [
       "array([[0.        , 0.61366674, 0.49681612, 0.61366674, 0.        ],\n",
       "       [0.        , 0.        , 0.8508161 , 0.52546357, 0.        ],\n",
       "       [0.57735027, 0.57735027, 0.        , 0.        , 0.57735027],\n",
       "       [0.61366674, 0.        , 0.49681612, 0.        , 0.61366674]])"
      ]
     },
     "execution_count": 68,
     "metadata": {},
     "output_type": "execute_result"
    }
   ],
   "source": [
    "arr"
   ]
  },
  {
   "cell_type": "code",
   "execution_count": 71,
   "id": "57353ff4-c439-4b39-91db-346105571c08",
   "metadata": {},
   "outputs": [
    {
     "name": "stdout",
     "output_type": "stream",
     "text": [
      "[1.51082562 1.51082562 1.22314355 1.51082562 1.51082562]\n"
     ]
    }
   ],
   "source": [
    "print(TF_IDF.idf_)"
   ]
  },
  {
   "cell_type": "code",
   "execution_count": null,
   "id": "56300482-90ee-4627-a7cb-8e77dc40a2aa",
   "metadata": {},
   "outputs": [],
   "source": []
  }
 ],
 "metadata": {
  "kernelspec": {
   "display_name": "Python 3 (ipykernel)",
   "language": "python",
   "name": "python3"
  },
  "language_info": {
   "codemirror_mode": {
    "name": "ipython",
    "version": 3
   },
   "file_extension": ".py",
   "mimetype": "text/x-python",
   "name": "python",
   "nbconvert_exporter": "python",
   "pygments_lexer": "ipython3",
   "version": "3.12.4"
  }
 },
 "nbformat": 4,
 "nbformat_minor": 5
}
