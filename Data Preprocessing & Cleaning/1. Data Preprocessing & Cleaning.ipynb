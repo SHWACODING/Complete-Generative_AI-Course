{
 "cells": [
  {
   "cell_type": "markdown",
   "id": "e191e39d-d140-4ffd-996e-eaa541ab65e1",
   "metadata": {},
   "source": [
    "## Import Data ??"
   ]
  },
  {
   "cell_type": "code",
   "execution_count": 2,
   "id": "151ddb4b-552c-4402-bd44-e513cb9b768a",
   "metadata": {},
   "outputs": [],
   "source": [
    "import pandas as pd"
   ]
  },
  {
   "cell_type": "code",
   "execution_count": 3,
   "id": "0e908d09-9aab-43f0-b14b-e5f8a0d367bf",
   "metadata": {},
   "outputs": [
    {
     "data": {
      "text/html": [
       "<div>\n",
       "<style scoped>\n",
       "    .dataframe tbody tr th:only-of-type {\n",
       "        vertical-align: middle;\n",
       "    }\n",
       "\n",
       "    .dataframe tbody tr th {\n",
       "        vertical-align: top;\n",
       "    }\n",
       "\n",
       "    .dataframe thead th {\n",
       "        text-align: right;\n",
       "    }\n",
       "</style>\n",
       "<table border=\"1\" class=\"dataframe\">\n",
       "  <thead>\n",
       "    <tr style=\"text-align: right;\">\n",
       "      <th></th>\n",
       "      <th>review</th>\n",
       "      <th>sentiment</th>\n",
       "    </tr>\n",
       "  </thead>\n",
       "  <tbody>\n",
       "    <tr>\n",
       "      <th>0</th>\n",
       "      <td>One of the other reviewers has mentioned that ...</td>\n",
       "      <td>positive</td>\n",
       "    </tr>\n",
       "    <tr>\n",
       "      <th>1</th>\n",
       "      <td>A wonderful little production. &lt;br /&gt;&lt;br /&gt;The...</td>\n",
       "      <td>positive</td>\n",
       "    </tr>\n",
       "    <tr>\n",
       "      <th>2</th>\n",
       "      <td>I thought this was a wonderful way to spend ti...</td>\n",
       "      <td>positive</td>\n",
       "    </tr>\n",
       "    <tr>\n",
       "      <th>3</th>\n",
       "      <td>Basically there's a family where a little boy ...</td>\n",
       "      <td>negative</td>\n",
       "    </tr>\n",
       "    <tr>\n",
       "      <th>4</th>\n",
       "      <td>Petter Mattei's \"Love in the Time of Money\" is...</td>\n",
       "      <td>positive</td>\n",
       "    </tr>\n",
       "    <tr>\n",
       "      <th>...</th>\n",
       "      <td>...</td>\n",
       "      <td>...</td>\n",
       "    </tr>\n",
       "    <tr>\n",
       "      <th>49995</th>\n",
       "      <td>I thought this movie did a down right good job...</td>\n",
       "      <td>positive</td>\n",
       "    </tr>\n",
       "    <tr>\n",
       "      <th>49996</th>\n",
       "      <td>Bad plot, bad dialogue, bad acting, idiotic di...</td>\n",
       "      <td>negative</td>\n",
       "    </tr>\n",
       "    <tr>\n",
       "      <th>49997</th>\n",
       "      <td>I am a Catholic taught in parochial elementary...</td>\n",
       "      <td>negative</td>\n",
       "    </tr>\n",
       "    <tr>\n",
       "      <th>49998</th>\n",
       "      <td>I'm going to have to disagree with the previou...</td>\n",
       "      <td>negative</td>\n",
       "    </tr>\n",
       "    <tr>\n",
       "      <th>49999</th>\n",
       "      <td>No one expects the Star Trek movies to be high...</td>\n",
       "      <td>negative</td>\n",
       "    </tr>\n",
       "  </tbody>\n",
       "</table>\n",
       "<p>50000 rows × 2 columns</p>\n",
       "</div>"
      ],
      "text/plain": [
       "                                                  review sentiment\n",
       "0      One of the other reviewers has mentioned that ...  positive\n",
       "1      A wonderful little production. <br /><br />The...  positive\n",
       "2      I thought this was a wonderful way to spend ti...  positive\n",
       "3      Basically there's a family where a little boy ...  negative\n",
       "4      Petter Mattei's \"Love in the Time of Money\" is...  positive\n",
       "...                                                  ...       ...\n",
       "49995  I thought this movie did a down right good job...  positive\n",
       "49996  Bad plot, bad dialogue, bad acting, idiotic di...  negative\n",
       "49997  I am a Catholic taught in parochial elementary...  negative\n",
       "49998  I'm going to have to disagree with the previou...  negative\n",
       "49999  No one expects the Star Trek movies to be high...  negative\n",
       "\n",
       "[50000 rows x 2 columns]"
      ]
     },
     "execution_count": 3,
     "metadata": {},
     "output_type": "execute_result"
    }
   ],
   "source": [
    "df = pd.read_csv(\"Data/IMDB Dataset.csv\")\n",
    "\n",
    "df"
   ]
  },
  {
   "cell_type": "code",
   "execution_count": 4,
   "id": "13151ba6-4bca-411d-a508-a64557ed38bd",
   "metadata": {},
   "outputs": [
    {
     "data": {
      "text/plain": [
       "(50000, 2)"
      ]
     },
     "execution_count": 4,
     "metadata": {},
     "output_type": "execute_result"
    }
   ],
   "source": [
    "df.shape"
   ]
  },
  {
   "cell_type": "code",
   "execution_count": 5,
   "id": "2a82888f-aae9-4cb8-9b70-9a31b95e039a",
   "metadata": {},
   "outputs": [
    {
     "data": {
      "text/html": [
       "<div>\n",
       "<style scoped>\n",
       "    .dataframe tbody tr th:only-of-type {\n",
       "        vertical-align: middle;\n",
       "    }\n",
       "\n",
       "    .dataframe tbody tr th {\n",
       "        vertical-align: top;\n",
       "    }\n",
       "\n",
       "    .dataframe thead th {\n",
       "        text-align: right;\n",
       "    }\n",
       "</style>\n",
       "<table border=\"1\" class=\"dataframe\">\n",
       "  <thead>\n",
       "    <tr style=\"text-align: right;\">\n",
       "      <th></th>\n",
       "      <th>review</th>\n",
       "      <th>sentiment</th>\n",
       "    </tr>\n",
       "  </thead>\n",
       "  <tbody>\n",
       "    <tr>\n",
       "      <th>count</th>\n",
       "      <td>50000</td>\n",
       "      <td>50000</td>\n",
       "    </tr>\n",
       "    <tr>\n",
       "      <th>unique</th>\n",
       "      <td>49582</td>\n",
       "      <td>2</td>\n",
       "    </tr>\n",
       "    <tr>\n",
       "      <th>top</th>\n",
       "      <td>Loved today's show!!! It was a variety and not...</td>\n",
       "      <td>positive</td>\n",
       "    </tr>\n",
       "    <tr>\n",
       "      <th>freq</th>\n",
       "      <td>5</td>\n",
       "      <td>25000</td>\n",
       "    </tr>\n",
       "  </tbody>\n",
       "</table>\n",
       "</div>"
      ],
      "text/plain": [
       "                                                   review sentiment\n",
       "count                                               50000     50000\n",
       "unique                                              49582         2\n",
       "top     Loved today's show!!! It was a variety and not...  positive\n",
       "freq                                                    5     25000"
      ]
     },
     "execution_count": 5,
     "metadata": {},
     "output_type": "execute_result"
    }
   ],
   "source": [
    "df.describe()"
   ]
  },
  {
   "cell_type": "code",
   "execution_count": 6,
   "id": "6470bbb6-f402-4dc9-86fa-fd141355ff8f",
   "metadata": {},
   "outputs": [
    {
     "data": {
      "text/plain": [
       "<bound method NDFrame.describe of                                                   review sentiment\n",
       "0      One of the other reviewers has mentioned that ...  positive\n",
       "1      A wonderful little production. <br /><br />The...  positive\n",
       "2      I thought this was a wonderful way to spend ti...  positive\n",
       "3      Basically there's a family where a little boy ...  negative\n",
       "4      Petter Mattei's \"Love in the Time of Money\" is...  positive\n",
       "...                                                  ...       ...\n",
       "49995  I thought this movie did a down right good job...  positive\n",
       "49996  Bad plot, bad dialogue, bad acting, idiotic di...  negative\n",
       "49997  I am a Catholic taught in parochial elementary...  negative\n",
       "49998  I'm going to have to disagree with the previou...  negative\n",
       "49999  No one expects the Star Trek movies to be high...  negative\n",
       "\n",
       "[50000 rows x 2 columns]>"
      ]
     },
     "execution_count": 6,
     "metadata": {},
     "output_type": "execute_result"
    }
   ],
   "source": [
    "df.describe"
   ]
  },
  {
   "cell_type": "code",
   "execution_count": 7,
   "id": "a7b9c90a-9776-488d-8a91-0dfc23176d02",
   "metadata": {},
   "outputs": [
    {
     "data": {
      "text/html": [
       "<div>\n",
       "<style scoped>\n",
       "    .dataframe tbody tr th:only-of-type {\n",
       "        vertical-align: middle;\n",
       "    }\n",
       "\n",
       "    .dataframe tbody tr th {\n",
       "        vertical-align: top;\n",
       "    }\n",
       "\n",
       "    .dataframe thead th {\n",
       "        text-align: right;\n",
       "    }\n",
       "</style>\n",
       "<table border=\"1\" class=\"dataframe\">\n",
       "  <thead>\n",
       "    <tr style=\"text-align: right;\">\n",
       "      <th></th>\n",
       "      <th>review</th>\n",
       "      <th>sentiment</th>\n",
       "    </tr>\n",
       "  </thead>\n",
       "  <tbody>\n",
       "    <tr>\n",
       "      <th>0</th>\n",
       "      <td>One of the other reviewers has mentioned that ...</td>\n",
       "      <td>positive</td>\n",
       "    </tr>\n",
       "    <tr>\n",
       "      <th>1</th>\n",
       "      <td>A wonderful little production. &lt;br /&gt;&lt;br /&gt;The...</td>\n",
       "      <td>positive</td>\n",
       "    </tr>\n",
       "    <tr>\n",
       "      <th>2</th>\n",
       "      <td>I thought this was a wonderful way to spend ti...</td>\n",
       "      <td>positive</td>\n",
       "    </tr>\n",
       "    <tr>\n",
       "      <th>3</th>\n",
       "      <td>Basically there's a family where a little boy ...</td>\n",
       "      <td>negative</td>\n",
       "    </tr>\n",
       "    <tr>\n",
       "      <th>4</th>\n",
       "      <td>Petter Mattei's \"Love in the Time of Money\" is...</td>\n",
       "      <td>positive</td>\n",
       "    </tr>\n",
       "    <tr>\n",
       "      <th>...</th>\n",
       "      <td>...</td>\n",
       "      <td>...</td>\n",
       "    </tr>\n",
       "    <tr>\n",
       "      <th>95</th>\n",
       "      <td>Daniel Day-Lewis is the most versatile actor a...</td>\n",
       "      <td>positive</td>\n",
       "    </tr>\n",
       "    <tr>\n",
       "      <th>96</th>\n",
       "      <td>My guess would be this was originally going to...</td>\n",
       "      <td>negative</td>\n",
       "    </tr>\n",
       "    <tr>\n",
       "      <th>97</th>\n",
       "      <td>Well, I like to watch bad horror B-Movies, cau...</td>\n",
       "      <td>negative</td>\n",
       "    </tr>\n",
       "    <tr>\n",
       "      <th>98</th>\n",
       "      <td>This IS the worst movie I have ever seen, as w...</td>\n",
       "      <td>negative</td>\n",
       "    </tr>\n",
       "    <tr>\n",
       "      <th>99</th>\n",
       "      <td>I have been a Mario fan for as long as I can r...</td>\n",
       "      <td>positive</td>\n",
       "    </tr>\n",
       "  </tbody>\n",
       "</table>\n",
       "<p>100 rows × 2 columns</p>\n",
       "</div>"
      ],
      "text/plain": [
       "                                               review sentiment\n",
       "0   One of the other reviewers has mentioned that ...  positive\n",
       "1   A wonderful little production. <br /><br />The...  positive\n",
       "2   I thought this was a wonderful way to spend ti...  positive\n",
       "3   Basically there's a family where a little boy ...  negative\n",
       "4   Petter Mattei's \"Love in the Time of Money\" is...  positive\n",
       "..                                                ...       ...\n",
       "95  Daniel Day-Lewis is the most versatile actor a...  positive\n",
       "96  My guess would be this was originally going to...  negative\n",
       "97  Well, I like to watch bad horror B-Movies, cau...  negative\n",
       "98  This IS the worst movie I have ever seen, as w...  negative\n",
       "99  I have been a Mario fan for as long as I can r...  positive\n",
       "\n",
       "[100 rows x 2 columns]"
      ]
     },
     "execution_count": 7,
     "metadata": {},
     "output_type": "execute_result"
    }
   ],
   "source": [
    "df = df.head(100)\n",
    "\n",
    "df"
   ]
  },
  {
   "cell_type": "code",
   "execution_count": 8,
   "id": "fec677ef-df49-496d-97a2-86f3837d6bed",
   "metadata": {},
   "outputs": [
    {
     "data": {
      "text/plain": [
       "(100, 2)"
      ]
     },
     "execution_count": 8,
     "metadata": {},
     "output_type": "execute_result"
    }
   ],
   "source": [
    "df.shape"
   ]
  },
  {
   "cell_type": "markdown",
   "id": "b375293e-8339-418d-a185-f0bc1177af13",
   "metadata": {},
   "source": [
    "## Lowercase Dataframe ??"
   ]
  },
  {
   "cell_type": "code",
   "execution_count": 10,
   "id": "c1ebeeea-0bd8-435d-a0c8-6b5499717d86",
   "metadata": {},
   "outputs": [
    {
     "data": {
      "text/plain": [
       "'Probably my all-time favorite movie, a story of selflessness, sacrifice and dedication to a noble cause, but it\\'s not preachy or boring. It just never gets old, despite my having seen it some 15 or more times in the last 25 years. Paul Lukas\\' performance brings tears to my eyes, and Bette Davis, in one of her very few truly sympathetic roles, is a delight. The kids are, as grandma says, more like \"dressed-up midgets\" than children, but that only makes them more fun to watch. And the mother\\'s slow awakening to what\\'s happening in the world and under her own roof is believable and startling. If I had a dozen thumbs, they\\'d all be \"up\" for this movie.'"
      ]
     },
     "execution_count": 10,
     "metadata": {},
     "output_type": "execute_result"
    }
   ],
   "source": [
    "df['review'][5]"
   ]
  },
  {
   "cell_type": "code",
   "execution_count": 11,
   "id": "8a438f89-1d67-49e9-a778-38c0f6f722b1",
   "metadata": {},
   "outputs": [
    {
     "name": "stderr",
     "output_type": "stream",
     "text": [
      "C:\\Users\\hp\\AppData\\Local\\Temp\\ipykernel_16376\\724319867.py:1: SettingWithCopyWarning: \n",
      "A value is trying to be set on a copy of a slice from a DataFrame.\n",
      "Try using .loc[row_indexer,col_indexer] = value instead\n",
      "\n",
      "See the caveats in the documentation: https://pandas.pydata.org/pandas-docs/stable/user_guide/indexing.html#returning-a-view-versus-a-copy\n",
      "  df['review'] = df['review'].str.lower()\n"
     ]
    }
   ],
   "source": [
    "df['review'] = df['review'].str.lower()"
   ]
  },
  {
   "cell_type": "code",
   "execution_count": 12,
   "id": "42ebcdaf-1712-4a70-827b-ea44b5029dfb",
   "metadata": {},
   "outputs": [
    {
     "data": {
      "text/html": [
       "<div>\n",
       "<style scoped>\n",
       "    .dataframe tbody tr th:only-of-type {\n",
       "        vertical-align: middle;\n",
       "    }\n",
       "\n",
       "    .dataframe tbody tr th {\n",
       "        vertical-align: top;\n",
       "    }\n",
       "\n",
       "    .dataframe thead th {\n",
       "        text-align: right;\n",
       "    }\n",
       "</style>\n",
       "<table border=\"1\" class=\"dataframe\">\n",
       "  <thead>\n",
       "    <tr style=\"text-align: right;\">\n",
       "      <th></th>\n",
       "      <th>review</th>\n",
       "      <th>sentiment</th>\n",
       "    </tr>\n",
       "  </thead>\n",
       "  <tbody>\n",
       "    <tr>\n",
       "      <th>0</th>\n",
       "      <td>one of the other reviewers has mentioned that ...</td>\n",
       "      <td>positive</td>\n",
       "    </tr>\n",
       "    <tr>\n",
       "      <th>1</th>\n",
       "      <td>a wonderful little production. &lt;br /&gt;&lt;br /&gt;the...</td>\n",
       "      <td>positive</td>\n",
       "    </tr>\n",
       "    <tr>\n",
       "      <th>2</th>\n",
       "      <td>i thought this was a wonderful way to spend ti...</td>\n",
       "      <td>positive</td>\n",
       "    </tr>\n",
       "    <tr>\n",
       "      <th>3</th>\n",
       "      <td>basically there's a family where a little boy ...</td>\n",
       "      <td>negative</td>\n",
       "    </tr>\n",
       "    <tr>\n",
       "      <th>4</th>\n",
       "      <td>petter mattei's \"love in the time of money\" is...</td>\n",
       "      <td>positive</td>\n",
       "    </tr>\n",
       "    <tr>\n",
       "      <th>...</th>\n",
       "      <td>...</td>\n",
       "      <td>...</td>\n",
       "    </tr>\n",
       "    <tr>\n",
       "      <th>95</th>\n",
       "      <td>daniel day-lewis is the most versatile actor a...</td>\n",
       "      <td>positive</td>\n",
       "    </tr>\n",
       "    <tr>\n",
       "      <th>96</th>\n",
       "      <td>my guess would be this was originally going to...</td>\n",
       "      <td>negative</td>\n",
       "    </tr>\n",
       "    <tr>\n",
       "      <th>97</th>\n",
       "      <td>well, i like to watch bad horror b-movies, cau...</td>\n",
       "      <td>negative</td>\n",
       "    </tr>\n",
       "    <tr>\n",
       "      <th>98</th>\n",
       "      <td>this is the worst movie i have ever seen, as w...</td>\n",
       "      <td>negative</td>\n",
       "    </tr>\n",
       "    <tr>\n",
       "      <th>99</th>\n",
       "      <td>i have been a mario fan for as long as i can r...</td>\n",
       "      <td>positive</td>\n",
       "    </tr>\n",
       "  </tbody>\n",
       "</table>\n",
       "<p>100 rows × 2 columns</p>\n",
       "</div>"
      ],
      "text/plain": [
       "                                               review sentiment\n",
       "0   one of the other reviewers has mentioned that ...  positive\n",
       "1   a wonderful little production. <br /><br />the...  positive\n",
       "2   i thought this was a wonderful way to spend ti...  positive\n",
       "3   basically there's a family where a little boy ...  negative\n",
       "4   petter mattei's \"love in the time of money\" is...  positive\n",
       "..                                                ...       ...\n",
       "95  daniel day-lewis is the most versatile actor a...  positive\n",
       "96  my guess would be this was originally going to...  negative\n",
       "97  well, i like to watch bad horror b-movies, cau...  negative\n",
       "98  this is the worst movie i have ever seen, as w...  negative\n",
       "99  i have been a mario fan for as long as i can r...  positive\n",
       "\n",
       "[100 rows x 2 columns]"
      ]
     },
     "execution_count": 12,
     "metadata": {},
     "output_type": "execute_result"
    }
   ],
   "source": [
    "df"
   ]
  },
  {
   "cell_type": "code",
   "execution_count": 13,
   "id": "34aadc8b-c090-40b8-bab3-1ed0ef7784f2",
   "metadata": {},
   "outputs": [
    {
     "data": {
      "text/plain": [
       "'probably my all-time favorite movie, a story of selflessness, sacrifice and dedication to a noble cause, but it\\'s not preachy or boring. it just never gets old, despite my having seen it some 15 or more times in the last 25 years. paul lukas\\' performance brings tears to my eyes, and bette davis, in one of her very few truly sympathetic roles, is a delight. the kids are, as grandma says, more like \"dressed-up midgets\" than children, but that only makes them more fun to watch. and the mother\\'s slow awakening to what\\'s happening in the world and under her own roof is believable and startling. if i had a dozen thumbs, they\\'d all be \"up\" for this movie.'"
      ]
     },
     "execution_count": 13,
     "metadata": {},
     "output_type": "execute_result"
    }
   ],
   "source": [
    "df['review'][5]"
   ]
  },
  {
   "cell_type": "markdown",
   "id": "0d2310b2-a64d-4264-9f7b-06167cbad97a",
   "metadata": {},
   "source": [
    "## Remove HTML Tags ??"
   ]
  },
  {
   "cell_type": "code",
   "execution_count": 15,
   "id": "d58137c1-1309-4d10-8b2b-def9a984bd0f",
   "metadata": {},
   "outputs": [],
   "source": [
    "import re\n",
    "\n",
    "def Remove_HTML_Tags (text):\n",
    "    pattern = re.compile(\"<.*?>\")\n",
    "    return pattern.sub(r\"\", text)"
   ]
  },
  {
   "cell_type": "code",
   "execution_count": 16,
   "id": "9b714f49-0402-4f85-addc-d2ac8114983a",
   "metadata": {},
   "outputs": [
    {
     "data": {
      "text/plain": [
       "\"Welcome to My Page!This is a paragraph of text. It's great to have you here.\""
      ]
     },
     "execution_count": 16,
     "metadata": {},
     "output_type": "execute_result"
    }
   ],
   "source": [
    "text = \"<html><body><h1>Welcome to My Page!</h1><p>This is a paragraph of text. It's great to have you here.</p></body></html>\"\n",
    "\n",
    "Remove_HTML_Tags(text)"
   ]
  },
  {
   "cell_type": "code",
   "execution_count": 17,
   "id": "118d4289-c046-4387-8282-d603383be5e4",
   "metadata": {},
   "outputs": [
    {
     "name": "stderr",
     "output_type": "stream",
     "text": [
      "C:\\Users\\hp\\AppData\\Local\\Temp\\ipykernel_16376\\103868032.py:1: SettingWithCopyWarning: \n",
      "A value is trying to be set on a copy of a slice from a DataFrame.\n",
      "Try using .loc[row_indexer,col_indexer] = value instead\n",
      "\n",
      "See the caveats in the documentation: https://pandas.pydata.org/pandas-docs/stable/user_guide/indexing.html#returning-a-view-versus-a-copy\n",
      "  df['review'] = df['review'].apply(Remove_HTML_Tags)\n"
     ]
    }
   ],
   "source": [
    "df['review'] = df['review'].apply(Remove_HTML_Tags)"
   ]
  },
  {
   "cell_type": "code",
   "execution_count": 18,
   "id": "4d6c8043-1ce8-4680-b028-efc303fb9923",
   "metadata": {},
   "outputs": [
    {
     "data": {
      "text/html": [
       "<div>\n",
       "<style scoped>\n",
       "    .dataframe tbody tr th:only-of-type {\n",
       "        vertical-align: middle;\n",
       "    }\n",
       "\n",
       "    .dataframe tbody tr th {\n",
       "        vertical-align: top;\n",
       "    }\n",
       "\n",
       "    .dataframe thead th {\n",
       "        text-align: right;\n",
       "    }\n",
       "</style>\n",
       "<table border=\"1\" class=\"dataframe\">\n",
       "  <thead>\n",
       "    <tr style=\"text-align: right;\">\n",
       "      <th></th>\n",
       "      <th>review</th>\n",
       "      <th>sentiment</th>\n",
       "    </tr>\n",
       "  </thead>\n",
       "  <tbody>\n",
       "    <tr>\n",
       "      <th>0</th>\n",
       "      <td>one of the other reviewers has mentioned that ...</td>\n",
       "      <td>positive</td>\n",
       "    </tr>\n",
       "    <tr>\n",
       "      <th>1</th>\n",
       "      <td>a wonderful little production. the filming tec...</td>\n",
       "      <td>positive</td>\n",
       "    </tr>\n",
       "    <tr>\n",
       "      <th>2</th>\n",
       "      <td>i thought this was a wonderful way to spend ti...</td>\n",
       "      <td>positive</td>\n",
       "    </tr>\n",
       "    <tr>\n",
       "      <th>3</th>\n",
       "      <td>basically there's a family where a little boy ...</td>\n",
       "      <td>negative</td>\n",
       "    </tr>\n",
       "    <tr>\n",
       "      <th>4</th>\n",
       "      <td>petter mattei's \"love in the time of money\" is...</td>\n",
       "      <td>positive</td>\n",
       "    </tr>\n",
       "    <tr>\n",
       "      <th>...</th>\n",
       "      <td>...</td>\n",
       "      <td>...</td>\n",
       "    </tr>\n",
       "    <tr>\n",
       "      <th>95</th>\n",
       "      <td>daniel day-lewis is the most versatile actor a...</td>\n",
       "      <td>positive</td>\n",
       "    </tr>\n",
       "    <tr>\n",
       "      <th>96</th>\n",
       "      <td>my guess would be this was originally going to...</td>\n",
       "      <td>negative</td>\n",
       "    </tr>\n",
       "    <tr>\n",
       "      <th>97</th>\n",
       "      <td>well, i like to watch bad horror b-movies, cau...</td>\n",
       "      <td>negative</td>\n",
       "    </tr>\n",
       "    <tr>\n",
       "      <th>98</th>\n",
       "      <td>this is the worst movie i have ever seen, as w...</td>\n",
       "      <td>negative</td>\n",
       "    </tr>\n",
       "    <tr>\n",
       "      <th>99</th>\n",
       "      <td>i have been a mario fan for as long as i can r...</td>\n",
       "      <td>positive</td>\n",
       "    </tr>\n",
       "  </tbody>\n",
       "</table>\n",
       "<p>100 rows × 2 columns</p>\n",
       "</div>"
      ],
      "text/plain": [
       "                                               review sentiment\n",
       "0   one of the other reviewers has mentioned that ...  positive\n",
       "1   a wonderful little production. the filming tec...  positive\n",
       "2   i thought this was a wonderful way to spend ti...  positive\n",
       "3   basically there's a family where a little boy ...  negative\n",
       "4   petter mattei's \"love in the time of money\" is...  positive\n",
       "..                                                ...       ...\n",
       "95  daniel day-lewis is the most versatile actor a...  positive\n",
       "96  my guess would be this was originally going to...  negative\n",
       "97  well, i like to watch bad horror b-movies, cau...  negative\n",
       "98  this is the worst movie i have ever seen, as w...  negative\n",
       "99  i have been a mario fan for as long as i can r...  positive\n",
       "\n",
       "[100 rows x 2 columns]"
      ]
     },
     "execution_count": 18,
     "metadata": {},
     "output_type": "execute_result"
    }
   ],
   "source": [
    "df"
   ]
  },
  {
   "cell_type": "code",
   "execution_count": 19,
   "id": "5e8d27a7-c110-467a-9070-172665986520",
   "metadata": {},
   "outputs": [
    {
     "data": {
      "text/plain": [
       "'probably my all-time favorite movie, a story of selflessness, sacrifice and dedication to a noble cause, but it\\'s not preachy or boring. it just never gets old, despite my having seen it some 15 or more times in the last 25 years. paul lukas\\' performance brings tears to my eyes, and bette davis, in one of her very few truly sympathetic roles, is a delight. the kids are, as grandma says, more like \"dressed-up midgets\" than children, but that only makes them more fun to watch. and the mother\\'s slow awakening to what\\'s happening in the world and under her own roof is believable and startling. if i had a dozen thumbs, they\\'d all be \"up\" for this movie.'"
      ]
     },
     "execution_count": 19,
     "metadata": {},
     "output_type": "execute_result"
    }
   ],
   "source": [
    "df['review'][5]"
   ]
  },
  {
   "cell_type": "code",
   "execution_count": 20,
   "id": "51458b78-d6ea-40f0-9502-802d0785b308",
   "metadata": {},
   "outputs": [],
   "source": [
    "def Remove_URL (text):\n",
    "    pattern = re.compile(r\"https?://\\S+|www\\.\\S+\")\n",
    "    return pattern.sub(r\"\", text)"
   ]
  },
  {
   "cell_type": "code",
   "execution_count": 21,
   "id": "a1b065a7-4a16-4456-aa8c-43cb19facff7",
   "metadata": {},
   "outputs": [
    {
     "data": {
      "text/plain": [
       "'Learn more about our products and services: view our product catalog: '"
      ]
     },
     "execution_count": 21,
     "metadata": {},
     "output_type": "execute_result"
    }
   ],
   "source": [
    "text = \"Learn more about our products and services: view our product catalog: https://www.example.com/products\"\n",
    "\n",
    "Remove_URL(text)"
   ]
  },
  {
   "cell_type": "markdown",
   "id": "10a181c5-dd5e-40e0-bff5-53334e2a7a70",
   "metadata": {},
   "source": [
    "## Punctuation Handling ??"
   ]
  },
  {
   "cell_type": "code",
   "execution_count": 23,
   "id": "b79b6574-ada5-4ad6-9c57-c36232c0f5ea",
   "metadata": {},
   "outputs": [],
   "source": [
    "import string, time"
   ]
  },
  {
   "cell_type": "code",
   "execution_count": 24,
   "id": "02537997-08bf-4dcd-a734-1277c17a4214",
   "metadata": {},
   "outputs": [
    {
     "data": {
      "text/plain": [
       "'!\"#$%&\\'()*+,-./:;<=>?@[\\\\]^_`{|}~'"
      ]
     },
     "execution_count": 24,
     "metadata": {},
     "output_type": "execute_result"
    }
   ],
   "source": [
    "exclude = string.punctuation\n",
    "\n",
    "exclude"
   ]
  },
  {
   "cell_type": "code",
   "execution_count": 25,
   "id": "f9dce6ca-e23d-4159-8f0f-ebd7c848724b",
   "metadata": {},
   "outputs": [],
   "source": [
    "def Remove_Punc1 (text):\n",
    "    for char in exclude:\n",
    "        text = text.replace(char, \"\")\n",
    "    return text"
   ]
  },
  {
   "cell_type": "code",
   "execution_count": 26,
   "id": "54b8587a-6eec-4b2d-8ee1-61dfe1d2df40",
   "metadata": {},
   "outputs": [],
   "source": [
    "def Remove_Punc2 (text):\n",
    "    return text.translate(str.maketrans(\"\", \"\", exclude))"
   ]
  },
  {
   "cell_type": "code",
   "execution_count": 27,
   "id": "5121484e-0dd3-49a4-8497-43162c6f8c65",
   "metadata": {},
   "outputs": [
    {
     "data": {
      "text/plain": [
       "'Wow look at that The sun is setting painting the sky with vibrant hues of orange pink and purple isnt it absolutely breathtaking'"
      ]
     },
     "execution_count": 27,
     "metadata": {},
     "output_type": "execute_result"
    }
   ],
   "source": [
    "text = \"Wow, look at that! The sun is setting, painting the sky with vibrant hues of orange, pink, and purple; isn't it absolutely breathtaking?\"\n",
    "\n",
    "Remove_Punc1(text)"
   ]
  },
  {
   "cell_type": "code",
   "execution_count": 28,
   "id": "ddaa8f62-5617-44a9-afa8-2324cf93c165",
   "metadata": {},
   "outputs": [
    {
     "data": {
      "text/plain": [
       "'Why did the scarecrow win an award Because he was outstanding in his field'"
      ]
     },
     "execution_count": 28,
     "metadata": {},
     "output_type": "execute_result"
    }
   ],
   "source": [
    "text = \"Why did the scarecrow win an award? Because he was outstanding in his field!\"\n",
    "\n",
    "Remove_Punc2(text)"
   ]
  },
  {
   "cell_type": "code",
   "execution_count": 29,
   "id": "1c032c55-fa38-4dd6-a435-0c99dd0c94fe",
   "metadata": {},
   "outputs": [
    {
     "data": {
      "text/plain": [
       "'probably my alltime favorite movie a story of selflessness sacrifice and dedication to a noble cause but its not preachy or boring it just never gets old despite my having seen it some 15 or more times in the last 25 years paul lukas performance brings tears to my eyes and bette davis in one of her very few truly sympathetic roles is a delight the kids are as grandma says more like dressedup midgets than children but that only makes them more fun to watch and the mothers slow awakening to whats happening in the world and under her own roof is believable and startling if i had a dozen thumbs theyd all be up for this movie'"
      ]
     },
     "execution_count": 29,
     "metadata": {},
     "output_type": "execute_result"
    }
   ],
   "source": [
    "Remove_Punc1(df['review'][5])"
   ]
  },
  {
   "cell_type": "markdown",
   "id": "3a514065-7b69-447e-b4ab-1bb7657d54c9",
   "metadata": {},
   "source": [
    "## Chat Conversion Handle ??"
   ]
  },
  {
   "cell_type": "code",
   "execution_count": 31,
   "id": "d4453102-f4a5-4b70-849c-695f6842836c",
   "metadata": {},
   "outputs": [],
   "source": [
    "chat_shortcuts = {\n",
    "    # General/Common\n",
    "    \"BRB\": \"Be Right Back\",\n",
    "    \"LOL\": \"Laughing Out Loud\",\n",
    "    \"OMG\": \"Oh My God / Oh My Gosh\",\n",
    "    \"IDK\": \"I Don't Know\",\n",
    "    \"IKR\": \"I Know, Right?\",\n",
    "    \"FYI\": \"For Your Information\",\n",
    "    \"NVM\": \"Nevermind\",\n",
    "    \"TMI\": \"Too Much Information\",\n",
    "    \"ATM\": \"At The Moment\",\n",
    "    \"IMO\": \"In My Opinion\",\n",
    "    \"IMHO\": \"In My Humble Opinion\",\n",
    "    \"AFK\": \"Away From Keyboard\",\n",
    "    \"GTFO\": \"Get The F*** Out\",\n",
    "    \"TTYL\": \"Talk To You Later\",\n",
    "    \"BFF\": \"Best Friends Forever\",\n",
    "    \"JK\": \"Just Kidding\",\n",
    "    \"IDC\": \"I Don't Care\",\n",
    "    \"NP\": \"No Problem\",\n",
    "    \"TY\": \"Thank You\",\n",
    "    \"Thx\": \"Thanks\",\n",
    "    \"YW\": \"You're Welcome\",\n",
    "    \"OFC\": \"Of Course\",\n",
    "    \"RN\": \"Right Now\",\n",
    "    \"DM\": \"Direct Message\",\n",
    "    \"PM\": \"Private Message\",\n",
    "\n",
    "    # Agreement/Acknowledgement\n",
    "    \"K\": \"Okay\",\n",
    "    \"KK\": \"Okay, cool\",\n",
    "    \"AFAIK\": \"As Far As I Know\",\n",
    "    \"SMH\": \"Shaking My Head\",\n",
    "\n",
    "    # Expressions/Reactions\n",
    "    \"ROFL\": \"Rolling On Floor Laughing\",\n",
    "    \"LMAO\": \"Laughing My Ass Off\",\n",
    "    \"WTF\": \"What The F*** \",\n",
    "    \"IRL\": \"In Real Life\",\n",
    "\n",
    "    # Time/Planning\n",
    "    \"ASAP\": \"As Soon As Possible\",\n",
    "    \"ETA\": \"Estimated Time of Arrival\",\n",
    "    \"GMT\": \"Going To Meet\", # Less common in chat, more about time zones. If you meant \"Gonna Meet\", that's an informal usage.\n",
    "\n",
    "    # Less Common / Specific Contexts\n",
    "    \"YOLO\": \"You Only Live Once\",\n",
    "    \"FOMO\": \"Fear Of Missing Out\",\n",
    "    \"BBL\": \"Be Back Later\",\n",
    "    \"CUL8R\": \"See You Later\",\n",
    "    \"GR8\": \"Great\",\n",
    "    \"M8\": \"Mate\",\n",
    "    \"NC\": \"No Comment\",\n",
    "    \"OIC\": \"Oh I See\",\n",
    "    \"PCM\": \"Please Call Me\",\n",
    "    \"RU\": \"Are You?\",\n",
    "    \"SRSLY\": \"Seriously\",\n",
    "    \"SY\": \"See Ya\",\n",
    "    \"TIA\": \"Thanks In Advance\",\n",
    "    \"TXT\": \"Text\",\n",
    "    \"UR\": \"Your / You're\"\n",
    "}"
   ]
  },
  {
   "cell_type": "code",
   "execution_count": 32,
   "id": "c1be823f-1fb1-4a69-95d4-806f5edc38d6",
   "metadata": {},
   "outputs": [],
   "source": [
    "def Chat_Conversion (text):\n",
    "    new_text = []\n",
    "\n",
    "    for w in text.split():\n",
    "        if w.upper() in chat_shortcuts:\n",
    "            new_text.append(chat_shortcuts[w.upper()])\n",
    "        else:\n",
    "            new_text.append(w)\n",
    "\n",
    "    return \" \".join(new_text)"
   ]
  },
  {
   "cell_type": "code",
   "execution_count": 33,
   "id": "72dace4b-b0c5-4a3a-afb4-c9f5fe3715d5",
   "metadata": {},
   "outputs": [
    {
     "data": {
      "text/plain": [
       "'Do This Work As Soon As Possible'"
      ]
     },
     "execution_count": 33,
     "metadata": {},
     "output_type": "execute_result"
    }
   ],
   "source": [
    "text = \"Do This Work ASAP\"\n",
    "\n",
    "Chat_Conversion(text)"
   ]
  },
  {
   "cell_type": "markdown",
   "id": "43daa50f-81d1-47d7-ab17-65441e6af563",
   "metadata": {},
   "source": [
    "## Incorrect Text Handling"
   ]
  },
  {
   "cell_type": "code",
   "execution_count": 35,
   "id": "48e324db-b940-49b9-9fc3-97be8ae5a824",
   "metadata": {},
   "outputs": [],
   "source": [
    "from textblob import TextBlob"
   ]
  },
  {
   "cell_type": "code",
   "execution_count": 36,
   "id": "d84690d4-b08f-4fed-804b-79a8ede61ac7",
   "metadata": {},
   "outputs": [
    {
     "data": {
      "text/plain": [
       "'I was so excited to sea my friend yesterday. He decided to meat at the cafe for sum coffee and a peace of cake. The whether was feel nice, so we sat outside. It was a grate afternoon!'"
      ]
     },
     "execution_count": 36,
     "metadata": {},
     "output_type": "execute_result"
    }
   ],
   "source": [
    "incorrect_text = \"I was so exited to sea my frend yesturday. We decided to meat at the cafe for sum coffie and a peice of cake. The wether was reel nice, so we sat outside. It was a grate afternun!\"\n",
    "\n",
    "textBlb = TextBlob(incorrect_text)\n",
    "\n",
    "textBlb.correct().string"
   ]
  },
  {
   "cell_type": "markdown",
   "id": "9fa8a335-5202-4467-bf9f-ddba16eb3583",
   "metadata": {},
   "source": [
    "## Stop Words ??"
   ]
  },
  {
   "cell_type": "code",
   "execution_count": 38,
   "id": "1b1f2857-74a0-4ee1-b7ed-5d46aefa3db3",
   "metadata": {},
   "outputs": [
    {
     "name": "stderr",
     "output_type": "stream",
     "text": [
      "[nltk_data] Downloading package stopwords to\n",
      "[nltk_data]     C:\\Users\\hp\\AppData\\Roaming\\nltk_data...\n",
      "[nltk_data]   Package stopwords is already up-to-date!\n"
     ]
    },
    {
     "data": {
      "text/plain": [
       "True"
      ]
     },
     "execution_count": 38,
     "metadata": {},
     "output_type": "execute_result"
    }
   ],
   "source": [
    "from nltk.corpus import stopwords\n",
    "import nltk\n",
    "\n",
    "nltk.download('stopwords')"
   ]
  },
  {
   "cell_type": "code",
   "execution_count": 39,
   "id": "17a9fd34-2127-48c1-ba42-8206eea7016f",
   "metadata": {
    "scrolled": true
   },
   "outputs": [
    {
     "data": {
      "text/plain": [
       "['a',\n",
       " 'about',\n",
       " 'above',\n",
       " 'after',\n",
       " 'again',\n",
       " 'against',\n",
       " 'ain',\n",
       " 'all',\n",
       " 'am',\n",
       " 'an',\n",
       " 'and',\n",
       " 'any',\n",
       " 'are',\n",
       " 'aren',\n",
       " \"aren't\",\n",
       " 'as',\n",
       " 'at',\n",
       " 'be',\n",
       " 'because',\n",
       " 'been',\n",
       " 'before',\n",
       " 'being',\n",
       " 'below',\n",
       " 'between',\n",
       " 'both',\n",
       " 'but',\n",
       " 'by',\n",
       " 'can',\n",
       " 'couldn',\n",
       " \"couldn't\",\n",
       " 'd',\n",
       " 'did',\n",
       " 'didn',\n",
       " \"didn't\",\n",
       " 'do',\n",
       " 'does',\n",
       " 'doesn',\n",
       " \"doesn't\",\n",
       " 'doing',\n",
       " 'don',\n",
       " \"don't\",\n",
       " 'down',\n",
       " 'during',\n",
       " 'each',\n",
       " 'few',\n",
       " 'for',\n",
       " 'from',\n",
       " 'further',\n",
       " 'had',\n",
       " 'hadn',\n",
       " \"hadn't\",\n",
       " 'has',\n",
       " 'hasn',\n",
       " \"hasn't\",\n",
       " 'have',\n",
       " 'haven',\n",
       " \"haven't\",\n",
       " 'having',\n",
       " 'he',\n",
       " \"he'd\",\n",
       " \"he'll\",\n",
       " 'her',\n",
       " 'here',\n",
       " 'hers',\n",
       " 'herself',\n",
       " \"he's\",\n",
       " 'him',\n",
       " 'himself',\n",
       " 'his',\n",
       " 'how',\n",
       " 'i',\n",
       " \"i'd\",\n",
       " 'if',\n",
       " \"i'll\",\n",
       " \"i'm\",\n",
       " 'in',\n",
       " 'into',\n",
       " 'is',\n",
       " 'isn',\n",
       " \"isn't\",\n",
       " 'it',\n",
       " \"it'd\",\n",
       " \"it'll\",\n",
       " \"it's\",\n",
       " 'its',\n",
       " 'itself',\n",
       " \"i've\",\n",
       " 'just',\n",
       " 'll',\n",
       " 'm',\n",
       " 'ma',\n",
       " 'me',\n",
       " 'mightn',\n",
       " \"mightn't\",\n",
       " 'more',\n",
       " 'most',\n",
       " 'mustn',\n",
       " \"mustn't\",\n",
       " 'my',\n",
       " 'myself',\n",
       " 'needn',\n",
       " \"needn't\",\n",
       " 'no',\n",
       " 'nor',\n",
       " 'not',\n",
       " 'now',\n",
       " 'o',\n",
       " 'of',\n",
       " 'off',\n",
       " 'on',\n",
       " 'once',\n",
       " 'only',\n",
       " 'or',\n",
       " 'other',\n",
       " 'our',\n",
       " 'ours',\n",
       " 'ourselves',\n",
       " 'out',\n",
       " 'over',\n",
       " 'own',\n",
       " 're',\n",
       " 's',\n",
       " 'same',\n",
       " 'shan',\n",
       " \"shan't\",\n",
       " 'she',\n",
       " \"she'd\",\n",
       " \"she'll\",\n",
       " \"she's\",\n",
       " 'should',\n",
       " 'shouldn',\n",
       " \"shouldn't\",\n",
       " \"should've\",\n",
       " 'so',\n",
       " 'some',\n",
       " 'such',\n",
       " 't',\n",
       " 'than',\n",
       " 'that',\n",
       " \"that'll\",\n",
       " 'the',\n",
       " 'their',\n",
       " 'theirs',\n",
       " 'them',\n",
       " 'themselves',\n",
       " 'then',\n",
       " 'there',\n",
       " 'these',\n",
       " 'they',\n",
       " \"they'd\",\n",
       " \"they'll\",\n",
       " \"they're\",\n",
       " \"they've\",\n",
       " 'this',\n",
       " 'those',\n",
       " 'through',\n",
       " 'to',\n",
       " 'too',\n",
       " 'under',\n",
       " 'until',\n",
       " 'up',\n",
       " 've',\n",
       " 'very',\n",
       " 'was',\n",
       " 'wasn',\n",
       " \"wasn't\",\n",
       " 'we',\n",
       " \"we'd\",\n",
       " \"we'll\",\n",
       " \"we're\",\n",
       " 'were',\n",
       " 'weren',\n",
       " \"weren't\",\n",
       " \"we've\",\n",
       " 'what',\n",
       " 'when',\n",
       " 'where',\n",
       " 'which',\n",
       " 'while',\n",
       " 'who',\n",
       " 'whom',\n",
       " 'why',\n",
       " 'will',\n",
       " 'with',\n",
       " 'won',\n",
       " \"won't\",\n",
       " 'wouldn',\n",
       " \"wouldn't\",\n",
       " 'y',\n",
       " 'you',\n",
       " \"you'd\",\n",
       " \"you'll\",\n",
       " 'your',\n",
       " \"you're\",\n",
       " 'yours',\n",
       " 'yourself',\n",
       " 'yourselves',\n",
       " \"you've\"]"
      ]
     },
     "execution_count": 39,
     "metadata": {},
     "output_type": "execute_result"
    }
   ],
   "source": [
    "stopwords.words('english')"
   ]
  },
  {
   "cell_type": "code",
   "execution_count": 40,
   "id": "3cd58276-e347-4b5e-af85-e04596ba2121",
   "metadata": {},
   "outputs": [],
   "source": [
    "def Remove_Stopwords (text):\n",
    "    new_text = []\n",
    "\n",
    "    for word in text.split():\n",
    "        if word in stopwords.words('english'):\n",
    "            new_text.append('')\n",
    "        else:\n",
    "            new_text.append(word)\n",
    "\n",
    "    x = new_text[:]\n",
    "    new_text.clear()\n",
    "    return \" \".join(x)"
   ]
  },
  {
   "cell_type": "code",
   "execution_count": 41,
   "id": "402a1ba6-2eca-43a2-bfb9-5245a27bcd18",
   "metadata": {},
   "outputs": [
    {
     "data": {
      "text/plain": [
       "'The dog ran   park  chased  squirrel  several minutes.'"
      ]
     },
     "execution_count": 41,
     "metadata": {},
     "output_type": "execute_result"
    }
   ],
   "source": [
    "Remove_Stopwords(\"The dog ran through the park and chased a squirrel for several minutes.\")"
   ]
  },
  {
   "cell_type": "code",
   "execution_count": 42,
   "id": "bd2f00d4-4850-49d4-9faa-41780a2cd6d6",
   "metadata": {},
   "outputs": [
    {
     "data": {
      "text/plain": [
       "0     one    reviewers  mentioned   watching  1 oz e...\n",
       "1      wonderful little production.  filming techniq...\n",
       "2      thought    wonderful way  spend time    hot s...\n",
       "3     basically there's  family   little boy (jake) ...\n",
       "4     petter mattei's \"love   time  money\"   visuall...\n",
       "                            ...                        \n",
       "95    daniel day-lewis    versatile actor alive. eng...\n",
       "96     guess would    originally going    least two ...\n",
       "97    well,  like  watch bad horror b-movies, cause ...\n",
       "98       worst movie   ever seen,  well as,  worst  ...\n",
       "99        mario fan   long    remember,    fond memo...\n",
       "Name: review, Length: 100, dtype: object"
      ]
     },
     "execution_count": 42,
     "metadata": {},
     "output_type": "execute_result"
    }
   ],
   "source": [
    "df['review'].apply(Remove_Stopwords)"
   ]
  },
  {
   "cell_type": "markdown",
   "id": "050699da-352e-4ace-8ba0-7f7684c9b18d",
   "metadata": {},
   "source": [
    "## Remove Emoji Handle ??"
   ]
  },
  {
   "cell_type": "code",
   "execution_count": 44,
   "id": "0a2920ad-bef7-4190-a406-c37540729ceb",
   "metadata": {},
   "outputs": [],
   "source": [
    "import re\n",
    "\n",
    "def Remove_Emoji (text):\n",
    "    emoji_pattern = re.compile(\"[\"\n",
    "            u\"\\U0001F600-\\U0001F64F\"  # Emoticons\n",
    "            u\"\\U0001F300-\\U0001F5FF\"  # Miscellaneous Symbols and Pictographs\n",
    "            u\"\\U0001F680-\\U0001F6FF\"  # Transport and Map Symbols\n",
    "            u\"\\U0001F1E0-\\U0001F1FF\"  # Flags (iOS)\n",
    "            u\"\\U00002702-\\U000027B0\"  # Dingbats\n",
    "            u\"\\U000024C2-\\U0001F251\"  # Enclosed characters, etc.\n",
    "        \"]+\", flags=re.UNICODE)\n",
    "\n",
    "    return emoji_pattern.sub(r'', text)"
   ]
  },
  {
   "cell_type": "code",
   "execution_count": 45,
   "id": "9912bd50-4721-4760-99c3-fe5a263b27ae",
   "metadata": {},
   "outputs": [
    {
     "data": {
      "text/plain": [
       "'I Love Merna , But I Do not See Her Since alot of time '"
      ]
     },
     "execution_count": 45,
     "metadata": {},
     "output_type": "execute_result"
    }
   ],
   "source": [
    "Remove_Emoji(\"I Love Merna 💖💖, But I Do not See Her Since alot of time 💔😭😢\")"
   ]
  },
  {
   "cell_type": "code",
   "execution_count": 46,
   "id": "11d57f68-f7e2-49b3-8a05-5f3f922acb8b",
   "metadata": {},
   "outputs": [
    {
     "name": "stdout",
     "output_type": "stream",
     "text": [
      "Python is :fire:\n"
     ]
    }
   ],
   "source": [
    "import emoji\n",
    "\n",
    "print(emoji.demojize(\"Python is 🔥\"))"
   ]
  },
  {
   "cell_type": "code",
   "execution_count": 47,
   "id": "ddfe35e5-d9d2-4b5d-bef1-d22522d8ab50",
   "metadata": {},
   "outputs": [
    {
     "name": "stdout",
     "output_type": "stream",
     "text": [
      "I Love Merna :sparkling_heart::sparkling_heart:, But I Do not See Her Since alot of time :broken_heart::loudly_crying_face::crying_face:\n"
     ]
    }
   ],
   "source": [
    "print(emoji.demojize(\"I Love Merna 💖💖, But I Do not See Her Since alot of time 💔😭😢\"))"
   ]
  },
  {
   "cell_type": "markdown",
   "id": "61ce0d21-55b9-4ea3-a8f6-ff419af7c344",
   "metadata": {},
   "source": [
    "## Tokenization ??"
   ]
  },
  {
   "cell_type": "markdown",
   "id": "ae1f2dc8-bc8a-4faa-a0f6-64c816d7b7a0",
   "metadata": {},
   "source": [
    "#### 1. Using Split Function ??"
   ]
  },
  {
   "cell_type": "code",
   "execution_count": 50,
   "id": "0a4acfdf-2c9d-42c6-8f14-0f50f5c5d2b2",
   "metadata": {},
   "outputs": [
    {
     "data": {
      "text/plain": [
       "['I', 'am', 'going', 'to', 'delhi']"
      ]
     },
     "execution_count": 50,
     "metadata": {},
     "output_type": "execute_result"
    }
   ],
   "source": [
    "# Word Tokenization ??\n",
    "sent1 = \"I am going to delhi\"\n",
    "sent1.split()"
   ]
  },
  {
   "cell_type": "code",
   "execution_count": 51,
   "id": "6759be7b-2878-4287-9d28-580de20975c8",
   "metadata": {},
   "outputs": [
    {
     "data": {
      "text/plain": [
       "['I am going to delhi',\n",
       " ' I will stay there for 3 days',\n",
       " ' I hope the trip to be great',\n",
       " '']"
      ]
     },
     "execution_count": 51,
     "metadata": {},
     "output_type": "execute_result"
    }
   ],
   "source": [
    "sent2 = \"I am going to delhi. I will stay there for 3 days. I hope the trip to be great.\"\n",
    "sent2.split('.')"
   ]
  },
  {
   "cell_type": "markdown",
   "id": "5dd05d16-9bb2-40d3-9fe5-b64e142c11c7",
   "metadata": {},
   "source": [
    "#### 2. Regular Expression ??"
   ]
  },
  {
   "cell_type": "code",
   "execution_count": 53,
   "id": "99626228-8fb3-4d95-9cee-a0455bd7b2b3",
   "metadata": {},
   "outputs": [
    {
     "name": "stderr",
     "output_type": "stream",
     "text": [
      "<>:5: SyntaxWarning: invalid escape sequence '\\w'\n",
      "<>:5: SyntaxWarning: invalid escape sequence '\\w'\n",
      "C:\\Users\\hp\\AppData\\Local\\Temp\\ipykernel_16376\\3046362136.py:5: SyntaxWarning: invalid escape sequence '\\w'\n",
      "  tokens = re.findall(\"[\\w']+\", sent3)\n"
     ]
    },
    {
     "data": {
      "text/plain": [
       "['I', 'am', 'going', 'to', 'delhi']"
      ]
     },
     "execution_count": 53,
     "metadata": {},
     "output_type": "execute_result"
    }
   ],
   "source": [
    "import re\n",
    "\n",
    "sent3 = \"I am going to delhi\"\n",
    "\n",
    "tokens = re.findall(\"[\\w']+\", sent3)\n",
    "\n",
    "tokens"
   ]
  },
  {
   "cell_type": "code",
   "execution_count": 54,
   "id": "87816810-6bd2-40f9-a7cc-0dff32467e33",
   "metadata": {},
   "outputs": [
    {
     "data": {
      "text/plain": [
       "['I am going to delhi',\n",
       " 'I will stay there for 3 days',\n",
       " 'I hope the trip to be great.']"
      ]
     },
     "execution_count": 54,
     "metadata": {},
     "output_type": "execute_result"
    }
   ],
   "source": [
    "sent4 = \"I am going to delhi. I will stay there for 3 days. I hope the trip to be great.\"\n",
    "\n",
    "sent_token = re.compile('[.!?] ').split(sent4)\n",
    "\n",
    "sent_token"
   ]
  },
  {
   "cell_type": "markdown",
   "id": "97ae010a-97e8-41a9-9071-2b654f5c83e3",
   "metadata": {},
   "source": [
    "#### 3. NLTK"
   ]
  },
  {
   "cell_type": "code",
   "execution_count": 56,
   "id": "9a659cf6-b83c-4959-a746-ff3dcaa8d262",
   "metadata": {},
   "outputs": [
    {
     "name": "stderr",
     "output_type": "stream",
     "text": [
      "[nltk_data] Downloading package punkt to\n",
      "[nltk_data]     C:\\Users\\hp\\AppData\\Roaming\\nltk_data...\n",
      "[nltk_data]   Package punkt is already up-to-date!\n"
     ]
    },
    {
     "data": {
      "text/plain": [
       "True"
      ]
     },
     "execution_count": 56,
     "metadata": {},
     "output_type": "execute_result"
    }
   ],
   "source": [
    "from nltk.tokenize import word_tokenize, sent_tokenize\n",
    "import nltk\n",
    "\n",
    "nltk.download('punkt')"
   ]
  },
  {
   "cell_type": "code",
   "execution_count": 57,
   "id": "cc0407b1-b595-4850-803f-c71a146e5fcd",
   "metadata": {},
   "outputs": [
    {
     "data": {
      "text/plain": [
       "['I', 'am', 'going', 'to', 'delhi']"
      ]
     },
     "execution_count": 57,
     "metadata": {},
     "output_type": "execute_result"
    }
   ],
   "source": [
    "sent5 = \"I am going to delhi\"\n",
    "\n",
    "word_tokenize(sent5)"
   ]
  },
  {
   "cell_type": "code",
   "execution_count": 58,
   "id": "fc6ac9a0-43bf-4065-92c5-a9431b003f04",
   "metadata": {},
   "outputs": [
    {
     "data": {
      "text/plain": [
       "['I am going to delhi.',\n",
       " 'I will stay there for 3 days.',\n",
       " 'I hope the trip to be great.']"
      ]
     },
     "execution_count": 58,
     "metadata": {},
     "output_type": "execute_result"
    }
   ],
   "source": [
    "sent6 = \"I am going to delhi. I will stay there for 3 days. I hope the trip to be great.\"\n",
    "\n",
    "sent_tokenize(sent6)"
   ]
  },
  {
   "cell_type": "markdown",
   "id": "62b6a269-b9d7-4afb-a2c7-9e87e0143583",
   "metadata": {},
   "source": [
    "#### 4. Spacy"
   ]
  },
  {
   "cell_type": "code",
   "execution_count": 60,
   "id": "37165b1b-ff5e-4610-9075-ab222fb5f3f8",
   "metadata": {},
   "outputs": [],
   "source": [
    "import spacy\n",
    "\n",
    "nlp = spacy.load('en_core_web_sm')"
   ]
  },
  {
   "cell_type": "code",
   "execution_count": 61,
   "id": "1a0fd4d3-94d4-4925-8642-cf22ee4d0545",
   "metadata": {},
   "outputs": [],
   "source": [
    "doc1 = nlp(sent1)"
   ]
  },
  {
   "cell_type": "code",
   "execution_count": 97,
   "id": "77b9aabe-7f86-4884-96f1-dd1b021d5849",
   "metadata": {},
   "outputs": [
    {
     "name": "stdout",
     "output_type": "stream",
     "text": [
      "I\n",
      "am\n",
      "going\n",
      "to\n",
      "delhi\n"
     ]
    }
   ],
   "source": [
    "for token in doc1:\n",
    "    print(token)"
   ]
  },
  {
   "cell_type": "markdown",
   "id": "3a9f6fa7-dafa-4bf8-8127-41686121fff4",
   "metadata": {},
   "source": [
    "## Stemmer ??"
   ]
  },
  {
   "cell_type": "code",
   "execution_count": 114,
   "id": "5049fec0-b6a7-4eb8-b056-b9a0a1b064d2",
   "metadata": {},
   "outputs": [],
   "source": [
    "from nltk.stem.porter import PorterStemmer"
   ]
  },
  {
   "cell_type": "code",
   "execution_count": 116,
   "id": "c6054932-d843-4091-b143-551ef44028ac",
   "metadata": {},
   "outputs": [],
   "source": [
    "ps = PorterStemmer()\n",
    "\n",
    "def Stem_Words(text):\n",
    "    return \" \".join([ps.stem(word) for word in text.split()])"
   ]
  },
  {
   "cell_type": "code",
   "execution_count": 118,
   "id": "dc12a591-a4bd-499a-8289-8764565b2a1b",
   "metadata": {},
   "outputs": [
    {
     "data": {
      "text/plain": [
       "'walk walk walk walk'"
      ]
     },
     "execution_count": 118,
     "metadata": {},
     "output_type": "execute_result"
    }
   ],
   "source": [
    "sample = \"walk walks walking walked\"\n",
    "\n",
    "Stem_Words(sample)"
   ]
  },
  {
   "cell_type": "code",
   "execution_count": 120,
   "id": "5235e55f-ac90-4d42-9a1f-e8f7d34705ed",
   "metadata": {},
   "outputs": [
    {
     "data": {
      "text/plain": [
       "'the quick brown fox, with an air of sophist urgency, effortlessli jump over the surprisingli complac and rather larg lazi dog, who remain utterli undisturb by the acrobat display, opt instead for a content sigh in the warm afternoon sun.'"
      ]
     },
     "execution_count": 120,
     "metadata": {},
     "output_type": "execute_result"
    }
   ],
   "source": [
    "dummy = \"The quick brown fox, with an air of sophisticated urgency, effortlessly jumps over the surprisingly complacent and rather large lazy dog, who remains utterly undisturbed by the acrobatic display, opting instead for a contented sigh in the warm afternoon sun.\"\n",
    "\n",
    "Stem_Words(dummy)"
   ]
  },
  {
   "cell_type": "markdown",
   "id": "d8172122-b844-48db-add1-f95ee6fc222d",
   "metadata": {},
   "source": [
    "## Lemmatization ??"
   ]
  },
  {
   "cell_type": "code",
   "execution_count": 126,
   "id": "30abf396-2365-4b21-be03-49d8a2332cbd",
   "metadata": {},
   "outputs": [
    {
     "name": "stderr",
     "output_type": "stream",
     "text": [
      "[nltk_data] Downloading package wordnet to\n",
      "[nltk_data]     C:\\Users\\hp\\AppData\\Roaming\\nltk_data...\n",
      "[nltk_data]   Package wordnet is already up-to-date!\n",
      "[nltk_data] Downloading package omw-1.4 to\n",
      "[nltk_data]     C:\\Users\\hp\\AppData\\Roaming\\nltk_data...\n"
     ]
    }
   ],
   "source": [
    "import nltk\n",
    "from nltk.stem import WordNetLemmatizer\n",
    "import nltk\n",
    "\n",
    "nltk.download('wordnet')\n",
    "nltk.download('omw-1.4')\n",
    "\n",
    "wordnet_lemmatize = WordNetLemmatizer()"
   ]
  },
  {
   "cell_type": "code",
   "execution_count": 128,
   "id": "9fbfabe5-e5f1-42d8-9dd2-ae26fa82c44b",
   "metadata": {},
   "outputs": [],
   "source": [
    "sentence = \"The quick brown fox, with an air of sophisticated urgency, effortlessly jumps over the surprisingly complacent and rather large lazy dog, who remains utterly undisturbed by the acrobatic display, opting instead for a contented sigh in the warm afternoon sun.\"\n",
    "\n",
    "punctuation = \"?:!.,;\""
   ]
  },
  {
   "cell_type": "code",
   "execution_count": 132,
   "id": "a73d79e1-4b05-4736-896b-a25f66df3b58",
   "metadata": {},
   "outputs": [],
   "source": [
    "sentence_words = nltk.word_tokenize(sentence)\n",
    "\n",
    "for word in sentence_words:\n",
    "    if word in punctuation:\n",
    "        sentence_words.remove(word)"
   ]
  },
  {
   "cell_type": "code",
   "execution_count": 134,
   "id": "0113e1dd-fa10-4eba-8f20-364d92267349",
   "metadata": {
    "scrolled": true
   },
   "outputs": [
    {
     "data": {
      "text/plain": [
       "['The',\n",
       " 'quick',\n",
       " 'brown',\n",
       " 'fox',\n",
       " 'with',\n",
       " 'an',\n",
       " 'air',\n",
       " 'of',\n",
       " 'sophisticated',\n",
       " 'urgency',\n",
       " 'effortlessly',\n",
       " 'jumps',\n",
       " 'over',\n",
       " 'the',\n",
       " 'surprisingly',\n",
       " 'complacent',\n",
       " 'and',\n",
       " 'rather',\n",
       " 'large',\n",
       " 'lazy',\n",
       " 'dog',\n",
       " 'who',\n",
       " 'remains',\n",
       " 'utterly',\n",
       " 'undisturbed',\n",
       " 'by',\n",
       " 'the',\n",
       " 'acrobatic',\n",
       " 'display',\n",
       " 'opting',\n",
       " 'instead',\n",
       " 'for',\n",
       " 'a',\n",
       " 'contented',\n",
       " 'sigh',\n",
       " 'in',\n",
       " 'the',\n",
       " 'warm',\n",
       " 'afternoon',\n",
       " 'sun']"
      ]
     },
     "execution_count": 134,
     "metadata": {},
     "output_type": "execute_result"
    }
   ],
   "source": [
    "sentence_words"
   ]
  },
  {
   "cell_type": "code",
   "execution_count": 144,
   "id": "cef0a900-9e6b-44b0-b618-c7bcb6eafdba",
   "metadata": {
    "scrolled": true
   },
   "outputs": [
    {
     "name": "stdout",
     "output_type": "stream",
     "text": [
      "Word                Lemma               \n",
      "----                -----               \n",
      "The                 The                 \n",
      "quick               quick               \n",
      "brown               brown               \n",
      "fox                 fox                 \n",
      "with                with                \n",
      "an                  an                  \n",
      "air                 air                 \n",
      "of                  of                  \n",
      "sophisticated       sophisticate        \n",
      "urgency             urgency             \n",
      "effortlessly        effortlessly        \n",
      "jumps               jump                \n",
      "over                over                \n",
      "the                 the                 \n",
      "surprisingly        surprisingly        \n",
      "complacent          complacent          \n",
      "and                 and                 \n",
      "rather              rather              \n",
      "large               large               \n",
      "lazy                lazy                \n",
      "dog                 dog                 \n",
      "who                 who                 \n",
      "remains             remain              \n",
      "utterly             utterly             \n",
      "undisturbed         undisturbed         \n",
      "by                  by                  \n",
      "the                 the                 \n",
      "acrobatic           acrobatic           \n",
      "display             display             \n",
      "opting              opt                 \n",
      "instead             instead             \n",
      "for                 for                 \n",
      "a                   a                   \n",
      "contented           content             \n",
      "sigh                sigh                \n",
      "in                  in                  \n",
      "the                 the                 \n",
      "warm                warm                \n",
      "afternoon           afternoon           \n",
      "sun                 sun                 \n"
     ]
    }
   ],
   "source": [
    "print(\"{0:20}{1:20}\".format(\"Word\", \"Lemma\"))\n",
    "print(\"{0:20}{1:20}\".format(\"----\", \"-----\"))\n",
    "\n",
    "for word in sentence_words:\n",
    "    print(\"{0:20}{1:20}\".format(word, wordnet_lemmatize.lemmatize(word, pos='v')))"
   ]
  },
  {
   "cell_type": "code",
   "execution_count": null,
   "id": "dd662010-412a-49a1-8d54-e295bb98456d",
   "metadata": {},
   "outputs": [],
   "source": []
  }
 ],
 "metadata": {
  "kernelspec": {
   "display_name": "Python 3 (ipykernel)",
   "language": "python",
   "name": "python3"
  },
  "language_info": {
   "codemirror_mode": {
    "name": "ipython",
    "version": 3
   },
   "file_extension": ".py",
   "mimetype": "text/x-python",
   "name": "python",
   "nbconvert_exporter": "python",
   "pygments_lexer": "ipython3",
   "version": "3.12.4"
  }
 },
 "nbformat": 4,
 "nbformat_minor": 5
}
