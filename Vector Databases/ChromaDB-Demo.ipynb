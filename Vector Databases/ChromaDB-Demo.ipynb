{
 "cells": [
  {
   "cell_type": "markdown",
   "id": "f773cab5-5dca-4346-8fd5-200c7eea5e69",
   "metadata": {},
   "source": [
    "## Download Data ??"
   ]
  },
  {
   "cell_type": "code",
   "execution_count": 2,
   "id": "6d072f84-4e18-4e30-a0d6-3ef96c59a7f5",
   "metadata": {},
   "outputs": [],
   "source": [
    "!wget -q https://www.dropbox.com/s/vs6ocyvpzzncvwh/new_articles.zip"
   ]
  },
  {
   "cell_type": "code",
   "execution_count": 3,
   "id": "e22e52c2-48cd-4ac5-a38b-056f1da88533",
   "metadata": {},
   "outputs": [],
   "source": [
    "!unzip -q new_articles.zip -d new_articles"
   ]
  },
  {
   "cell_type": "markdown",
   "id": "36dabbaa-e9a5-460b-bd74-cb1739b3ee6a",
   "metadata": {},
   "source": [
    "## Load Enviro. Vars ??"
   ]
  },
  {
   "cell_type": "code",
   "execution_count": null,
   "id": "b581918b-3b06-47d9-8c89-95434e09329a",
   "metadata": {},
   "outputs": [],
   "source": [
    "import os\n",
    "from dotenv import load_dotenv\n",
    "\n",
    "load_dotenv()\n",
    "\n",
    "os.environ['HUGGINGFACE_API'] = os.getenv('HUGGINGFACE_API')"
   ]
  },
  {
   "cell_type": "markdown",
   "id": "b33e73d5-b7b4-4ab7-8e2a-831a1c4ef618",
   "metadata": {},
   "source": [
    "## Import Necassary Library ??"
   ]
  },
  {
   "cell_type": "code",
   "execution_count": 3,
   "id": "fe9f4ca2-6ac5-462f-b4ac-64cca1ddc06f",
   "metadata": {},
   "outputs": [],
   "source": [
    "from langchain.vectorstores import Chroma\n",
    "from langchain.embeddings import HuggingFaceEmbeddings\n",
    "from langchain.llms import HuggingFaceHub\n",
    "from langchain.document_loaders import DirectoryLoader\n",
    "from langchain.document_loaders import TextLoader"
   ]
  },
  {
   "cell_type": "markdown",
   "id": "e04be0d8-adde-479f-89e7-082606e908e8",
   "metadata": {},
   "source": [
    "## Load Data ??"
   ]
  },
  {
   "cell_type": "code",
   "execution_count": 5,
   "id": "4fadb5f9-6d4c-4da7-9190-dd85105b641f",
   "metadata": {},
   "outputs": [],
   "source": [
    "loader = DirectoryLoader(\n",
    "    \"new_articles/\",\n",
    "    glob=\"./05-04*.txt\",\n",
    "    loader_cls=TextLoader,\n",
    "    loader_kwargs={\"encoding\": \"utf-8\"}  # ✅ Prevent decode crash\n",
    ")"
   ]
  },
  {
   "cell_type": "code",
   "execution_count": 6,
   "id": "92dc3263-d555-4af6-bebb-be8edc1acb13",
   "metadata": {
    "scrolled": true
   },
   "outputs": [
    {
     "data": {
      "text/plain": [
       "[Document(metadata={'source': 'new_articles\\\\05-04-cma-generative-ai-review.txt'}, page_content='Well that was fast. The U.K.’s competition watchdog has announced an initial review of “AI foundational models”, such as the large language models (LLMs) which underpin OpenAI’s ChatGPT and Microsoft’s New Bing. Generative AI models which power AI art platforms such as OpenAI’s DALL-E or Midjourney will also likely fall in scope.\\n\\nThe Competition and Markets Authority (CMA) said its review will look at competition and consumer protection considerations in the development and use of AI foundational models — with the aim of understanding “how foundation models are developing and producing an assessment of the conditions and principles that will best guide the development of foundation models and their use in the future”.\\n\\nIt’s proposing to publish the review in “early September”, with a deadline of June 2 for interested stakeholders to submit responses to inform its work.\\n\\n“Foundation models, which include large language models and generative artificial intelligence (AI), that have emerged over the past five years, have the potential to transform much of what people and businesses do. To ensure that innovation in AI continues in a way that benefits consumers, businesses and the UK economy, the government has asked regulators, including the [CMA], to think about how the innovative development and deployment of AI can be supported against five overarching principles: safety, security and robustness; appropriate transparency and explainability; fairness; accountability and governance; and contestability and redress,” the CMA wrote in a press release.”\\n\\nStanford University’s Human-Centered Artificial Intelligence Center’s Center for Research on Foundation Models is credited with coining the term “foundational models”, back in 2021, to refer to AI systems that focus on training one model on a huge amount of data and adapting it to many applications.\\n\\n“The development of AI touches upon a number of important issues, including safety, security, copyright, privacy, and human rights, as well as the ways markets work. Many of these issues are being considered by government or other regulators, so this initial review will focus on the questions the CMA is best placed to address — what are the likely implications of the development of AI foundation models for competition and consumer protection?” the CMA added.\\n\\nIn a statement, its CEO, Sarah Cardell, also said:\\n\\nAI has burst into the public consciousness over the past few months but has been on our radar for some time. It’s a technology developing at speed and has the potential to transform the way businesses compete as well as drive substantial economic growth. It’s crucial that the potential benefits of this transformative technology are readily accessible to UK businesses and consumers while people remain protected from issues like false or misleading information. Our goal is to help this new, rapidly scaling technology develop in ways that ensure open, competitive markets and effective consumer protection.\\n\\nSpecifically, the U.K. competition regulator said its initial review of AI foundational models will:\\n\\nexamine how the competitive markets for foundation models and their use could evolve\\n\\nexplore what opportunities and risks these scenarios could bring for competition and consumer protection\\n\\nproduce guiding principles to support competition and protect consumers as AI foundation models develop\\n\\nWhile it may seen early for the antitrust regulator to conduct a review of such a fast-moving emerging technology the CMA is acting on government instruction.\\n\\nAn AI white paper published in March signalled ministers’ preference to avoid setting any bespoke rules (or oversight bodies) to govern uses of artificial intelligence at this stage. However ministers said existing U.K. regulators — including the CMA, which was directly name-checked — would be expected to issue guidance to encourage safe, fair and accountable uses of AI.\\n\\nThe CMA says its initial review of foundational AI models is in line with instructions in the white paper, where the government talked about existing regulators conducting “detailed risk analysis” in order to be in a position to carry out potential enforcements, i.e. on dangerous, unfair and unaccountable applications of AI, using their existing powers.\\n\\nThe regulator also points to its core mission — to support open, competitive markets — as another reason for taking a look at generative AI now.\\n\\nNotably, the competition watchdog is set to get additional powers to regulate Big Tech in the coming years, under plans taken off the back-burner by prime minister Rishi Sunak’s government last month, when ministers said it would move forward with a long-trailed (but much delayed) ex ante reform aimed at digital giants’ market power.\\n\\nThe expectation is that the CMA’s Digital Markets Unit, up and running since 2021 in shadow form, will (finally) gain legislative powers in the coming years to apply pro-active “pro-competition” rules which are tailored to platforms that are deemed to have “strategic market status” (SMS). So we can speculate that providers of powerful foundational AI models may, down the line, be judged to have SMS — meaning they could expect to face bespoke rules on how they must operate vis-a-vis rivals and consumers in the U.K. market.\\n\\nThe U.K.’s data protection watchdog, the ICO, also has its eye on generative AI. It’s another existing oversight body which the government has tasked with paying special mind to AI under its plan for context-specific guidance to steer development of the tech through the application of existing laws.\\n\\nIn a blog post last month, Stephen Almond, the ICO’s executive director of regulatory risk, offered some tips and a little warning for developers of generative AI when it comes to compliance with U.K. data protection rules. “Organisations developing or using generative AI should be considering their data protection obligations from the outset, taking a data protection by design and by default approach,” he suggested. “This isn’t optional — if you’re processing personal data, it’s the law.”\\n\\nOver the English Channel in the European Union, meanwhile, lawmakers are in the process of deciding a fixed set of rules that are likely to apply to generative AI.\\n\\nNegotiations toward a final text for the EU’s incoming AI rulebook are ongoing — but currently there’s a focus on how to regulate foundational models via amendments to the risk-based framework for regulating uses of AI the bloc published in draft over two years ago.\\n\\nIt remains to be seen where the EU’s co-legislators will end up on what’s sometimes also referred to as general purpose AI. But, as we reported recently, parliamentarians are pushing for a layered approach to tackle safety issues with foundational models; the complexity of responsibilities across AI supply chains; and to address specific content concerns (like copyright) which are associated with generative AI.\\n\\nAdd to that, EU data protection law already applies to AI, of course. And privacy-focused investigations of models like ChatGPT are underway in the bloc — including in Italy where an intervention by the local watchdog led to OpenAI rushing out a series of privacy disclosures and controls last month.\\n\\nThe European Data Protection Board also recently set up a task force to support coordination between different data protection authorities on investigations of the AI chatbot. Others investigating ChatGPT include Spain’s privacy watchdog.'),\n",
       " Document(metadata={'source': 'new_articles\\\\05-04-hugging-face-and-servicenow-release-a-free-code-generating-model.txt'}, page_content='AI startup Hugging Face and ServiceNow Research, ServiceNow’s R&D division, have released StarCoder, a free alternative to code-generating AI systems along the lines of GitHub’s Copilot.\\n\\nCode-generating systems like DeepMind’s AlphaCode; Amazon’s CodeWhisperer; and OpenAI’s Codex, which powers Copilot, provide a tantalizing glimpse at what’s possible with AI within the realm of computer programming. Assuming the ethical, technical and legal issues are someday ironed out (and AI-powered coding tools don’t cause more bugs and security exploits than they solve), they could cut development costs substantially while allowing coders to focus on more creative tasks.\\n\\nAccording to a study from the University of Cambridge, at least half of developers’ efforts are spent debugging and not actively programming, which costs the software industry an estimated $312 billion per year. But so far, only a handful of code-generating AI systems have been made freely available to the public — reflecting the commercial incentives of the organizations building them (see: Replit).\\n\\nStarCoder, which by contrast is licensed to allow for royalty-free use by anyone, including corporations, was trained on over 80 programming languages as well as text from GitHub repositories, including documentation and programming notebooks. StarCoder integrates with Microsoft’s Visual Studio Code code editor and, like OpenAI’s ChatGPT, can follow basic instructions (e.g., “create an app UI”) and answer questions about code.\\n\\nCongratulations to all the @BigCodeProject contributors that worked tirelessly over the last 6+ months to bring the vision of releasing a responsibly developed 15B parameter Code LLM to fruition. We cannot thank you enough for the collaboration & contributions to the community. https://t.co/282sCRJq3k — ServiceNow Research (@ServiceNowRSRCH) May 4, 2023\\n\\nLeandro von Werra, a machine learning engineer at Hugging Face and a co-lead on StarCoder, claims that StarCoder matches or outperforms the AI model from OpenAI that was used to power initial versions of Copilot.\\n\\n“One thing we learned from releases such as Stable Diffusion last year is the creativity and capability of the open-source community,” von Werra told TechCrunch in an email interview. “Within weeks of the release the community had built dozens of variants of the model as well as custom applications. Releasing a powerful code generation model allows anybody to fine-tune and adapt it to their own use-cases and will enable countless downstream applications.”\\n\\nBuilding a model\\n\\nStarCoder is a part of Hugging Face’s and ServiceNow’s over-600-person BigCode project, launched late last year, which aims to develop “state-of-the-art” AI systems for code in an “open and responsible” way. Hugging Face supplied an in-house compute cluster of 512 Nvidia V100 GPUs to train the StarCoder model.\\n\\nVarious BigCode working groups focus on subtopics like collecting datasets, implementing methods for training code models, developing an evaluation suite and discussing ethical best practices. For example, the Legal, Ethics and Governance working group explored questions on data licensing, attribution of generated code to original code, the redaction of personally identifiable information (PII), and the risks of outputting malicious code.\\n\\nInspired by Hugging Face’s previous efforts to open source sophisticated text-generating systems, BigCode seeks to address some of the controversies arising around the practice of AI-powered code generation. The nonprofit Software Freedom Conservancy among others has criticized GitHub and OpenAI for using public source code, not all of which is under a permissive license, to train and monetize Codex. Codex is available through OpenAI’s and Microsoft’s paid APIs, while GitHub recently began charging for access to Copilot.\\n\\nFor their parts, GitHub and OpenAI assert that Codex and Copilot — protected by the doctrine of fair use, at least in the U.S. — don’t run afoul of any licensing agreements.\\n\\n“Releasing a capable code-generating system can serve as a research platform for institutions that are interested in the topic but don’t have the necessary resources or know-how to train such models,” von Werra said. “We believe that in the long run this leads to fruitful research on safety, capabilities and limits of code-generating systems.”\\n\\nUnlike Copilot, the 15-billion-parameter StarCoder was trained over the course of several days on an open source dataset called The Stack, which has over 19 million curated, permissively licensed repositories and more than six terabytes of code in over 350 programming languages. In machine learning, parameters are the parts of an AI system learned from historical training data and essentially define the skill of the system on a problem, such as generating code.\\n\\nBecause it’s permissively licensed, code from The Stack can be copied, modified and redistributed. But the BigCode project also provides a way for developers to “opt out” of The Stack, similar to efforts elsewhere to let artists remove their work from text-to-image AI training datasets.\\n\\nThe BigCode team also worked to remove PII from The Stack, such as names, usernames, email and IP addresses, and keys and passwords. They created a separate dataset of 12,000 files containing PII, which they plan to release to researchers through “gated access.”\\n\\nBeyond this, the BigCode team used Hugging Face’s malicious code detection tool to remove files from The Stack that might be considered “unsafe,” such as those with known exploits.\\n\\nThe privacy and security issues with generative AI systems, which for the most part are trained on relatively unfiltered data from the web, are well-established. ChatGPT once volunteered a journalist’s phone number. And GitHub has acknowledged that Copilot may generate keys, credentials and passwords seen in its training data on novel strings.\\n\\n“Code poses some of the most sensitive intellectual property for most companies,” von Werra said. “In particular, sharing it outside their infrastructure poses immense challenges.”\\n\\nTo his point, some legal experts have argued that code-generating AI systems could put companies at risk if they were to unwittingly incorporate copyrighted or sensitive text from the tools into their production software. As Elaine Atwell notes in a piece on Kolide’s corporate blog, because systems like Copilot strip code of its licenses, it’s difficult to tell which code is permissible to deploy and which might have incompatible terms of use.\\n\\nIn response to the criticisms, GitHub added a toggle that lets customers prevent suggested code that matches public, potentially copyrighted content from GitHub from being shown. Amazon, following suit, has CodeWhisperer highlight and optionally filter the license associated with functions it suggests that bear a resemblance to snippets found in its training data.\\n\\nCommercial drivers\\n\\nSo what does ServiceNow, a company that deals mostly in enterprise automation software, get out of this? A “strong-performing model and a responsible AI model license that permits commercial use,” said Harm de Vries, the lead of the Large Language Model Lab at ServiceNow Research and the co-lead of the BigCode project.\\n\\nOne imagines that ServiceNow will eventually build StarCoder into its commercial products. The company wouldn’t reveal how much, in dollars, it’s invested in the BigCode project, save that the amount of donated compute was “substantial.”\\n\\n“The Large Language Models Lab at ServiceNow Research is building up expertise on the responsible development of generative AI models to ensure the safe and ethical deployment of these powerful models for our customers,” de Vries said. “The open-scientific research approach to BigCode provides ServiceNow developers and customers with full transparency into how everything was developed and demonstrates ServiceNow’s commitment to making socially responsible contributions to the community.”\\n\\nStarCoder isn’t open source in the strictest sense. Rather, it’s being released under a licensing scheme, OpenRAIL-M, that includes “legally enforceable” use case restrictions that derivatives of the model — and apps using the model — are required to comply with.\\n\\nFor example, StarCoder users must agree not to leverage the model to generate or distribute malicious code. While real-world examples are few and far between (at least for now), researchers have demonstrated how AI like StarCoder could be used in malware to evade basic forms of detection.\\n\\nWhether developers actually respect the terms of the license remains to be seen. Legal threats aside, there’s nothing at the base technical level to prevent them from disregarding the terms to their own ends.\\n\\nThat’s what happened with the aforementioned Stable Diffusion, whose similarly restrictive license was ignored by developers who used the generative AI model to create pictures of celebrity deepfakes.\\n\\nBut the possibility hasn’t discouraged von Werra, who feels the downsides of not releasing StarCoder aren’t outweighed by the upsides.\\n\\n“At launch, StarCoder will not ship as many features as GitHub Copilot, but with its open-source nature, the community can help improve it along the way as well as integrate custom models,” he said.\\n\\nThe StarCoder code repositories, model training framework, dataset-filtering methods, code evaluation suite and research analysis notebooks are available on GitHub as of this week. The BigCode project will maintain them going forward as the groups look to develop more capable code-generating models, fueled by input from the community.\\n\\nThere’s certainly work to be done. In the technical paper accompanying StarCoder’s release, Hugging Face and ServiceNow say that the model may produce inaccurate, offensive, and misleading content as well as PII and malicious code that managed to make it past the dataset filtering stage.'),\n",
       " Document(metadata={'source': 'new_articles\\\\05-04-microsoft-doubles-down-on-ai-with-new-bing-features.txt'}, page_content=\"Microsoft doubles down on AI with new Bing features The company's betting the farm on generative AI\\n\\nMicrosoft is embarking on the next phase of Bing’s expansion. And — no surprise — it heavily revolves around AI.\\n\\nAt a preview event this week in New York City, Microsoft execs including Yusuf Mehdi, the CVP and consumer chief marketing officer, gave members of the press, including this reporter, a look at the range of features heading to Bing over the next few days, weeks and months.\\n\\nThey don’t so much reinvent the wheel as they build on what Microsoft has injected into the Bing experience over the past three months or so. Since launching Bing Chat, its AI-powered chatbot powered by OpenAI’s GPT-4 and DALL-E 2 models, Microsoft says that visitors to Bing — which has grown to exceed 100 million daily active users — have engaged in over half a billion chats and created more than 200 million images.\\n\\nLooking ahead, Bing will become more visual, thanks to more image- and graphic-centric answers in Bing Chat. It’ll also become more personalized, with capabilities that’ll allow users to export their Bing Chat histories and draw in content from third-party plugins (more on those later). And it’ll embrace multimodality, at least in the sense that Bing Chat will be able to answer questions within the context of images.\\n\\n“I think it’s safe to say that we’re underway with the transformation of search,” Mehdi said in prepared remarks. “In our minds, we think that today will be the start of the next generation of this ‘search mission.'”\\n\\nOpen, and visual\\n\\nAs of today, the new Bing — the one with Bing Chat — is now available waitlist-free. Anyone can try it out by signing in with a Microsoft Account.\\n\\nIt’s more or less the experience that launched several months ago. But as alluded to earlier, Bing Chat will soon respond with images — at least where it makes sense. Answers to questions (e.g. “Where is Machu Picchu?”) will be accompanied by relevant images if any exist, much like the standard Bing search flow but condensed into a card-like interface.\\n\\nIn a demo at the event, a spokesperson typed the question “Does the saguaro cactus grow flowers?” and Bing Chat pulled up a paragraph-long response alongside an image of the cactus in question. For me, it evoked the “knowledge panels” in Google Search.\\n\\nMicrosoft isn’t saying which categories of content, exactly, might trigger an image. But it does have filtering in place to prevent explicit images from appearing — or so it claims.\\n\\nSarah Bird, the head of responsible AI at Microsoft, told me that Bing Chat benefits from the filtering and moderation already in place with Bing search. Beyond this, Bing Chat uses a combination of “toxicity classifiers,” or AI models trained to detect potentially harmful prompts, and blacklists to keep the chat relatively clean.\\n\\nThose measures didn’t prevent Bing Chat from going off the rails when it first rolled out in preview in early February, it’s worth noting. Our coverage found the chatbot spouting vaccine misinformation and writing a hateful screed from the perspective of Adolf Hitler. Other reporters got it to make threats, claim multiple identities and even shame them for admonishing it.\\n\\nIn another knock against Microsoft, the company just a few months ago laid off the ethics and society team within its larger AI organization. The move left Microsoft without a dedicated team to ensure its AI principles are closely tied to product design.\\n\\nBird, though, asserts that meaningful progress has been made and that these sorts of AI issues aren’t solved overnight — public though Bing Chat may be. Among other measures, a team of human moderators is in place to watch for abuse, she said, such as users attempting to use Bing Chat to generate phishing emails.\\n\\nBut — as members of the press weren’t given the chance to interact with the latest version of Bing beyond curated demos — I can’t say to what extent all that’s made a difference. It’ll doubtless become clear once more folks get their hands on it.\\n\\nOne aspect of Bing Chat that is improving is the transparency around its responses — specifically responses of a fact-based nature. Soon, when asked to summarize a document or about the contents a document (e.g. “what does this page say about the Brooklyn Bridge?”), whether a 20-page PDF or a Wikipedia article, Bing Chat will include citations indicating from where in the text the information came from. Clicking on them will highlight the corresponding passage.\\n\\nProductivity emergent\\n\\nIn another new feature on the visual front, Bing Chat will be able to create charts and graphs when fed the right prompt and data. Previously, asking something like “Which are the most populous cities in Brazil?” would yield a basic list of results. But in a near-future preview, Bing Chat will present those results visually and in the chart type of a user’s choosing.\\n\\nThis seemingly represents a step for Bing toward a full-blown productivity platform, particularly when paired with the enhanced text-to-image generation capabilities coming down the pipeline.\\n\\nIn the coming weeks, Bing Image Creator — Microsoft’s tool that can generate images from text prompts, powered by DALL-E 2 — will understand more languages aside from English (over 100 total). As with English, users will be able to refine the images they generate with follow-up prompts (e.g. “Make an image of a bunny rabbit,” followed by “now make the fur pink”).\\n\\nGenerative art AI has been in the headlines a lot, lately — and not for the most optimistic of reasons necessarily.\\n\\nPlaintiffs have brought several lawsuits against OpenAI and its rival vendors, alleging that copyrighted data — mostly art — was used without their permission to train generative models like DALL-E 2. Generative models “learn” to create art and more by “training” on sample images and text, usually scraped indiscriminately from the public web.\\n\\nI asked Bird about whether Microsoft is exploring ways to compensate creators whose work was swept up in training data, even if the company’s official position is that it’s a matter of fair use. Several platforms launching generative AI tools, including Shutterstock, have kick-started creators funds along these lines. Others, like Spawning, are creating mechanisms to let artists opt out of AI model training altogether.\\n\\nBird implied that these issues will eventually have to be confronted — and that content creators deserve some form of recompense. But she wasn’t willing to commit to anything concrete this week.\\n\\nMultimodal search\\n\\nElsewhere on the image front, Bing Chat is gaining the ability to understand images as well as text. Users will be able to upload images and search the web for related content, for example copying a link to an image of a crocheted octopus and asking Bing Chat the question “how do I make that?” to get step-by-step instructions.\\n\\nMultimodality powers the new page context function in the Edge app for mobile, as well. Users will be able to ask questions in Bing Chat related to the mobile page they’re viewing.\\n\\nMicrosoft wouldn’t say either way, but it seems likely that these new multimodal abilities stem from GPT-4, which can understand images in addition to text. When OpenAI announced GPT-4, it didn’t make the model’s image understanding capabilities available to all customers — and still hasn’t. I’d wager that Microsoft, though, being a major investor in and close collaborator with OpenAI, has some sort of privileged access.\\n\\nAny image upload tool can be abused, of course, which is why Microsoft is employing automated filtering and hashing to block illicit uploads, according to Bird. The jury’s out on how well these work, though — we weren’t given the chance to test image uploads ourselves.\\n\\nNew chat features\\n\\nMultimodality and new visual features aren’t all that’s coming to Bing Chat.\\n\\nSoon, Bing Chat will store users’ chat histories, letting them pick up where they left off and return to previous chats when they wish. It’s an experience akin to the chat history feature OpenAI recently brought to ChatGPT, showing a list of chats and the bot’s responses to each of those chats.\\n\\nThe specifics of the chat history feature have yet to be ironed out, like how long chats will be stored, exactly. But users will be able to delete their history at any time regardless, Microsoft says — addressing the criticisms several European Union governments had against ChatGPT.\\n\\nBing Chat will also gain export and share functionalities, letting users share conversations on social media or to a Word document. Dena Saunders, a partner GM in Microsoft’s web experiences team, told TechCrunch that a more robust copy-and-paste system is in the works — but not in preview just yet — for graphs and images created through Bing Chat.\\n\\nPerhaps the most transformative addition to Bing Chat, though, is plugins. From partners like OpenTable and Wolfram Alpha, plugins greatly extend what Bing Chat can do, for example helping users book a reservation or create visualizations and get answers to challenging science and math questions.\\n\\nLike chat history, the not-yet-live plugins functionality is in the very preliminary stages. There’s no plugins marketplace to speak of; plugins can be toggled on or off from the Bing Chat web interface.\\n\\nSaunders hinted, but wouldn’t confirm, that the Bing Chat plugins scheme was associated with — or perhaps identical to — OpenAI’s recently introduced plugins for ChatGPT. That’d certainly make sense, given the similarities between the two.\\n\\nEdge, refreshed\\n\\nBing Chat is available through Edge as well as the web, of course. And Edge is getting a fresh coat of paint alongside Bing Chat.\\n\\nFirst previewed in February, the new and improved Edge features rounded corners in line with Microsoft’s Windows 11 design philosophy. Elements in the browser are now more “containerized,” as one Microsoft spokesperson put it, and there’s subtle tweaks throughout, like the Microsoft Account image moving left-of-center.\\n\\nIn Compose, Edge’s Bing Chat-powered tool that can write emails and more given a basic prompt (e.g. “write an invitation to my dog’s birthday party”), a new option lets users adjust the length, phrasing and tone of the generated text to nearly anything they’d like. Type in the desired tone, and Bing Chat will write a message to match — Bird says filters are in place to prevent the use of clearly problematic tones, like “hateful” or “racist.”\\n\\nFar more intriguing than Compose, though — at least to me — are actions in Edge, which translate certain Bing Chat prompts into automations.\\n\\nTyping a command like “bring my passwords from another browser” in Bing Chat in the Edge sidebar opens Edge’s browsing data settings page, while the prompt “play ‘The Devil Wears Prada'” pulls up a list of streaming options including Vudu and (predictably) the Microsoft Store. There’s even an action that automatically organizes — and color-coordinates — browsing tabs.\\n\\nActions are in a primitive stage at present. But it’s clear where Microsoft’s going, here. One imagines actions eventually expanding beyond Edge to reach other Microsoft products, like Office 365, and perhaps one day the whole Windows desktop.\\n\\nSaunders wouldn’t confirm or deny that this is the endgame. “Stay tuned for Microsoft Build,” she told me, referring to Microsoft’s upcoming developer conference. We shall.\"),\n",
       " Document(metadata={'source': 'new_articles\\\\05-04-slack-updates-aim-to-put-ai-at-the-center-of-the-user-experience.txt'}, page_content='Slack has evolved from a pure communications platform to one that enables companies to link directly to enterprise applications without having to resort to dreaded task switching. Today, at the Salesforce World Tour event in NYC, the company announced the next step in its platform’s evolution where it will be putting AI at the forefront of the user experience, making it easier to get information and build workflows.\\n\\nIt’s important to note that these are announcements, and many of these features are not available yet.\\n\\nRob Seaman says that rather than slapping on an AI cover, they are working to incorporate it in a variety of ways across the platform. That started last month with a small step, a partnership with OpenAI to bring a ChatGPT app into Slack, the first piece of a much broader vision for AI on the platform. That part is in beta at the moment.\\n\\nToday’s announcement involves several new integrations, including SlackGPT, the company’s own flavor of generative AI built on top of the Slack platform, which users and developers can tap into to build AI-driven experiences. The content in Slack provides a starting point for building models related to the platform.\\n\\n“We think Slack has a unique advantage when it comes to generative AI. A lot of the institutional knowledge on every topic, team, work item and project is already in Slack through the messages, the files and the clips that are shared every day,” he said.\\n\\nWhen you combine that with Slack’s Partner ecosystem and platform, customers have a lot of options for integrating AI into their workflows. He says that Slack is thinking about this in three ways right now.\\n\\n“For starters, Slack is going to bring AI natively into the user experience with SlackGPT to help customers work faster, communicate better, learn faster, etc. And an example of that is AI-powered conversation summaries and writing assistance for composition that’s going to be directly available in Slack,” he said.\\n\\nThe former could as an example help employees get caught up on a long thread without having to read every message to get the gist of what was being discussed. The latter could help generate Slack messages or content for linked Slack applications. That’s a little less obvious use case. It’s probably easier to write a Slack message yourself unless it’s an automated message that’s part of a workflow, but if you are creating content for Slack Canvas, you could let the generative AI help you.\\n\\nDevelopers can get in on the action too, building AI steps into workflows, giving them the option of tapping into external apps and large language models to build generative AI experiences themselves. Just last week the company made its updated developer experience generally available, and this should make it easier to incorporate generative AI into the platform in customized ways, Seaman says.\\n\\n“So this gives us the foundation to give users choice and flexibility to bring AI into their work in their business whenever they’re ready, and however they like. We’ve got 2,600 apps in the ecosystem right now, which includes a lot of the leading LLMs, and we see a lot of customers already choosing to integrate generative AI into Slack themselves,” he said.\\n\\nFinally EinsteinGPT, the Salesforce flavor of generative AI announced in March, will also be incorporated into Slack, letting employees ask questions directly about Salesforce content, like the users most likely to churn or the accounts most likely to buy, and so forth. This is really about more directly integrating Salesforce content into Slack, the company Salesforce paid $27 billion for a couple of years ago.\\n\\n“Slack is really becoming the conversational interface for Salesforce. So that’s bringing those EinsteinGPT-powered insights from the real-time customer data that exists in Salesforce into Slack to enrich every team’s understanding of the customer,” he said.\\n\\nAs with most of the generative AI tooling we’ve seen being added to enterprise software, Slack is announcing these capabilities long before they release them, but this should give customers a sense of what’s coming, and how AI could be transforming Slack in the future. SlackGPT and EinsteinGPT integration are still in the development phase, but developers can build custom integrations with a variety of LLMs, today. Workflow Builder with SlackGPT AI connectors (which will allow customers to instantly connect ChatGPT or Claude to a workflow or build custom connectors that plug in their own LLMs) will be available this summer.')]"
      ]
     },
     "execution_count": 6,
     "metadata": {},
     "output_type": "execute_result"
    }
   ],
   "source": [
    "document = loader.load()\n",
    "\n",
    "document"
   ]
  },
  {
   "cell_type": "markdown",
   "id": "f996b20a-8d94-4acd-b51c-ab3bf9f0625d",
   "metadata": {},
   "source": [
    "## Handle the Idea of Chunk Size and Chunk Overlap ??"
   ]
  },
  {
   "cell_type": "code",
   "execution_count": 8,
   "id": "c4a41c26-8e22-4078-a2f4-9765eee97bfd",
   "metadata": {
    "scrolled": true
   },
   "outputs": [
    {
     "data": {
      "text/plain": [
       "[Document(metadata={'source': 'new_articles\\\\05-04-cma-generative-ai-review.txt'}, page_content='Well that was fast. The U.K.’s competition watchdog has announced an initial review of “AI'),\n",
       " Document(metadata={'source': 'new_articles\\\\05-04-cma-generative-ai-review.txt'}, page_content='of “AI foundational models”, such as the large language models (LLMs) which underpin OpenAI’s'),\n",
       " Document(metadata={'source': 'new_articles\\\\05-04-cma-generative-ai-review.txt'}, page_content='OpenAI’s ChatGPT and Microsoft’s New Bing. Generative AI models which power AI art platforms such'),\n",
       " Document(metadata={'source': 'new_articles\\\\05-04-cma-generative-ai-review.txt'}, page_content='such as OpenAI’s DALL-E or Midjourney will also likely fall in scope.'),\n",
       " Document(metadata={'source': 'new_articles\\\\05-04-cma-generative-ai-review.txt'}, page_content='The Competition and Markets Authority (CMA) said its review will look at competition and consumer'),\n",
       " Document(metadata={'source': 'new_articles\\\\05-04-cma-generative-ai-review.txt'}, page_content='consumer protection considerations in the development and use of AI foundational models — with the'),\n",
       " Document(metadata={'source': 'new_articles\\\\05-04-cma-generative-ai-review.txt'}, page_content='with the aim of understanding “how foundation models are developing and producing an assessment of'),\n",
       " Document(metadata={'source': 'new_articles\\\\05-04-cma-generative-ai-review.txt'}, page_content='of the conditions and principles that will best guide the development of foundation models and'),\n",
       " Document(metadata={'source': 'new_articles\\\\05-04-cma-generative-ai-review.txt'}, page_content='and their use in the future”.'),\n",
       " Document(metadata={'source': 'new_articles\\\\05-04-cma-generative-ai-review.txt'}, page_content='It’s proposing to publish the review in “early September”, with a deadline of June 2 for interested'),\n",
       " Document(metadata={'source': 'new_articles\\\\05-04-cma-generative-ai-review.txt'}, page_content='stakeholders to submit responses to inform its work.'),\n",
       " Document(metadata={'source': 'new_articles\\\\05-04-cma-generative-ai-review.txt'}, page_content='“Foundation models, which include large language models and generative artificial intelligence'),\n",
       " Document(metadata={'source': 'new_articles\\\\05-04-cma-generative-ai-review.txt'}, page_content='(AI), that have emerged over the past five years, have the potential to transform much of what'),\n",
       " Document(metadata={'source': 'new_articles\\\\05-04-cma-generative-ai-review.txt'}, page_content='of what people and businesses do. To ensure that innovation in AI continues in a way that benefits'),\n",
       " Document(metadata={'source': 'new_articles\\\\05-04-cma-generative-ai-review.txt'}, page_content='benefits consumers, businesses and the UK economy, the government has asked regulators, including'),\n",
       " Document(metadata={'source': 'new_articles\\\\05-04-cma-generative-ai-review.txt'}, page_content='including the [CMA], to think about how the innovative development and deployment of AI can be'),\n",
       " Document(metadata={'source': 'new_articles\\\\05-04-cma-generative-ai-review.txt'}, page_content='AI can be supported against five overarching principles: safety, security and robustness;'),\n",
       " Document(metadata={'source': 'new_articles\\\\05-04-cma-generative-ai-review.txt'}, page_content='appropriate transparency and explainability; fairness; accountability and governance; and'),\n",
       " Document(metadata={'source': 'new_articles\\\\05-04-cma-generative-ai-review.txt'}, page_content='and contestability and redress,” the CMA wrote in a press release.”'),\n",
       " Document(metadata={'source': 'new_articles\\\\05-04-cma-generative-ai-review.txt'}, page_content='Stanford University’s Human-Centered Artificial Intelligence Center’s Center for Research on'),\n",
       " Document(metadata={'source': 'new_articles\\\\05-04-cma-generative-ai-review.txt'}, page_content='on Foundation Models is credited with coining the term “foundational models”, back in 2021, to'),\n",
       " Document(metadata={'source': 'new_articles\\\\05-04-cma-generative-ai-review.txt'}, page_content='2021, to refer to AI systems that focus on training one model on a huge amount of data and adapting'),\n",
       " Document(metadata={'source': 'new_articles\\\\05-04-cma-generative-ai-review.txt'}, page_content='adapting it to many applications.'),\n",
       " Document(metadata={'source': 'new_articles\\\\05-04-cma-generative-ai-review.txt'}, page_content='“The development of AI touches upon a number of important issues, including safety, security,'),\n",
       " Document(metadata={'source': 'new_articles\\\\05-04-cma-generative-ai-review.txt'}, page_content='security, copyright, privacy, and human rights, as well as the ways markets work. Many of these'),\n",
       " Document(metadata={'source': 'new_articles\\\\05-04-cma-generative-ai-review.txt'}, page_content='of these issues are being considered by government or other regulators, so this initial review will'),\n",
       " Document(metadata={'source': 'new_articles\\\\05-04-cma-generative-ai-review.txt'}, page_content='will focus on the questions the CMA is best placed to address — what are the likely implications of'),\n",
       " Document(metadata={'source': 'new_articles\\\\05-04-cma-generative-ai-review.txt'}, page_content='of the development of AI foundation models for competition and consumer protection?” the CMA added.'),\n",
       " Document(metadata={'source': 'new_articles\\\\05-04-cma-generative-ai-review.txt'}, page_content='In a statement, its CEO, Sarah Cardell, also said:'),\n",
       " Document(metadata={'source': 'new_articles\\\\05-04-cma-generative-ai-review.txt'}, page_content='AI has burst into the public consciousness over the past few months but has been on our radar for'),\n",
       " Document(metadata={'source': 'new_articles\\\\05-04-cma-generative-ai-review.txt'}, page_content='radar for some time. It’s a technology developing at speed and has the potential to transform the'),\n",
       " Document(metadata={'source': 'new_articles\\\\05-04-cma-generative-ai-review.txt'}, page_content='the way businesses compete as well as drive substantial economic growth. It’s crucial that the'),\n",
       " Document(metadata={'source': 'new_articles\\\\05-04-cma-generative-ai-review.txt'}, page_content='that the potential benefits of this transformative technology are readily accessible to UK'),\n",
       " Document(metadata={'source': 'new_articles\\\\05-04-cma-generative-ai-review.txt'}, page_content='to UK businesses and consumers while people remain protected from issues like false or misleading'),\n",
       " Document(metadata={'source': 'new_articles\\\\05-04-cma-generative-ai-review.txt'}, page_content='information. Our goal is to help this new, rapidly scaling technology develop in ways that ensure'),\n",
       " Document(metadata={'source': 'new_articles\\\\05-04-cma-generative-ai-review.txt'}, page_content='ensure open, competitive markets and effective consumer protection.'),\n",
       " Document(metadata={'source': 'new_articles\\\\05-04-cma-generative-ai-review.txt'}, page_content='Specifically, the U.K. competition regulator said its initial review of AI foundational models'),\n",
       " Document(metadata={'source': 'new_articles\\\\05-04-cma-generative-ai-review.txt'}, page_content='models will:'),\n",
       " Document(metadata={'source': 'new_articles\\\\05-04-cma-generative-ai-review.txt'}, page_content='examine how the competitive markets for foundation models and their use could evolve'),\n",
       " Document(metadata={'source': 'new_articles\\\\05-04-cma-generative-ai-review.txt'}, page_content='explore what opportunities and risks these scenarios could bring for competition and consumer'),\n",
       " Document(metadata={'source': 'new_articles\\\\05-04-cma-generative-ai-review.txt'}, page_content='consumer protection'),\n",
       " Document(metadata={'source': 'new_articles\\\\05-04-cma-generative-ai-review.txt'}, page_content='produce guiding principles to support competition and protect consumers as AI foundation models'),\n",
       " Document(metadata={'source': 'new_articles\\\\05-04-cma-generative-ai-review.txt'}, page_content='models develop'),\n",
       " Document(metadata={'source': 'new_articles\\\\05-04-cma-generative-ai-review.txt'}, page_content='While it may seen early for the antitrust regulator to conduct a review of such a fast-moving'),\n",
       " Document(metadata={'source': 'new_articles\\\\05-04-cma-generative-ai-review.txt'}, page_content='emerging technology the CMA is acting on government instruction.'),\n",
       " Document(metadata={'source': 'new_articles\\\\05-04-cma-generative-ai-review.txt'}, page_content='An AI white paper published in March signalled ministers’ preference to avoid setting any bespoke'),\n",
       " Document(metadata={'source': 'new_articles\\\\05-04-cma-generative-ai-review.txt'}, page_content='bespoke rules (or oversight bodies) to govern uses of artificial intelligence at this stage.'),\n",
       " Document(metadata={'source': 'new_articles\\\\05-04-cma-generative-ai-review.txt'}, page_content='stage. However ministers said existing U.K. regulators — including the CMA, which was directly'),\n",
       " Document(metadata={'source': 'new_articles\\\\05-04-cma-generative-ai-review.txt'}, page_content='directly name-checked — would be expected to issue guidance to encourage safe, fair and accountable'),\n",
       " Document(metadata={'source': 'new_articles\\\\05-04-cma-generative-ai-review.txt'}, page_content='uses of AI.'),\n",
       " Document(metadata={'source': 'new_articles\\\\05-04-cma-generative-ai-review.txt'}, page_content='The CMA says its initial review of foundational AI models is in line with instructions in the white'),\n",
       " Document(metadata={'source': 'new_articles\\\\05-04-cma-generative-ai-review.txt'}, page_content='the white paper, where the government talked about existing regulators conducting “detailed risk'),\n",
       " Document(metadata={'source': 'new_articles\\\\05-04-cma-generative-ai-review.txt'}, page_content='risk analysis” in order to be in a position to carry out potential enforcements, i.e. on dangerous,'),\n",
       " Document(metadata={'source': 'new_articles\\\\05-04-cma-generative-ai-review.txt'}, page_content='unfair and unaccountable applications of AI, using their existing powers.'),\n",
       " Document(metadata={'source': 'new_articles\\\\05-04-cma-generative-ai-review.txt'}, page_content='The regulator also points to its core mission — to support open, competitive markets — as another'),\n",
       " Document(metadata={'source': 'new_articles\\\\05-04-cma-generative-ai-review.txt'}, page_content='another reason for taking a look at generative AI now.'),\n",
       " Document(metadata={'source': 'new_articles\\\\05-04-cma-generative-ai-review.txt'}, page_content='Notably, the competition watchdog is set to get additional powers to regulate Big Tech in the'),\n",
       " Document(metadata={'source': 'new_articles\\\\05-04-cma-generative-ai-review.txt'}, page_content='in the coming years, under plans taken off the back-burner by prime minister Rishi Sunak’s'),\n",
       " Document(metadata={'source': 'new_articles\\\\05-04-cma-generative-ai-review.txt'}, page_content='Sunak’s government last month, when ministers said it would move forward with a long-trailed (but'),\n",
       " Document(metadata={'source': 'new_articles\\\\05-04-cma-generative-ai-review.txt'}, page_content='(but much delayed) ex ante reform aimed at digital giants’ market power.'),\n",
       " Document(metadata={'source': 'new_articles\\\\05-04-cma-generative-ai-review.txt'}, page_content='The expectation is that the CMA’s Digital Markets Unit, up and running since 2021 in shadow form,'),\n",
       " Document(metadata={'source': 'new_articles\\\\05-04-cma-generative-ai-review.txt'}, page_content='form, will (finally) gain legislative powers in the coming years to apply pro-active'),\n",
       " Document(metadata={'source': 'new_articles\\\\05-04-cma-generative-ai-review.txt'}, page_content='“pro-competition” rules which are tailored to platforms that are deemed to have “strategic market'),\n",
       " Document(metadata={'source': 'new_articles\\\\05-04-cma-generative-ai-review.txt'}, page_content='market status” (SMS). So we can speculate that providers of powerful foundational AI models may,'),\n",
       " Document(metadata={'source': 'new_articles\\\\05-04-cma-generative-ai-review.txt'}, page_content='may, down the line, be judged to have SMS — meaning they could expect to face bespoke rules on how'),\n",
       " Document(metadata={'source': 'new_articles\\\\05-04-cma-generative-ai-review.txt'}, page_content='on how they must operate vis-a-vis rivals and consumers in the U.K. market.'),\n",
       " Document(metadata={'source': 'new_articles\\\\05-04-cma-generative-ai-review.txt'}, page_content='The U.K.’s data protection watchdog, the ICO, also has its eye on generative AI. It’s another'),\n",
       " Document(metadata={'source': 'new_articles\\\\05-04-cma-generative-ai-review.txt'}, page_content='another existing oversight body which the government has tasked with paying special mind to AI'),\n",
       " Document(metadata={'source': 'new_articles\\\\05-04-cma-generative-ai-review.txt'}, page_content='to AI under its plan for context-specific guidance to steer development of the tech through the'),\n",
       " Document(metadata={'source': 'new_articles\\\\05-04-cma-generative-ai-review.txt'}, page_content='the application of existing laws.'),\n",
       " Document(metadata={'source': 'new_articles\\\\05-04-cma-generative-ai-review.txt'}, page_content='In a blog post last month, Stephen Almond, the ICO’s executive director of regulatory risk, offered'),\n",
       " Document(metadata={'source': 'new_articles\\\\05-04-cma-generative-ai-review.txt'}, page_content='offered some tips and a little warning for developers of generative AI when it comes to compliance'),\n",
       " Document(metadata={'source': 'new_articles\\\\05-04-cma-generative-ai-review.txt'}, page_content='with U.K. data protection rules. “Organisations developing or using generative AI should be'),\n",
       " Document(metadata={'source': 'new_articles\\\\05-04-cma-generative-ai-review.txt'}, page_content='should be considering their data protection obligations from the outset, taking a data protection'),\n",
       " Document(metadata={'source': 'new_articles\\\\05-04-cma-generative-ai-review.txt'}, page_content='by design and by default approach,” he suggested. “This isn’t optional — if you’re processing'),\n",
       " Document(metadata={'source': 'new_articles\\\\05-04-cma-generative-ai-review.txt'}, page_content='personal data, it’s the law.”'),\n",
       " Document(metadata={'source': 'new_articles\\\\05-04-cma-generative-ai-review.txt'}, page_content='Over the English Channel in the European Union, meanwhile, lawmakers are in the process of deciding'),\n",
       " Document(metadata={'source': 'new_articles\\\\05-04-cma-generative-ai-review.txt'}, page_content='deciding a fixed set of rules that are likely to apply to generative AI.'),\n",
       " Document(metadata={'source': 'new_articles\\\\05-04-cma-generative-ai-review.txt'}, page_content='Negotiations toward a final text for the EU’s incoming AI rulebook are ongoing — but currently'),\n",
       " Document(metadata={'source': 'new_articles\\\\05-04-cma-generative-ai-review.txt'}, page_content='currently there’s a focus on how to regulate foundational models via amendments to the risk-based'),\n",
       " Document(metadata={'source': 'new_articles\\\\05-04-cma-generative-ai-review.txt'}, page_content='framework for regulating uses of AI the bloc published in draft over two years ago.'),\n",
       " Document(metadata={'source': 'new_articles\\\\05-04-cma-generative-ai-review.txt'}, page_content='It remains to be seen where the EU’s co-legislators will end up on what’s sometimes also referred'),\n",
       " Document(metadata={'source': 'new_articles\\\\05-04-cma-generative-ai-review.txt'}, page_content='referred to as general purpose AI. But, as we reported recently, parliamentarians are pushing for a'),\n",
       " Document(metadata={'source': 'new_articles\\\\05-04-cma-generative-ai-review.txt'}, page_content='for a layered approach to tackle safety issues with foundational models; the complexity of'),\n",
       " Document(metadata={'source': 'new_articles\\\\05-04-cma-generative-ai-review.txt'}, page_content='of responsibilities across AI supply chains; and to address specific content concerns (like'),\n",
       " Document(metadata={'source': 'new_articles\\\\05-04-cma-generative-ai-review.txt'}, page_content='(like copyright) which are associated with generative AI.'),\n",
       " Document(metadata={'source': 'new_articles\\\\05-04-cma-generative-ai-review.txt'}, page_content='Add to that, EU data protection law already applies to AI, of course. And privacy-focused'),\n",
       " Document(metadata={'source': 'new_articles\\\\05-04-cma-generative-ai-review.txt'}, page_content='investigations of models like ChatGPT are underway in the bloc — including in Italy where an'),\n",
       " Document(metadata={'source': 'new_articles\\\\05-04-cma-generative-ai-review.txt'}, page_content='where an intervention by the local watchdog led to OpenAI rushing out a series of privacy'),\n",
       " Document(metadata={'source': 'new_articles\\\\05-04-cma-generative-ai-review.txt'}, page_content='privacy disclosures and controls last month.'),\n",
       " Document(metadata={'source': 'new_articles\\\\05-04-cma-generative-ai-review.txt'}, page_content='The European Data Protection Board also recently set up a task force to support coordination'),\n",
       " Document(metadata={'source': 'new_articles\\\\05-04-cma-generative-ai-review.txt'}, page_content='between different data protection authorities on investigations of the AI chatbot. Others'),\n",
       " Document(metadata={'source': 'new_articles\\\\05-04-cma-generative-ai-review.txt'}, page_content='Others investigating ChatGPT include Spain’s privacy watchdog.'),\n",
       " Document(metadata={'source': 'new_articles\\\\05-04-hugging-face-and-servicenow-release-a-free-code-generating-model.txt'}, page_content='AI startup Hugging Face and ServiceNow Research, ServiceNow’s R&D division, have released StarCoder,'),\n",
       " Document(metadata={'source': 'new_articles\\\\05-04-hugging-face-and-servicenow-release-a-free-code-generating-model.txt'}, page_content='a free alternative to code-generating AI systems along the lines of GitHub’s Copilot.'),\n",
       " Document(metadata={'source': 'new_articles\\\\05-04-hugging-face-and-servicenow-release-a-free-code-generating-model.txt'}, page_content='Code-generating systems like DeepMind’s AlphaCode; Amazon’s CodeWhisperer; and OpenAI’s Codex,'),\n",
       " Document(metadata={'source': 'new_articles\\\\05-04-hugging-face-and-servicenow-release-a-free-code-generating-model.txt'}, page_content='Codex, which powers Copilot, provide a tantalizing glimpse at what’s possible with AI within the'),\n",
       " Document(metadata={'source': 'new_articles\\\\05-04-hugging-face-and-servicenow-release-a-free-code-generating-model.txt'}, page_content='the realm of computer programming. Assuming the ethical, technical and legal issues are someday'),\n",
       " Document(metadata={'source': 'new_articles\\\\05-04-hugging-face-and-servicenow-release-a-free-code-generating-model.txt'}, page_content='someday ironed out (and AI-powered coding tools don’t cause more bugs and security exploits than'),\n",
       " Document(metadata={'source': 'new_articles\\\\05-04-hugging-face-and-servicenow-release-a-free-code-generating-model.txt'}, page_content='than they solve), they could cut development costs substantially while allowing coders to focus on'),\n",
       " Document(metadata={'source': 'new_articles\\\\05-04-hugging-face-and-servicenow-release-a-free-code-generating-model.txt'}, page_content='focus on more creative tasks.'),\n",
       " Document(metadata={'source': 'new_articles\\\\05-04-hugging-face-and-servicenow-release-a-free-code-generating-model.txt'}, page_content='According to a study from the University of Cambridge, at least half of developers’ efforts are'),\n",
       " Document(metadata={'source': 'new_articles\\\\05-04-hugging-face-and-servicenow-release-a-free-code-generating-model.txt'}, page_content='are spent debugging and not actively programming, which costs the software industry an estimated'),\n",
       " Document(metadata={'source': 'new_articles\\\\05-04-hugging-face-and-servicenow-release-a-free-code-generating-model.txt'}, page_content='estimated $312 billion per year. But so far, only a handful of code-generating AI systems have been'),\n",
       " Document(metadata={'source': 'new_articles\\\\05-04-hugging-face-and-servicenow-release-a-free-code-generating-model.txt'}, page_content='have been made freely available to the public — reflecting the commercial incentives of the'),\n",
       " Document(metadata={'source': 'new_articles\\\\05-04-hugging-face-and-servicenow-release-a-free-code-generating-model.txt'}, page_content='of the organizations building them (see: Replit).'),\n",
       " Document(metadata={'source': 'new_articles\\\\05-04-hugging-face-and-servicenow-release-a-free-code-generating-model.txt'}, page_content='StarCoder, which by contrast is licensed to allow for royalty-free use by anyone, including'),\n",
       " Document(metadata={'source': 'new_articles\\\\05-04-hugging-face-and-servicenow-release-a-free-code-generating-model.txt'}, page_content='including corporations, was trained on over 80 programming languages as well as text from GitHub'),\n",
       " Document(metadata={'source': 'new_articles\\\\05-04-hugging-face-and-servicenow-release-a-free-code-generating-model.txt'}, page_content='GitHub repositories, including documentation and programming notebooks. StarCoder integrates with'),\n",
       " Document(metadata={'source': 'new_articles\\\\05-04-hugging-face-and-servicenow-release-a-free-code-generating-model.txt'}, page_content='with Microsoft’s Visual Studio Code code editor and, like OpenAI’s ChatGPT, can follow basic'),\n",
       " Document(metadata={'source': 'new_articles\\\\05-04-hugging-face-and-servicenow-release-a-free-code-generating-model.txt'}, page_content='basic instructions (e.g., “create an app UI”) and answer questions about code.'),\n",
       " Document(metadata={'source': 'new_articles\\\\05-04-hugging-face-and-servicenow-release-a-free-code-generating-model.txt'}, page_content='Congratulations to all the @BigCodeProject contributors that worked tirelessly over the last 6+'),\n",
       " Document(metadata={'source': 'new_articles\\\\05-04-hugging-face-and-servicenow-release-a-free-code-generating-model.txt'}, page_content='last 6+ months to bring the vision of releasing a responsibly developed 15B parameter Code LLM to'),\n",
       " Document(metadata={'source': 'new_articles\\\\05-04-hugging-face-and-servicenow-release-a-free-code-generating-model.txt'}, page_content='LLM to fruition. We cannot thank you enough for the collaboration & contributions to the community.'),\n",
       " Document(metadata={'source': 'new_articles\\\\05-04-hugging-face-and-servicenow-release-a-free-code-generating-model.txt'}, page_content='https://t.co/282sCRJq3k — ServiceNow Research (@ServiceNowRSRCH) May 4, 2023'),\n",
       " Document(metadata={'source': 'new_articles\\\\05-04-hugging-face-and-servicenow-release-a-free-code-generating-model.txt'}, page_content='Leandro von Werra, a machine learning engineer at Hugging Face and a co-lead on StarCoder, claims'),\n",
       " Document(metadata={'source': 'new_articles\\\\05-04-hugging-face-and-servicenow-release-a-free-code-generating-model.txt'}, page_content='claims that StarCoder matches or outperforms the AI model from OpenAI that was used to power'),\n",
       " Document(metadata={'source': 'new_articles\\\\05-04-hugging-face-and-servicenow-release-a-free-code-generating-model.txt'}, page_content='to power initial versions of Copilot.'),\n",
       " Document(metadata={'source': 'new_articles\\\\05-04-hugging-face-and-servicenow-release-a-free-code-generating-model.txt'}, page_content='“One thing we learned from releases such as Stable Diffusion last year is the creativity and'),\n",
       " Document(metadata={'source': 'new_articles\\\\05-04-hugging-face-and-servicenow-release-a-free-code-generating-model.txt'}, page_content='and capability of the open-source community,” von Werra told TechCrunch in an email interview.'),\n",
       " Document(metadata={'source': 'new_articles\\\\05-04-hugging-face-and-servicenow-release-a-free-code-generating-model.txt'}, page_content='“Within weeks of the release the community had built dozens of variants of the model as well as'),\n",
       " Document(metadata={'source': 'new_articles\\\\05-04-hugging-face-and-servicenow-release-a-free-code-generating-model.txt'}, page_content='well as custom applications. Releasing a powerful code generation model allows anybody to fine-tune'),\n",
       " Document(metadata={'source': 'new_articles\\\\05-04-hugging-face-and-servicenow-release-a-free-code-generating-model.txt'}, page_content='fine-tune and adapt it to their own use-cases and will enable countless downstream applications.”'),\n",
       " Document(metadata={'source': 'new_articles\\\\05-04-hugging-face-and-servicenow-release-a-free-code-generating-model.txt'}, page_content='Building a model'),\n",
       " Document(metadata={'source': 'new_articles\\\\05-04-hugging-face-and-servicenow-release-a-free-code-generating-model.txt'}, page_content='StarCoder is a part of Hugging Face’s and ServiceNow’s over-600-person BigCode project, launched'),\n",
       " Document(metadata={'source': 'new_articles\\\\05-04-hugging-face-and-servicenow-release-a-free-code-generating-model.txt'}, page_content='launched late last year, which aims to develop “state-of-the-art” AI systems for code in an “open'),\n",
       " Document(metadata={'source': 'new_articles\\\\05-04-hugging-face-and-servicenow-release-a-free-code-generating-model.txt'}, page_content='an “open and responsible” way. Hugging Face supplied an in-house compute cluster of 512 Nvidia V100'),\n",
       " Document(metadata={'source': 'new_articles\\\\05-04-hugging-face-and-servicenow-release-a-free-code-generating-model.txt'}, page_content='V100 GPUs to train the StarCoder model.'),\n",
       " Document(metadata={'source': 'new_articles\\\\05-04-hugging-face-and-servicenow-release-a-free-code-generating-model.txt'}, page_content='Various BigCode working groups focus on subtopics like collecting datasets, implementing methods'),\n",
       " Document(metadata={'source': 'new_articles\\\\05-04-hugging-face-and-servicenow-release-a-free-code-generating-model.txt'}, page_content='methods for training code models, developing an evaluation suite and discussing ethical best'),\n",
       " Document(metadata={'source': 'new_articles\\\\05-04-hugging-face-and-servicenow-release-a-free-code-generating-model.txt'}, page_content='best practices. For example, the Legal, Ethics and Governance working group explored questions on'),\n",
       " Document(metadata={'source': 'new_articles\\\\05-04-hugging-face-and-servicenow-release-a-free-code-generating-model.txt'}, page_content='on data licensing, attribution of generated code to original code, the redaction of personally'),\n",
       " Document(metadata={'source': 'new_articles\\\\05-04-hugging-face-and-servicenow-release-a-free-code-generating-model.txt'}, page_content='identifiable information (PII), and the risks of outputting malicious code.'),\n",
       " Document(metadata={'source': 'new_articles\\\\05-04-hugging-face-and-servicenow-release-a-free-code-generating-model.txt'}, page_content='Inspired by Hugging Face’s previous efforts to open source sophisticated text-generating systems,'),\n",
       " Document(metadata={'source': 'new_articles\\\\05-04-hugging-face-and-servicenow-release-a-free-code-generating-model.txt'}, page_content='systems, BigCode seeks to address some of the controversies arising around the practice of'),\n",
       " Document(metadata={'source': 'new_articles\\\\05-04-hugging-face-and-servicenow-release-a-free-code-generating-model.txt'}, page_content='of AI-powered code generation. The nonprofit Software Freedom Conservancy among others has'),\n",
       " Document(metadata={'source': 'new_articles\\\\05-04-hugging-face-and-servicenow-release-a-free-code-generating-model.txt'}, page_content='has criticized GitHub and OpenAI for using public source code, not all of which is under a'),\n",
       " Document(metadata={'source': 'new_articles\\\\05-04-hugging-face-and-servicenow-release-a-free-code-generating-model.txt'}, page_content='under a permissive license, to train and monetize Codex. Codex is available through OpenAI’s and'),\n",
       " Document(metadata={'source': 'new_articles\\\\05-04-hugging-face-and-servicenow-release-a-free-code-generating-model.txt'}, page_content='and Microsoft’s paid APIs, while GitHub recently began charging for access to Copilot.'),\n",
       " Document(metadata={'source': 'new_articles\\\\05-04-hugging-face-and-servicenow-release-a-free-code-generating-model.txt'}, page_content='For their parts, GitHub and OpenAI assert that Codex and Copilot — protected by the doctrine of'),\n",
       " Document(metadata={'source': 'new_articles\\\\05-04-hugging-face-and-servicenow-release-a-free-code-generating-model.txt'}, page_content='of fair use, at least in the U.S. — don’t run afoul of any licensing agreements.'),\n",
       " Document(metadata={'source': 'new_articles\\\\05-04-hugging-face-and-servicenow-release-a-free-code-generating-model.txt'}, page_content='“Releasing a capable code-generating system can serve as a research platform for institutions that'),\n",
       " Document(metadata={'source': 'new_articles\\\\05-04-hugging-face-and-servicenow-release-a-free-code-generating-model.txt'}, page_content='that are interested in the topic but don’t have the necessary resources or know-how to train such'),\n",
       " Document(metadata={'source': 'new_articles\\\\05-04-hugging-face-and-servicenow-release-a-free-code-generating-model.txt'}, page_content='such models,” von Werra said. “We believe that in the long run this leads to fruitful research on'),\n",
       " Document(metadata={'source': 'new_articles\\\\05-04-hugging-face-and-servicenow-release-a-free-code-generating-model.txt'}, page_content='on safety, capabilities and limits of code-generating systems.”'),\n",
       " Document(metadata={'source': 'new_articles\\\\05-04-hugging-face-and-servicenow-release-a-free-code-generating-model.txt'}, page_content='Unlike Copilot, the 15-billion-parameter StarCoder was trained over the course of several days on'),\n",
       " Document(metadata={'source': 'new_articles\\\\05-04-hugging-face-and-servicenow-release-a-free-code-generating-model.txt'}, page_content='days on an open source dataset called The Stack, which has over 19 million curated, permissively'),\n",
       " Document(metadata={'source': 'new_articles\\\\05-04-hugging-face-and-servicenow-release-a-free-code-generating-model.txt'}, page_content='licensed repositories and more than six terabytes of code in over 350 programming languages. In'),\n",
       " Document(metadata={'source': 'new_articles\\\\05-04-hugging-face-and-servicenow-release-a-free-code-generating-model.txt'}, page_content='In machine learning, parameters are the parts of an AI system learned from historical training data'),\n",
       " Document(metadata={'source': 'new_articles\\\\05-04-hugging-face-and-servicenow-release-a-free-code-generating-model.txt'}, page_content='data and essentially define the skill of the system on a problem, such as generating code.'),\n",
       " Document(metadata={'source': 'new_articles\\\\05-04-hugging-face-and-servicenow-release-a-free-code-generating-model.txt'}, page_content='Because it’s permissively licensed, code from The Stack can be copied, modified and redistributed.'),\n",
       " Document(metadata={'source': 'new_articles\\\\05-04-hugging-face-and-servicenow-release-a-free-code-generating-model.txt'}, page_content='But the BigCode project also provides a way for developers to “opt out” of The Stack, similar to'),\n",
       " Document(metadata={'source': 'new_articles\\\\05-04-hugging-face-and-servicenow-release-a-free-code-generating-model.txt'}, page_content='to efforts elsewhere to let artists remove their work from text-to-image AI training datasets.'),\n",
       " Document(metadata={'source': 'new_articles\\\\05-04-hugging-face-and-servicenow-release-a-free-code-generating-model.txt'}, page_content='The BigCode team also worked to remove PII from The Stack, such as names, usernames, email and IP'),\n",
       " Document(metadata={'source': 'new_articles\\\\05-04-hugging-face-and-servicenow-release-a-free-code-generating-model.txt'}, page_content='and IP addresses, and keys and passwords. They created a separate dataset of 12,000 files'),\n",
       " Document(metadata={'source': 'new_articles\\\\05-04-hugging-face-and-servicenow-release-a-free-code-generating-model.txt'}, page_content='files containing PII, which they plan to release to researchers through “gated access.”'),\n",
       " Document(metadata={'source': 'new_articles\\\\05-04-hugging-face-and-servicenow-release-a-free-code-generating-model.txt'}, page_content='Beyond this, the BigCode team used Hugging Face’s malicious code detection tool to remove files'),\n",
       " Document(metadata={'source': 'new_articles\\\\05-04-hugging-face-and-servicenow-release-a-free-code-generating-model.txt'}, page_content='files from The Stack that might be considered “unsafe,” such as those with known exploits.'),\n",
       " Document(metadata={'source': 'new_articles\\\\05-04-hugging-face-and-servicenow-release-a-free-code-generating-model.txt'}, page_content='The privacy and security issues with generative AI systems, which for the most part are trained on'),\n",
       " Document(metadata={'source': 'new_articles\\\\05-04-hugging-face-and-servicenow-release-a-free-code-generating-model.txt'}, page_content='on relatively unfiltered data from the web, are well-established. ChatGPT once volunteered a'),\n",
       " Document(metadata={'source': 'new_articles\\\\05-04-hugging-face-and-servicenow-release-a-free-code-generating-model.txt'}, page_content='a journalist’s phone number. And GitHub has acknowledged that Copilot may generate keys,'),\n",
       " Document(metadata={'source': 'new_articles\\\\05-04-hugging-face-and-servicenow-release-a-free-code-generating-model.txt'}, page_content='keys, credentials and passwords seen in its training data on novel strings.'),\n",
       " Document(metadata={'source': 'new_articles\\\\05-04-hugging-face-and-servicenow-release-a-free-code-generating-model.txt'}, page_content='“Code poses some of the most sensitive intellectual property for most companies,” von Werra said.'),\n",
       " Document(metadata={'source': 'new_articles\\\\05-04-hugging-face-and-servicenow-release-a-free-code-generating-model.txt'}, page_content='said. “In particular, sharing it outside their infrastructure poses immense challenges.”'),\n",
       " Document(metadata={'source': 'new_articles\\\\05-04-hugging-face-and-servicenow-release-a-free-code-generating-model.txt'}, page_content='To his point, some legal experts have argued that code-generating AI systems could put companies at'),\n",
       " Document(metadata={'source': 'new_articles\\\\05-04-hugging-face-and-servicenow-release-a-free-code-generating-model.txt'}, page_content='at risk if they were to unwittingly incorporate copyrighted or sensitive text from the tools into'),\n",
       " Document(metadata={'source': 'new_articles\\\\05-04-hugging-face-and-servicenow-release-a-free-code-generating-model.txt'}, page_content='into their production software. As Elaine Atwell notes in a piece on Kolide’s corporate blog,'),\n",
       " Document(metadata={'source': 'new_articles\\\\05-04-hugging-face-and-servicenow-release-a-free-code-generating-model.txt'}, page_content='blog, because systems like Copilot strip code of its licenses, it’s difficult to tell which code is'),\n",
       " Document(metadata={'source': 'new_articles\\\\05-04-hugging-face-and-servicenow-release-a-free-code-generating-model.txt'}, page_content='code is permissible to deploy and which might have incompatible terms of use.'),\n",
       " Document(metadata={'source': 'new_articles\\\\05-04-hugging-face-and-servicenow-release-a-free-code-generating-model.txt'}, page_content='In response to the criticisms, GitHub added a toggle that lets customers prevent suggested code'),\n",
       " Document(metadata={'source': 'new_articles\\\\05-04-hugging-face-and-servicenow-release-a-free-code-generating-model.txt'}, page_content='code that matches public, potentially copyrighted content from GitHub from being shown. Amazon,'),\n",
       " Document(metadata={'source': 'new_articles\\\\05-04-hugging-face-and-servicenow-release-a-free-code-generating-model.txt'}, page_content='Amazon, following suit, has CodeWhisperer highlight and optionally filter the license associated'),\n",
       " Document(metadata={'source': 'new_articles\\\\05-04-hugging-face-and-servicenow-release-a-free-code-generating-model.txt'}, page_content='with functions it suggests that bear a resemblance to snippets found in its training data.'),\n",
       " Document(metadata={'source': 'new_articles\\\\05-04-hugging-face-and-servicenow-release-a-free-code-generating-model.txt'}, page_content='Commercial drivers'),\n",
       " Document(metadata={'source': 'new_articles\\\\05-04-hugging-face-and-servicenow-release-a-free-code-generating-model.txt'}, page_content='So what does ServiceNow, a company that deals mostly in enterprise automation software, get out of'),\n",
       " Document(metadata={'source': 'new_articles\\\\05-04-hugging-face-and-servicenow-release-a-free-code-generating-model.txt'}, page_content='out of this? A “strong-performing model and a responsible AI model license that permits commercial'),\n",
       " Document(metadata={'source': 'new_articles\\\\05-04-hugging-face-and-servicenow-release-a-free-code-generating-model.txt'}, page_content='use,” said Harm de Vries, the lead of the Large Language Model Lab at ServiceNow Research and the'),\n",
       " Document(metadata={'source': 'new_articles\\\\05-04-hugging-face-and-servicenow-release-a-free-code-generating-model.txt'}, page_content='and the co-lead of the BigCode project.'),\n",
       " Document(metadata={'source': 'new_articles\\\\05-04-hugging-face-and-servicenow-release-a-free-code-generating-model.txt'}, page_content='One imagines that ServiceNow will eventually build StarCoder into its commercial products. The'),\n",
       " Document(metadata={'source': 'new_articles\\\\05-04-hugging-face-and-servicenow-release-a-free-code-generating-model.txt'}, page_content='The company wouldn’t reveal how much, in dollars, it’s invested in the BigCode project, save that'),\n",
       " Document(metadata={'source': 'new_articles\\\\05-04-hugging-face-and-servicenow-release-a-free-code-generating-model.txt'}, page_content='save that the amount of donated compute was “substantial.”'),\n",
       " Document(metadata={'source': 'new_articles\\\\05-04-hugging-face-and-servicenow-release-a-free-code-generating-model.txt'}, page_content='“The Large Language Models Lab at ServiceNow Research is building up expertise on the responsible'),\n",
       " Document(metadata={'source': 'new_articles\\\\05-04-hugging-face-and-servicenow-release-a-free-code-generating-model.txt'}, page_content='development of generative AI models to ensure the safe and ethical deployment of these powerful'),\n",
       " Document(metadata={'source': 'new_articles\\\\05-04-hugging-face-and-servicenow-release-a-free-code-generating-model.txt'}, page_content='powerful models for our customers,” de Vries said. “The open-scientific research approach to'),\n",
       " Document(metadata={'source': 'new_articles\\\\05-04-hugging-face-and-servicenow-release-a-free-code-generating-model.txt'}, page_content='to BigCode provides ServiceNow developers and customers with full transparency into how everything'),\n",
       " Document(metadata={'source': 'new_articles\\\\05-04-hugging-face-and-servicenow-release-a-free-code-generating-model.txt'}, page_content='was developed and demonstrates ServiceNow’s commitment to making socially responsible contributions'),\n",
       " Document(metadata={'source': 'new_articles\\\\05-04-hugging-face-and-servicenow-release-a-free-code-generating-model.txt'}, page_content='to the community.”'),\n",
       " Document(metadata={'source': 'new_articles\\\\05-04-hugging-face-and-servicenow-release-a-free-code-generating-model.txt'}, page_content='StarCoder isn’t open source in the strictest sense. Rather, it’s being released under a licensing'),\n",
       " Document(metadata={'source': 'new_articles\\\\05-04-hugging-face-and-servicenow-release-a-free-code-generating-model.txt'}, page_content='licensing scheme, OpenRAIL-M, that includes “legally enforceable” use case restrictions that'),\n",
       " Document(metadata={'source': 'new_articles\\\\05-04-hugging-face-and-servicenow-release-a-free-code-generating-model.txt'}, page_content='that derivatives of the model — and apps using the model — are required to comply with.'),\n",
       " Document(metadata={'source': 'new_articles\\\\05-04-hugging-face-and-servicenow-release-a-free-code-generating-model.txt'}, page_content='For example, StarCoder users must agree not to leverage the model to generate or distribute'),\n",
       " Document(metadata={'source': 'new_articles\\\\05-04-hugging-face-and-servicenow-release-a-free-code-generating-model.txt'}, page_content='malicious code. While real-world examples are few and far between (at least for now), researchers'),\n",
       " Document(metadata={'source': 'new_articles\\\\05-04-hugging-face-and-servicenow-release-a-free-code-generating-model.txt'}, page_content='have demonstrated how AI like StarCoder could be used in malware to evade basic forms of detection.'),\n",
       " Document(metadata={'source': 'new_articles\\\\05-04-hugging-face-and-servicenow-release-a-free-code-generating-model.txt'}, page_content='Whether developers actually respect the terms of the license remains to be seen. Legal threats'),\n",
       " Document(metadata={'source': 'new_articles\\\\05-04-hugging-face-and-servicenow-release-a-free-code-generating-model.txt'}, page_content='threats aside, there’s nothing at the base technical level to prevent them from disregarding the'),\n",
       " Document(metadata={'source': 'new_articles\\\\05-04-hugging-face-and-servicenow-release-a-free-code-generating-model.txt'}, page_content='the terms to their own ends.'),\n",
       " Document(metadata={'source': 'new_articles\\\\05-04-hugging-face-and-servicenow-release-a-free-code-generating-model.txt'}, page_content='That’s what happened with the aforementioned Stable Diffusion, whose similarly restrictive license'),\n",
       " Document(metadata={'source': 'new_articles\\\\05-04-hugging-face-and-servicenow-release-a-free-code-generating-model.txt'}, page_content='license was ignored by developers who used the generative AI model to create pictures of celebrity'),\n",
       " Document(metadata={'source': 'new_articles\\\\05-04-hugging-face-and-servicenow-release-a-free-code-generating-model.txt'}, page_content='celebrity deepfakes.'),\n",
       " Document(metadata={'source': 'new_articles\\\\05-04-hugging-face-and-servicenow-release-a-free-code-generating-model.txt'}, page_content='But the possibility hasn’t discouraged von Werra, who feels the downsides of not releasing'),\n",
       " Document(metadata={'source': 'new_articles\\\\05-04-hugging-face-and-servicenow-release-a-free-code-generating-model.txt'}, page_content='releasing StarCoder aren’t outweighed by the upsides.'),\n",
       " Document(metadata={'source': 'new_articles\\\\05-04-hugging-face-and-servicenow-release-a-free-code-generating-model.txt'}, page_content='“At launch, StarCoder will not ship as many features as GitHub Copilot, but with its open-source'),\n",
       " Document(metadata={'source': 'new_articles\\\\05-04-hugging-face-and-servicenow-release-a-free-code-generating-model.txt'}, page_content='nature, the community can help improve it along the way as well as integrate custom models,” he'),\n",
       " Document(metadata={'source': 'new_articles\\\\05-04-hugging-face-and-servicenow-release-a-free-code-generating-model.txt'}, page_content='he said.'),\n",
       " Document(metadata={'source': 'new_articles\\\\05-04-hugging-face-and-servicenow-release-a-free-code-generating-model.txt'}, page_content='The StarCoder code repositories, model training framework, dataset-filtering methods, code'),\n",
       " Document(metadata={'source': 'new_articles\\\\05-04-hugging-face-and-servicenow-release-a-free-code-generating-model.txt'}, page_content='code evaluation suite and research analysis notebooks are available on GitHub as of this week. The'),\n",
       " Document(metadata={'source': 'new_articles\\\\05-04-hugging-face-and-servicenow-release-a-free-code-generating-model.txt'}, page_content='week. The BigCode project will maintain them going forward as the groups look to develop more'),\n",
       " Document(metadata={'source': 'new_articles\\\\05-04-hugging-face-and-servicenow-release-a-free-code-generating-model.txt'}, page_content='more capable code-generating models, fueled by input from the community.'),\n",
       " Document(metadata={'source': 'new_articles\\\\05-04-hugging-face-and-servicenow-release-a-free-code-generating-model.txt'}, page_content='There’s certainly work to be done. In the technical paper accompanying StarCoder’s release, Hugging'),\n",
       " Document(metadata={'source': 'new_articles\\\\05-04-hugging-face-and-servicenow-release-a-free-code-generating-model.txt'}, page_content='Hugging Face and ServiceNow say that the model may produce inaccurate, offensive, and misleading'),\n",
       " Document(metadata={'source': 'new_articles\\\\05-04-hugging-face-and-servicenow-release-a-free-code-generating-model.txt'}, page_content='content as well as PII and malicious code that managed to make it past the dataset filtering stage.'),\n",
       " Document(metadata={'source': 'new_articles\\\\05-04-microsoft-doubles-down-on-ai-with-new-bing-features.txt'}, page_content=\"Microsoft doubles down on AI with new Bing features The company's betting the farm on generative AI\"),\n",
       " Document(metadata={'source': 'new_articles\\\\05-04-microsoft-doubles-down-on-ai-with-new-bing-features.txt'}, page_content='Microsoft is embarking on the next phase of Bing’s expansion. And — no surprise — it heavily'),\n",
       " Document(metadata={'source': 'new_articles\\\\05-04-microsoft-doubles-down-on-ai-with-new-bing-features.txt'}, page_content='heavily revolves around AI.'),\n",
       " Document(metadata={'source': 'new_articles\\\\05-04-microsoft-doubles-down-on-ai-with-new-bing-features.txt'}, page_content='At a preview event this week in New York City, Microsoft execs including Yusuf Mehdi, the CVP and'),\n",
       " Document(metadata={'source': 'new_articles\\\\05-04-microsoft-doubles-down-on-ai-with-new-bing-features.txt'}, page_content='CVP and consumer chief marketing officer, gave members of the press, including this reporter, a'),\n",
       " Document(metadata={'source': 'new_articles\\\\05-04-microsoft-doubles-down-on-ai-with-new-bing-features.txt'}, page_content='a look at the range of features heading to Bing over the next few days, weeks and months.'),\n",
       " Document(metadata={'source': 'new_articles\\\\05-04-microsoft-doubles-down-on-ai-with-new-bing-features.txt'}, page_content='They don’t so much reinvent the wheel as they build on what Microsoft has injected into the Bing'),\n",
       " Document(metadata={'source': 'new_articles\\\\05-04-microsoft-doubles-down-on-ai-with-new-bing-features.txt'}, page_content='the Bing experience over the past three months or so. Since launching Bing Chat, its AI-powered'),\n",
       " Document(metadata={'source': 'new_articles\\\\05-04-microsoft-doubles-down-on-ai-with-new-bing-features.txt'}, page_content='chatbot powered by OpenAI’s GPT-4 and DALL-E 2 models, Microsoft says that visitors to Bing — which'),\n",
       " Document(metadata={'source': 'new_articles\\\\05-04-microsoft-doubles-down-on-ai-with-new-bing-features.txt'}, page_content='— which has grown to exceed 100 million daily active users — have engaged in over half a billion'),\n",
       " Document(metadata={'source': 'new_articles\\\\05-04-microsoft-doubles-down-on-ai-with-new-bing-features.txt'}, page_content='a billion chats and created more than 200 million images.'),\n",
       " Document(metadata={'source': 'new_articles\\\\05-04-microsoft-doubles-down-on-ai-with-new-bing-features.txt'}, page_content='Looking ahead, Bing will become more visual, thanks to more image- and graphic-centric answers in'),\n",
       " Document(metadata={'source': 'new_articles\\\\05-04-microsoft-doubles-down-on-ai-with-new-bing-features.txt'}, page_content='in Bing Chat. It’ll also become more personalized, with capabilities that’ll allow users to export'),\n",
       " Document(metadata={'source': 'new_articles\\\\05-04-microsoft-doubles-down-on-ai-with-new-bing-features.txt'}, page_content='to export their Bing Chat histories and draw in content from third-party plugins (more on those'),\n",
       " Document(metadata={'source': 'new_articles\\\\05-04-microsoft-doubles-down-on-ai-with-new-bing-features.txt'}, page_content='on those later). And it’ll embrace multimodality, at least in the sense that Bing Chat will be able'),\n",
       " Document(metadata={'source': 'new_articles\\\\05-04-microsoft-doubles-down-on-ai-with-new-bing-features.txt'}, page_content='be able to answer questions within the context of images.'),\n",
       " Document(metadata={'source': 'new_articles\\\\05-04-microsoft-doubles-down-on-ai-with-new-bing-features.txt'}, page_content='“I think it’s safe to say that we’re underway with the transformation of search,” Mehdi said in'),\n",
       " Document(metadata={'source': 'new_articles\\\\05-04-microsoft-doubles-down-on-ai-with-new-bing-features.txt'}, page_content='said in prepared remarks. “In our minds, we think that today will be the start of the next'),\n",
       " Document(metadata={'source': 'new_articles\\\\05-04-microsoft-doubles-down-on-ai-with-new-bing-features.txt'}, page_content=\"the next generation of this ‘search mission.'”\"),\n",
       " Document(metadata={'source': 'new_articles\\\\05-04-microsoft-doubles-down-on-ai-with-new-bing-features.txt'}, page_content='Open, and visual'),\n",
       " Document(metadata={'source': 'new_articles\\\\05-04-microsoft-doubles-down-on-ai-with-new-bing-features.txt'}, page_content='As of today, the new Bing — the one with Bing Chat — is now available waitlist-free. Anyone can try'),\n",
       " Document(metadata={'source': 'new_articles\\\\05-04-microsoft-doubles-down-on-ai-with-new-bing-features.txt'}, page_content='can try it out by signing in with a Microsoft Account.'),\n",
       " Document(metadata={'source': 'new_articles\\\\05-04-microsoft-doubles-down-on-ai-with-new-bing-features.txt'}, page_content='It’s more or less the experience that launched several months ago. But as alluded to earlier, Bing'),\n",
       " Document(metadata={'source': 'new_articles\\\\05-04-microsoft-doubles-down-on-ai-with-new-bing-features.txt'}, page_content='Bing Chat will soon respond with images — at least where it makes sense. Answers to questions (e.g.'),\n",
       " Document(metadata={'source': 'new_articles\\\\05-04-microsoft-doubles-down-on-ai-with-new-bing-features.txt'}, page_content='(e.g. “Where is Machu Picchu?”) will be accompanied by relevant images if any exist, much like the'),\n",
       " Document(metadata={'source': 'new_articles\\\\05-04-microsoft-doubles-down-on-ai-with-new-bing-features.txt'}, page_content='like the standard Bing search flow but condensed into a card-like interface.'),\n",
       " Document(metadata={'source': 'new_articles\\\\05-04-microsoft-doubles-down-on-ai-with-new-bing-features.txt'}, page_content='In a demo at the event, a spokesperson typed the question “Does the saguaro cactus grow flowers?”'),\n",
       " Document(metadata={'source': 'new_articles\\\\05-04-microsoft-doubles-down-on-ai-with-new-bing-features.txt'}, page_content='flowers?” and Bing Chat pulled up a paragraph-long response alongside an image of the cactus in'),\n",
       " Document(metadata={'source': 'new_articles\\\\05-04-microsoft-doubles-down-on-ai-with-new-bing-features.txt'}, page_content='cactus in question. For me, it evoked the “knowledge panels” in Google Search.'),\n",
       " Document(metadata={'source': 'new_articles\\\\05-04-microsoft-doubles-down-on-ai-with-new-bing-features.txt'}, page_content='Microsoft isn’t saying which categories of content, exactly, might trigger an image. But it does'),\n",
       " Document(metadata={'source': 'new_articles\\\\05-04-microsoft-doubles-down-on-ai-with-new-bing-features.txt'}, page_content='it does have filtering in place to prevent explicit images from appearing — or so it claims.'),\n",
       " Document(metadata={'source': 'new_articles\\\\05-04-microsoft-doubles-down-on-ai-with-new-bing-features.txt'}, page_content='Sarah Bird, the head of responsible AI at Microsoft, told me that Bing Chat benefits from the'),\n",
       " Document(metadata={'source': 'new_articles\\\\05-04-microsoft-doubles-down-on-ai-with-new-bing-features.txt'}, page_content='from the filtering and moderation already in place with Bing search. Beyond this, Bing Chat uses a'),\n",
       " Document(metadata={'source': 'new_articles\\\\05-04-microsoft-doubles-down-on-ai-with-new-bing-features.txt'}, page_content='uses a combination of “toxicity classifiers,” or AI models trained to detect potentially harmful'),\n",
       " Document(metadata={'source': 'new_articles\\\\05-04-microsoft-doubles-down-on-ai-with-new-bing-features.txt'}, page_content='harmful prompts, and blacklists to keep the chat relatively clean.'),\n",
       " Document(metadata={'source': 'new_articles\\\\05-04-microsoft-doubles-down-on-ai-with-new-bing-features.txt'}, page_content='Those measures didn’t prevent Bing Chat from going off the rails when it first rolled out in'),\n",
       " Document(metadata={'source': 'new_articles\\\\05-04-microsoft-doubles-down-on-ai-with-new-bing-features.txt'}, page_content='out in preview in early February, it’s worth noting. Our coverage found the chatbot spouting'),\n",
       " Document(metadata={'source': 'new_articles\\\\05-04-microsoft-doubles-down-on-ai-with-new-bing-features.txt'}, page_content='spouting vaccine misinformation and writing a hateful screed from the perspective of Adolf Hitler.'),\n",
       " Document(metadata={'source': 'new_articles\\\\05-04-microsoft-doubles-down-on-ai-with-new-bing-features.txt'}, page_content='Hitler. Other reporters got it to make threats, claim multiple identities and even shame them for'),\n",
       " Document(metadata={'source': 'new_articles\\\\05-04-microsoft-doubles-down-on-ai-with-new-bing-features.txt'}, page_content='them for admonishing it.'),\n",
       " Document(metadata={'source': 'new_articles\\\\05-04-microsoft-doubles-down-on-ai-with-new-bing-features.txt'}, page_content='In another knock against Microsoft, the company just a few months ago laid off the ethics and'),\n",
       " Document(metadata={'source': 'new_articles\\\\05-04-microsoft-doubles-down-on-ai-with-new-bing-features.txt'}, page_content='and society team within its larger AI organization. The move left Microsoft without a dedicated'),\n",
       " Document(metadata={'source': 'new_articles\\\\05-04-microsoft-doubles-down-on-ai-with-new-bing-features.txt'}, page_content='dedicated team to ensure its AI principles are closely tied to product design.'),\n",
       " Document(metadata={'source': 'new_articles\\\\05-04-microsoft-doubles-down-on-ai-with-new-bing-features.txt'}, page_content='Bird, though, asserts that meaningful progress has been made and that these sorts of AI issues'),\n",
       " Document(metadata={'source': 'new_articles\\\\05-04-microsoft-doubles-down-on-ai-with-new-bing-features.txt'}, page_content='AI issues aren’t solved overnight — public though Bing Chat may be. Among other measures, a team of'),\n",
       " Document(metadata={'source': 'new_articles\\\\05-04-microsoft-doubles-down-on-ai-with-new-bing-features.txt'}, page_content='a team of human moderators is in place to watch for abuse, she said, such as users attempting to'),\n",
       " Document(metadata={'source': 'new_articles\\\\05-04-microsoft-doubles-down-on-ai-with-new-bing-features.txt'}, page_content='to use Bing Chat to generate phishing emails.'),\n",
       " Document(metadata={'source': 'new_articles\\\\05-04-microsoft-doubles-down-on-ai-with-new-bing-features.txt'}, page_content='But — as members of the press weren’t given the chance to interact with the latest version of Bing'),\n",
       " Document(metadata={'source': 'new_articles\\\\05-04-microsoft-doubles-down-on-ai-with-new-bing-features.txt'}, page_content='of Bing beyond curated demos — I can’t say to what extent all that’s made a difference. It’ll'),\n",
       " Document(metadata={'source': 'new_articles\\\\05-04-microsoft-doubles-down-on-ai-with-new-bing-features.txt'}, page_content='It’ll doubtless become clear once more folks get their hands on it.'),\n",
       " Document(metadata={'source': 'new_articles\\\\05-04-microsoft-doubles-down-on-ai-with-new-bing-features.txt'}, page_content='One aspect of Bing Chat that is improving is the transparency around its responses — specifically'),\n",
       " Document(metadata={'source': 'new_articles\\\\05-04-microsoft-doubles-down-on-ai-with-new-bing-features.txt'}, page_content='responses of a fact-based nature. Soon, when asked to summarize a document or about the contents a'),\n",
       " Document(metadata={'source': 'new_articles\\\\05-04-microsoft-doubles-down-on-ai-with-new-bing-features.txt'}, page_content='a document (e.g. “what does this page say about the Brooklyn Bridge?”), whether a 20-page PDF or a'),\n",
       " Document(metadata={'source': 'new_articles\\\\05-04-microsoft-doubles-down-on-ai-with-new-bing-features.txt'}, page_content='PDF or a Wikipedia article, Bing Chat will include citations indicating from where in the text the'),\n",
       " Document(metadata={'source': 'new_articles\\\\05-04-microsoft-doubles-down-on-ai-with-new-bing-features.txt'}, page_content='text the information came from. Clicking on them will highlight the corresponding passage.'),\n",
       " Document(metadata={'source': 'new_articles\\\\05-04-microsoft-doubles-down-on-ai-with-new-bing-features.txt'}, page_content='Productivity emergent'),\n",
       " Document(metadata={'source': 'new_articles\\\\05-04-microsoft-doubles-down-on-ai-with-new-bing-features.txt'}, page_content='In another new feature on the visual front, Bing Chat will be able to create charts and graphs when'),\n",
       " Document(metadata={'source': 'new_articles\\\\05-04-microsoft-doubles-down-on-ai-with-new-bing-features.txt'}, page_content='when fed the right prompt and data. Previously, asking something like “Which are the most populous'),\n",
       " Document(metadata={'source': 'new_articles\\\\05-04-microsoft-doubles-down-on-ai-with-new-bing-features.txt'}, page_content='populous cities in Brazil?” would yield a basic list of results. But in a near-future preview, Bing'),\n",
       " Document(metadata={'source': 'new_articles\\\\05-04-microsoft-doubles-down-on-ai-with-new-bing-features.txt'}, page_content='Bing Chat will present those results visually and in the chart type of a user’s choosing.'),\n",
       " Document(metadata={'source': 'new_articles\\\\05-04-microsoft-doubles-down-on-ai-with-new-bing-features.txt'}, page_content='This seemingly represents a step for Bing toward a full-blown productivity platform, particularly'),\n",
       " Document(metadata={'source': 'new_articles\\\\05-04-microsoft-doubles-down-on-ai-with-new-bing-features.txt'}, page_content='when paired with the enhanced text-to-image generation capabilities coming down the pipeline.'),\n",
       " Document(metadata={'source': 'new_articles\\\\05-04-microsoft-doubles-down-on-ai-with-new-bing-features.txt'}, page_content='In the coming weeks, Bing Image Creator — Microsoft’s tool that can generate images from text'),\n",
       " Document(metadata={'source': 'new_articles\\\\05-04-microsoft-doubles-down-on-ai-with-new-bing-features.txt'}, page_content='from text prompts, powered by DALL-E 2 — will understand more languages aside from English (over'),\n",
       " Document(metadata={'source': 'new_articles\\\\05-04-microsoft-doubles-down-on-ai-with-new-bing-features.txt'}, page_content='(over 100 total). As with English, users will be able to refine the images they generate with'),\n",
       " Document(metadata={'source': 'new_articles\\\\05-04-microsoft-doubles-down-on-ai-with-new-bing-features.txt'}, page_content='with follow-up prompts (e.g. “Make an image of a bunny rabbit,” followed by “now make the fur'),\n",
       " Document(metadata={'source': 'new_articles\\\\05-04-microsoft-doubles-down-on-ai-with-new-bing-features.txt'}, page_content='the fur pink”).'),\n",
       " Document(metadata={'source': 'new_articles\\\\05-04-microsoft-doubles-down-on-ai-with-new-bing-features.txt'}, page_content='Generative art AI has been in the headlines a lot, lately — and not for the most optimistic of'),\n",
       " Document(metadata={'source': 'new_articles\\\\05-04-microsoft-doubles-down-on-ai-with-new-bing-features.txt'}, page_content='of reasons necessarily.'),\n",
       " Document(metadata={'source': 'new_articles\\\\05-04-microsoft-doubles-down-on-ai-with-new-bing-features.txt'}, page_content='Plaintiffs have brought several lawsuits against OpenAI and its rival vendors, alleging that'),\n",
       " Document(metadata={'source': 'new_articles\\\\05-04-microsoft-doubles-down-on-ai-with-new-bing-features.txt'}, page_content='that copyrighted data — mostly art — was used without their permission to train generative models'),\n",
       " Document(metadata={'source': 'new_articles\\\\05-04-microsoft-doubles-down-on-ai-with-new-bing-features.txt'}, page_content='models like DALL-E 2. Generative models “learn” to create art and more by “training” on sample'),\n",
       " Document(metadata={'source': 'new_articles\\\\05-04-microsoft-doubles-down-on-ai-with-new-bing-features.txt'}, page_content='on sample images and text, usually scraped indiscriminately from the public web.'),\n",
       " Document(metadata={'source': 'new_articles\\\\05-04-microsoft-doubles-down-on-ai-with-new-bing-features.txt'}, page_content='I asked Bird about whether Microsoft is exploring ways to compensate creators whose work was swept'),\n",
       " Document(metadata={'source': 'new_articles\\\\05-04-microsoft-doubles-down-on-ai-with-new-bing-features.txt'}, page_content='was swept up in training data, even if the company’s official position is that it’s a matter of'),\n",
       " Document(metadata={'source': 'new_articles\\\\05-04-microsoft-doubles-down-on-ai-with-new-bing-features.txt'}, page_content='matter of fair use. Several platforms launching generative AI tools, including Shutterstock, have'),\n",
       " Document(metadata={'source': 'new_articles\\\\05-04-microsoft-doubles-down-on-ai-with-new-bing-features.txt'}, page_content='have kick-started creators funds along these lines. Others, like Spawning, are creating mechanisms'),\n",
       " Document(metadata={'source': 'new_articles\\\\05-04-microsoft-doubles-down-on-ai-with-new-bing-features.txt'}, page_content='to let artists opt out of AI model training altogether.'),\n",
       " Document(metadata={'source': 'new_articles\\\\05-04-microsoft-doubles-down-on-ai-with-new-bing-features.txt'}, page_content='Bird implied that these issues will eventually have to be confronted — and that content creators'),\n",
       " Document(metadata={'source': 'new_articles\\\\05-04-microsoft-doubles-down-on-ai-with-new-bing-features.txt'}, page_content='creators deserve some form of recompense. But she wasn’t willing to commit to anything concrete'),\n",
       " Document(metadata={'source': 'new_articles\\\\05-04-microsoft-doubles-down-on-ai-with-new-bing-features.txt'}, page_content='concrete this week.'),\n",
       " Document(metadata={'source': 'new_articles\\\\05-04-microsoft-doubles-down-on-ai-with-new-bing-features.txt'}, page_content='Multimodal search'),\n",
       " Document(metadata={'source': 'new_articles\\\\05-04-microsoft-doubles-down-on-ai-with-new-bing-features.txt'}, page_content='Elsewhere on the image front, Bing Chat is gaining the ability to understand images as well as'),\n",
       " Document(metadata={'source': 'new_articles\\\\05-04-microsoft-doubles-down-on-ai-with-new-bing-features.txt'}, page_content='well as text. Users will be able to upload images and search the web for related content, for'),\n",
       " Document(metadata={'source': 'new_articles\\\\05-04-microsoft-doubles-down-on-ai-with-new-bing-features.txt'}, page_content='for example copying a link to an image of a crocheted octopus and asking Bing Chat the question'),\n",
       " Document(metadata={'source': 'new_articles\\\\05-04-microsoft-doubles-down-on-ai-with-new-bing-features.txt'}, page_content='question “how do I make that?” to get step-by-step instructions.'),\n",
       " Document(metadata={'source': 'new_articles\\\\05-04-microsoft-doubles-down-on-ai-with-new-bing-features.txt'}, page_content='Multimodality powers the new page context function in the Edge app for mobile, as well. Users will'),\n",
       " Document(metadata={'source': 'new_articles\\\\05-04-microsoft-doubles-down-on-ai-with-new-bing-features.txt'}, page_content='will be able to ask questions in Bing Chat related to the mobile page they’re viewing.'),\n",
       " Document(metadata={'source': 'new_articles\\\\05-04-microsoft-doubles-down-on-ai-with-new-bing-features.txt'}, page_content='Microsoft wouldn’t say either way, but it seems likely that these new multimodal abilities stem'),\n",
       " Document(metadata={'source': 'new_articles\\\\05-04-microsoft-doubles-down-on-ai-with-new-bing-features.txt'}, page_content='stem from GPT-4, which can understand images in addition to text. When OpenAI announced GPT-4, it'),\n",
       " Document(metadata={'source': 'new_articles\\\\05-04-microsoft-doubles-down-on-ai-with-new-bing-features.txt'}, page_content='GPT-4, it didn’t make the model’s image understanding capabilities available to all customers — and'),\n",
       " Document(metadata={'source': 'new_articles\\\\05-04-microsoft-doubles-down-on-ai-with-new-bing-features.txt'}, page_content='— and still hasn’t. I’d wager that Microsoft, though, being a major investor in and close'),\n",
       " Document(metadata={'source': 'new_articles\\\\05-04-microsoft-doubles-down-on-ai-with-new-bing-features.txt'}, page_content='and close collaborator with OpenAI, has some sort of privileged access.'),\n",
       " Document(metadata={'source': 'new_articles\\\\05-04-microsoft-doubles-down-on-ai-with-new-bing-features.txt'}, page_content='Any image upload tool can be abused, of course, which is why Microsoft is employing automated'),\n",
       " Document(metadata={'source': 'new_articles\\\\05-04-microsoft-doubles-down-on-ai-with-new-bing-features.txt'}, page_content='automated filtering and hashing to block illicit uploads, according to Bird. The jury’s out on how'),\n",
       " Document(metadata={'source': 'new_articles\\\\05-04-microsoft-doubles-down-on-ai-with-new-bing-features.txt'}, page_content='on how well these work, though — we weren’t given the chance to test image uploads ourselves.'),\n",
       " Document(metadata={'source': 'new_articles\\\\05-04-microsoft-doubles-down-on-ai-with-new-bing-features.txt'}, page_content='New chat features\\n\\nMultimodality and new visual features aren’t all that’s coming to Bing Chat.'),\n",
       " Document(metadata={'source': 'new_articles\\\\05-04-microsoft-doubles-down-on-ai-with-new-bing-features.txt'}, page_content='Soon, Bing Chat will store users’ chat histories, letting them pick up where they left off and'),\n",
       " Document(metadata={'source': 'new_articles\\\\05-04-microsoft-doubles-down-on-ai-with-new-bing-features.txt'}, page_content='off and return to previous chats when they wish. It’s an experience akin to the chat history'),\n",
       " Document(metadata={'source': 'new_articles\\\\05-04-microsoft-doubles-down-on-ai-with-new-bing-features.txt'}, page_content='history feature OpenAI recently brought to ChatGPT, showing a list of chats and the bot’s responses'),\n",
       " Document(metadata={'source': 'new_articles\\\\05-04-microsoft-doubles-down-on-ai-with-new-bing-features.txt'}, page_content='responses to each of those chats.'),\n",
       " Document(metadata={'source': 'new_articles\\\\05-04-microsoft-doubles-down-on-ai-with-new-bing-features.txt'}, page_content='The specifics of the chat history feature have yet to be ironed out, like how long chats will be'),\n",
       " Document(metadata={'source': 'new_articles\\\\05-04-microsoft-doubles-down-on-ai-with-new-bing-features.txt'}, page_content='will be stored, exactly. But users will be able to delete their history at any time regardless,'),\n",
       " Document(metadata={'source': 'new_articles\\\\05-04-microsoft-doubles-down-on-ai-with-new-bing-features.txt'}, page_content='Microsoft says — addressing the criticisms several European Union governments had against ChatGPT.'),\n",
       " Document(metadata={'source': 'new_articles\\\\05-04-microsoft-doubles-down-on-ai-with-new-bing-features.txt'}, page_content='Bing Chat will also gain export and share functionalities, letting users share conversations on'),\n",
       " Document(metadata={'source': 'new_articles\\\\05-04-microsoft-doubles-down-on-ai-with-new-bing-features.txt'}, page_content='on social media or to a Word document. Dena Saunders, a partner GM in Microsoft’s web experiences'),\n",
       " Document(metadata={'source': 'new_articles\\\\05-04-microsoft-doubles-down-on-ai-with-new-bing-features.txt'}, page_content='team, told TechCrunch that a more robust copy-and-paste system is in the works — but not in preview'),\n",
       " Document(metadata={'source': 'new_articles\\\\05-04-microsoft-doubles-down-on-ai-with-new-bing-features.txt'}, page_content='preview just yet — for graphs and images created through Bing Chat.'),\n",
       " Document(metadata={'source': 'new_articles\\\\05-04-microsoft-doubles-down-on-ai-with-new-bing-features.txt'}, page_content='Perhaps the most transformative addition to Bing Chat, though, is plugins. From partners like'),\n",
       " Document(metadata={'source': 'new_articles\\\\05-04-microsoft-doubles-down-on-ai-with-new-bing-features.txt'}, page_content='like OpenTable and Wolfram Alpha, plugins greatly extend what Bing Chat can do, for example helping'),\n",
       " Document(metadata={'source': 'new_articles\\\\05-04-microsoft-doubles-down-on-ai-with-new-bing-features.txt'}, page_content='helping users book a reservation or create visualizations and get answers to challenging science'),\n",
       " Document(metadata={'source': 'new_articles\\\\05-04-microsoft-doubles-down-on-ai-with-new-bing-features.txt'}, page_content='science and math questions.'),\n",
       " Document(metadata={'source': 'new_articles\\\\05-04-microsoft-doubles-down-on-ai-with-new-bing-features.txt'}, page_content='Like chat history, the not-yet-live plugins functionality is in the very preliminary stages.'),\n",
       " Document(metadata={'source': 'new_articles\\\\05-04-microsoft-doubles-down-on-ai-with-new-bing-features.txt'}, page_content='stages. There’s no plugins marketplace to speak of; plugins can be toggled on or off from the Bing'),\n",
       " Document(metadata={'source': 'new_articles\\\\05-04-microsoft-doubles-down-on-ai-with-new-bing-features.txt'}, page_content='the Bing Chat web interface.'),\n",
       " Document(metadata={'source': 'new_articles\\\\05-04-microsoft-doubles-down-on-ai-with-new-bing-features.txt'}, page_content='Saunders hinted, but wouldn’t confirm, that the Bing Chat plugins scheme was associated with — or'),\n",
       " Document(metadata={'source': 'new_articles\\\\05-04-microsoft-doubles-down-on-ai-with-new-bing-features.txt'}, page_content='with — or perhaps identical to — OpenAI’s recently introduced plugins for ChatGPT. That’d certainly'),\n",
       " Document(metadata={'source': 'new_articles\\\\05-04-microsoft-doubles-down-on-ai-with-new-bing-features.txt'}, page_content='certainly make sense, given the similarities between the two.'),\n",
       " Document(metadata={'source': 'new_articles\\\\05-04-microsoft-doubles-down-on-ai-with-new-bing-features.txt'}, page_content='Edge, refreshed'),\n",
       " Document(metadata={'source': 'new_articles\\\\05-04-microsoft-doubles-down-on-ai-with-new-bing-features.txt'}, page_content='Bing Chat is available through Edge as well as the web, of course. And Edge is getting a fresh coat'),\n",
       " Document(metadata={'source': 'new_articles\\\\05-04-microsoft-doubles-down-on-ai-with-new-bing-features.txt'}, page_content='coat of paint alongside Bing Chat.'),\n",
       " Document(metadata={'source': 'new_articles\\\\05-04-microsoft-doubles-down-on-ai-with-new-bing-features.txt'}, page_content='First previewed in February, the new and improved Edge features rounded corners in line with'),\n",
       " Document(metadata={'source': 'new_articles\\\\05-04-microsoft-doubles-down-on-ai-with-new-bing-features.txt'}, page_content='line with Microsoft’s Windows 11 design philosophy. Elements in the browser are now more'),\n",
       " Document(metadata={'source': 'new_articles\\\\05-04-microsoft-doubles-down-on-ai-with-new-bing-features.txt'}, page_content='now more “containerized,” as one Microsoft spokesperson put it, and there’s subtle tweaks'),\n",
       " Document(metadata={'source': 'new_articles\\\\05-04-microsoft-doubles-down-on-ai-with-new-bing-features.txt'}, page_content='tweaks throughout, like the Microsoft Account image moving left-of-center.'),\n",
       " Document(metadata={'source': 'new_articles\\\\05-04-microsoft-doubles-down-on-ai-with-new-bing-features.txt'}, page_content='In Compose, Edge’s Bing Chat-powered tool that can write emails and more given a basic prompt (e.g.'),\n",
       " Document(metadata={'source': 'new_articles\\\\05-04-microsoft-doubles-down-on-ai-with-new-bing-features.txt'}, page_content='(e.g. “write an invitation to my dog’s birthday party”), a new option lets users adjust the length,'),\n",
       " Document(metadata={'source': 'new_articles\\\\05-04-microsoft-doubles-down-on-ai-with-new-bing-features.txt'}, page_content='length, phrasing and tone of the generated text to nearly anything they’d like. Type in the desired'),\n",
       " Document(metadata={'source': 'new_articles\\\\05-04-microsoft-doubles-down-on-ai-with-new-bing-features.txt'}, page_content='desired tone, and Bing Chat will write a message to match — Bird says filters are in place to'),\n",
       " Document(metadata={'source': 'new_articles\\\\05-04-microsoft-doubles-down-on-ai-with-new-bing-features.txt'}, page_content='place to prevent the use of clearly problematic tones, like “hateful” or “racist.”'),\n",
       " Document(metadata={'source': 'new_articles\\\\05-04-microsoft-doubles-down-on-ai-with-new-bing-features.txt'}, page_content='Far more intriguing than Compose, though — at least to me — are actions in Edge, which translate'),\n",
       " Document(metadata={'source': 'new_articles\\\\05-04-microsoft-doubles-down-on-ai-with-new-bing-features.txt'}, page_content='translate certain Bing Chat prompts into automations.'),\n",
       " Document(metadata={'source': 'new_articles\\\\05-04-microsoft-doubles-down-on-ai-with-new-bing-features.txt'}, page_content='Typing a command like “bring my passwords from another browser” in Bing Chat in the Edge sidebar'),\n",
       " Document(metadata={'source': 'new_articles\\\\05-04-microsoft-doubles-down-on-ai-with-new-bing-features.txt'}, page_content=\"sidebar opens Edge’s browsing data settings page, while the prompt “play ‘The Devil Wears Prada'”\"),\n",
       " Document(metadata={'source': 'new_articles\\\\05-04-microsoft-doubles-down-on-ai-with-new-bing-features.txt'}, page_content=\"Prada'” pulls up a list of streaming options including Vudu and (predictably) the Microsoft Store.\"),\n",
       " Document(metadata={'source': 'new_articles\\\\05-04-microsoft-doubles-down-on-ai-with-new-bing-features.txt'}, page_content='Store. There’s even an action that automatically organizes — and color-coordinates — browsing tabs.'),\n",
       " Document(metadata={'source': 'new_articles\\\\05-04-microsoft-doubles-down-on-ai-with-new-bing-features.txt'}, page_content='Actions are in a primitive stage at present. But it’s clear where Microsoft’s going, here. One'),\n",
       " Document(metadata={'source': 'new_articles\\\\05-04-microsoft-doubles-down-on-ai-with-new-bing-features.txt'}, page_content='here. One imagines actions eventually expanding beyond Edge to reach other Microsoft products, like'),\n",
       " Document(metadata={'source': 'new_articles\\\\05-04-microsoft-doubles-down-on-ai-with-new-bing-features.txt'}, page_content='like Office 365, and perhaps one day the whole Windows desktop.'),\n",
       " Document(metadata={'source': 'new_articles\\\\05-04-microsoft-doubles-down-on-ai-with-new-bing-features.txt'}, page_content='Saunders wouldn’t confirm or deny that this is the endgame. “Stay tuned for Microsoft Build,” she'),\n",
       " Document(metadata={'source': 'new_articles\\\\05-04-microsoft-doubles-down-on-ai-with-new-bing-features.txt'}, page_content='she told me, referring to Microsoft’s upcoming developer conference. We shall.'),\n",
       " Document(metadata={'source': 'new_articles\\\\05-04-slack-updates-aim-to-put-ai-at-the-center-of-the-user-experience.txt'}, page_content='Slack has evolved from a pure communications platform to one that enables companies to link directly'),\n",
       " Document(metadata={'source': 'new_articles\\\\05-04-slack-updates-aim-to-put-ai-at-the-center-of-the-user-experience.txt'}, page_content='directly to enterprise applications without having to resort to dreaded task switching. Today, at'),\n",
       " Document(metadata={'source': 'new_articles\\\\05-04-slack-updates-aim-to-put-ai-at-the-center-of-the-user-experience.txt'}, page_content='Today, at the Salesforce World Tour event in NYC, the company announced the next step in its'),\n",
       " Document(metadata={'source': 'new_articles\\\\05-04-slack-updates-aim-to-put-ai-at-the-center-of-the-user-experience.txt'}, page_content='in its platform’s evolution where it will be putting AI at the forefront of the user experience,'),\n",
       " Document(metadata={'source': 'new_articles\\\\05-04-slack-updates-aim-to-put-ai-at-the-center-of-the-user-experience.txt'}, page_content='making it easier to get information and build workflows.'),\n",
       " Document(metadata={'source': 'new_articles\\\\05-04-slack-updates-aim-to-put-ai-at-the-center-of-the-user-experience.txt'}, page_content='It’s important to note that these are announcements, and many of these features are not available'),\n",
       " Document(metadata={'source': 'new_articles\\\\05-04-slack-updates-aim-to-put-ai-at-the-center-of-the-user-experience.txt'}, page_content='available yet.'),\n",
       " Document(metadata={'source': 'new_articles\\\\05-04-slack-updates-aim-to-put-ai-at-the-center-of-the-user-experience.txt'}, page_content='Rob Seaman says that rather than slapping on an AI cover, they are working to incorporate it in a'),\n",
       " Document(metadata={'source': 'new_articles\\\\05-04-slack-updates-aim-to-put-ai-at-the-center-of-the-user-experience.txt'}, page_content='it in a variety of ways across the platform. That started last month with a small step, a'),\n",
       " Document(metadata={'source': 'new_articles\\\\05-04-slack-updates-aim-to-put-ai-at-the-center-of-the-user-experience.txt'}, page_content='step, a partnership with OpenAI to bring a ChatGPT app into Slack, the first piece of a much'),\n",
       " Document(metadata={'source': 'new_articles\\\\05-04-slack-updates-aim-to-put-ai-at-the-center-of-the-user-experience.txt'}, page_content='of a much broader vision for AI on the platform. That part is in beta at the moment.'),\n",
       " Document(metadata={'source': 'new_articles\\\\05-04-slack-updates-aim-to-put-ai-at-the-center-of-the-user-experience.txt'}, page_content='Today’s announcement involves several new integrations, including SlackGPT, the company’s own'),\n",
       " Document(metadata={'source': 'new_articles\\\\05-04-slack-updates-aim-to-put-ai-at-the-center-of-the-user-experience.txt'}, page_content='own flavor of generative AI built on top of the Slack platform, which users and developers can tap'),\n",
       " Document(metadata={'source': 'new_articles\\\\05-04-slack-updates-aim-to-put-ai-at-the-center-of-the-user-experience.txt'}, page_content='can tap into to build AI-driven experiences. The content in Slack provides a starting point for'),\n",
       " Document(metadata={'source': 'new_articles\\\\05-04-slack-updates-aim-to-put-ai-at-the-center-of-the-user-experience.txt'}, page_content='point for building models related to the platform.'),\n",
       " Document(metadata={'source': 'new_articles\\\\05-04-slack-updates-aim-to-put-ai-at-the-center-of-the-user-experience.txt'}, page_content='“We think Slack has a unique advantage when it comes to generative AI. A lot of the institutional'),\n",
       " Document(metadata={'source': 'new_articles\\\\05-04-slack-updates-aim-to-put-ai-at-the-center-of-the-user-experience.txt'}, page_content='knowledge on every topic, team, work item and project is already in Slack through the messages, the'),\n",
       " Document(metadata={'source': 'new_articles\\\\05-04-slack-updates-aim-to-put-ai-at-the-center-of-the-user-experience.txt'}, page_content='the files and the clips that are shared every day,” he said.'),\n",
       " Document(metadata={'source': 'new_articles\\\\05-04-slack-updates-aim-to-put-ai-at-the-center-of-the-user-experience.txt'}, page_content='When you combine that with Slack’s Partner ecosystem and platform, customers have a lot of options'),\n",
       " Document(metadata={'source': 'new_articles\\\\05-04-slack-updates-aim-to-put-ai-at-the-center-of-the-user-experience.txt'}, page_content='options for integrating AI into their workflows. He says that Slack is thinking about this in three'),\n",
       " Document(metadata={'source': 'new_articles\\\\05-04-slack-updates-aim-to-put-ai-at-the-center-of-the-user-experience.txt'}, page_content='in three ways right now.'),\n",
       " Document(metadata={'source': 'new_articles\\\\05-04-slack-updates-aim-to-put-ai-at-the-center-of-the-user-experience.txt'}, page_content='“For starters, Slack is going to bring AI natively into the user experience with SlackGPT to help'),\n",
       " Document(metadata={'source': 'new_articles\\\\05-04-slack-updates-aim-to-put-ai-at-the-center-of-the-user-experience.txt'}, page_content='to help customers work faster, communicate better, learn faster, etc. And an example of that is'),\n",
       " Document(metadata={'source': 'new_articles\\\\05-04-slack-updates-aim-to-put-ai-at-the-center-of-the-user-experience.txt'}, page_content='that is AI-powered conversation summaries and writing assistance for composition that’s going to be'),\n",
       " Document(metadata={'source': 'new_articles\\\\05-04-slack-updates-aim-to-put-ai-at-the-center-of-the-user-experience.txt'}, page_content='to be directly available in Slack,” he said.'),\n",
       " Document(metadata={'source': 'new_articles\\\\05-04-slack-updates-aim-to-put-ai-at-the-center-of-the-user-experience.txt'}, page_content='The former could as an example help employees get caught up on a long thread without having to read'),\n",
       " Document(metadata={'source': 'new_articles\\\\05-04-slack-updates-aim-to-put-ai-at-the-center-of-the-user-experience.txt'}, page_content='to read every message to get the gist of what was being discussed. The latter could help generate'),\n",
       " Document(metadata={'source': 'new_articles\\\\05-04-slack-updates-aim-to-put-ai-at-the-center-of-the-user-experience.txt'}, page_content='generate Slack messages or content for linked Slack applications. That’s a little less obvious use'),\n",
       " Document(metadata={'source': 'new_articles\\\\05-04-slack-updates-aim-to-put-ai-at-the-center-of-the-user-experience.txt'}, page_content='use case. It’s probably easier to write a Slack message yourself unless it’s an automated message'),\n",
       " Document(metadata={'source': 'new_articles\\\\05-04-slack-updates-aim-to-put-ai-at-the-center-of-the-user-experience.txt'}, page_content='message that’s part of a workflow, but if you are creating content for Slack Canvas, you could let'),\n",
       " Document(metadata={'source': 'new_articles\\\\05-04-slack-updates-aim-to-put-ai-at-the-center-of-the-user-experience.txt'}, page_content='could let the generative AI help you.'),\n",
       " Document(metadata={'source': 'new_articles\\\\05-04-slack-updates-aim-to-put-ai-at-the-center-of-the-user-experience.txt'}, page_content='Developers can get in on the action too, building AI steps into workflows, giving them the option'),\n",
       " Document(metadata={'source': 'new_articles\\\\05-04-slack-updates-aim-to-put-ai-at-the-center-of-the-user-experience.txt'}, page_content='option of tapping into external apps and large language models to build generative AI experiences'),\n",
       " Document(metadata={'source': 'new_articles\\\\05-04-slack-updates-aim-to-put-ai-at-the-center-of-the-user-experience.txt'}, page_content='themselves. Just last week the company made its updated developer experience generally available,'),\n",
       " Document(metadata={'source': 'new_articles\\\\05-04-slack-updates-aim-to-put-ai-at-the-center-of-the-user-experience.txt'}, page_content='and this should make it easier to incorporate generative AI into the platform in customized ways,'),\n",
       " Document(metadata={'source': 'new_articles\\\\05-04-slack-updates-aim-to-put-ai-at-the-center-of-the-user-experience.txt'}, page_content='ways, Seaman says.'),\n",
       " Document(metadata={'source': 'new_articles\\\\05-04-slack-updates-aim-to-put-ai-at-the-center-of-the-user-experience.txt'}, page_content='“So this gives us the foundation to give users choice and flexibility to bring AI into their work'),\n",
       " Document(metadata={'source': 'new_articles\\\\05-04-slack-updates-aim-to-put-ai-at-the-center-of-the-user-experience.txt'}, page_content='work in their business whenever they’re ready, and however they like. We’ve got 2,600 apps in the'),\n",
       " Document(metadata={'source': 'new_articles\\\\05-04-slack-updates-aim-to-put-ai-at-the-center-of-the-user-experience.txt'}, page_content='in the ecosystem right now, which includes a lot of the leading LLMs, and we see a lot of customers'),\n",
       " Document(metadata={'source': 'new_articles\\\\05-04-slack-updates-aim-to-put-ai-at-the-center-of-the-user-experience.txt'}, page_content='customers already choosing to integrate generative AI into Slack themselves,” he said.'),\n",
       " Document(metadata={'source': 'new_articles\\\\05-04-slack-updates-aim-to-put-ai-at-the-center-of-the-user-experience.txt'}, page_content='Finally EinsteinGPT, the Salesforce flavor of generative AI announced in March, will also be'),\n",
       " Document(metadata={'source': 'new_articles\\\\05-04-slack-updates-aim-to-put-ai-at-the-center-of-the-user-experience.txt'}, page_content='also be incorporated into Slack, letting employees ask questions directly about Salesforce content,'),\n",
       " Document(metadata={'source': 'new_articles\\\\05-04-slack-updates-aim-to-put-ai-at-the-center-of-the-user-experience.txt'}, page_content='content, like the users most likely to churn or the accounts most likely to buy, and so forth. This'),\n",
       " Document(metadata={'source': 'new_articles\\\\05-04-slack-updates-aim-to-put-ai-at-the-center-of-the-user-experience.txt'}, page_content='This is really about more directly integrating Salesforce content into Slack, the company'),\n",
       " Document(metadata={'source': 'new_articles\\\\05-04-slack-updates-aim-to-put-ai-at-the-center-of-the-user-experience.txt'}, page_content='company Salesforce paid $27 billion for a couple of years ago.'),\n",
       " Document(metadata={'source': 'new_articles\\\\05-04-slack-updates-aim-to-put-ai-at-the-center-of-the-user-experience.txt'}, page_content='“Slack is really becoming the conversational interface for Salesforce. So that’s bringing those'),\n",
       " Document(metadata={'source': 'new_articles\\\\05-04-slack-updates-aim-to-put-ai-at-the-center-of-the-user-experience.txt'}, page_content='those EinsteinGPT-powered insights from the real-time customer data that exists in Salesforce into'),\n",
       " Document(metadata={'source': 'new_articles\\\\05-04-slack-updates-aim-to-put-ai-at-the-center-of-the-user-experience.txt'}, page_content='into Slack to enrich every team’s understanding of the customer,” he said.'),\n",
       " Document(metadata={'source': 'new_articles\\\\05-04-slack-updates-aim-to-put-ai-at-the-center-of-the-user-experience.txt'}, page_content='As with most of the generative AI tooling we’ve seen being added to enterprise software, Slack is'),\n",
       " Document(metadata={'source': 'new_articles\\\\05-04-slack-updates-aim-to-put-ai-at-the-center-of-the-user-experience.txt'}, page_content='Slack is announcing these capabilities long before they release them, but this should give'),\n",
       " Document(metadata={'source': 'new_articles\\\\05-04-slack-updates-aim-to-put-ai-at-the-center-of-the-user-experience.txt'}, page_content='give customers a sense of what’s coming, and how AI could be transforming Slack in the future.'),\n",
       " Document(metadata={'source': 'new_articles\\\\05-04-slack-updates-aim-to-put-ai-at-the-center-of-the-user-experience.txt'}, page_content='future. SlackGPT and EinsteinGPT integration are still in the development phase, but developers can'),\n",
       " Document(metadata={'source': 'new_articles\\\\05-04-slack-updates-aim-to-put-ai-at-the-center-of-the-user-experience.txt'}, page_content='can build custom integrations with a variety of LLMs, today. Workflow Builder with SlackGPT AI'),\n",
       " Document(metadata={'source': 'new_articles\\\\05-04-slack-updates-aim-to-put-ai-at-the-center-of-the-user-experience.txt'}, page_content='AI connectors (which will allow customers to instantly connect ChatGPT or Claude to a workflow or'),\n",
       " Document(metadata={'source': 'new_articles\\\\05-04-slack-updates-aim-to-put-ai-at-the-center-of-the-user-experience.txt'}, page_content='or build custom connectors that plug in their own LLMs) will be available this summer.')]"
      ]
     },
     "execution_count": 8,
     "metadata": {},
     "output_type": "execute_result"
    }
   ],
   "source": [
    "from langchain.text_splitter import RecursiveCharacterTextSplitter\n",
    "\n",
    "text_splitter = RecursiveCharacterTextSplitter(chunk_size=100, chunk_overlap=10)\n",
    "\n",
    "chunks = text_splitter.split_documents(document)\n",
    "\n",
    "chunks"
   ]
  },
  {
   "cell_type": "code",
   "execution_count": 9,
   "id": "dbfe0c4c-489d-40eb-9c82-c567a69bd4e3",
   "metadata": {},
   "outputs": [
    {
     "data": {
      "text/plain": [
       "407"
      ]
     },
     "execution_count": 9,
     "metadata": {},
     "output_type": "execute_result"
    }
   ],
   "source": [
    "len(chunks) # Number of Chunks Created ??"
   ]
  },
  {
   "cell_type": "code",
   "execution_count": 10,
   "id": "43b76a70-3873-4106-aced-4770b976508b",
   "metadata": {},
   "outputs": [
    {
     "data": {
      "text/plain": [
       "Document(metadata={'source': 'new_articles\\\\05-04-cma-generative-ai-review.txt'}, page_content='of “AI foundational models”, such as the large language models (LLMs) which underpin OpenAI’s')"
      ]
     },
     "execution_count": 10,
     "metadata": {},
     "output_type": "execute_result"
    }
   ],
   "source": [
    "chunks[1]"
   ]
  },
  {
   "cell_type": "markdown",
   "id": "14447959-679a-44b0-be5b-b0a8db7ab6d4",
   "metadata": {},
   "source": [
    "## Creating VectorDB -> ChromaDB ??"
   ]
  },
  {
   "cell_type": "code",
   "execution_count": 12,
   "id": "93ce82f3-467e-4c65-9f75-17dd79f90771",
   "metadata": {},
   "outputs": [
    {
     "name": "stderr",
     "output_type": "stream",
     "text": [
      "C:\\Users\\hp\\AppData\\Local\\Temp\\ipykernel_13704\\167798456.py:5: LangChainDeprecationWarning: The class `HuggingFaceEmbeddings` was deprecated in LangChain 0.2.2 and will be removed in 1.0. An updated version of the class exists in the :class:`~langchain-huggingface package and should be used instead. To use it run `pip install -U :class:`~langchain-huggingface` and import as `from :class:`~langchain_huggingface import HuggingFaceEmbeddings``.\n",
      "  embedding = HuggingFaceEmbeddings()\n",
      "C:\\Users\\hp\\AppData\\Local\\Temp\\ipykernel_13704\\167798456.py:5: LangChainDeprecationWarning: Default values for HuggingFaceEmbeddings.model_name were deprecated in LangChain 0.2.16 and will be removed in 0.4.0. Explicitly pass a model_name to the HuggingFaceEmbeddings constructor instead.\n",
      "  embedding = HuggingFaceEmbeddings()\n"
     ]
    },
    {
     "name": "stdout",
     "output_type": "stream",
     "text": [
      "WARNING:tensorflow:From C:\\Users\\hp\\anaconda3\\Lib\\site-packages\\tf_keras\\src\\losses.py:2976: The name tf.losses.sparse_softmax_cross_entropy is deprecated. Please use tf.compat.v1.losses.sparse_softmax_cross_entropy instead.\n",
      "\n"
     ]
    },
    {
     "data": {
      "text/plain": [
       "HuggingFaceEmbeddings(client=SentenceTransformer(\n",
       "  (0): Transformer({'max_seq_length': 384, 'do_lower_case': False}) with Transformer model: MPNetModel \n",
       "  (1): Pooling({'word_embedding_dimension': 768, 'pooling_mode_cls_token': False, 'pooling_mode_mean_tokens': True, 'pooling_mode_max_tokens': False, 'pooling_mode_mean_sqrt_len_tokens': False, 'pooling_mode_weightedmean_tokens': False, 'pooling_mode_lasttoken': False, 'include_prompt': True})\n",
       "  (2): Normalize()\n",
       "), model_name='sentence-transformers/all-mpnet-base-v2', cache_folder=None, model_kwargs={}, encode_kwargs={}, multi_process=False, show_progress=False)"
      ]
     },
     "execution_count": 12,
     "metadata": {},
     "output_type": "execute_result"
    }
   ],
   "source": [
    "from langchain import embeddings\n",
    "\n",
    "persist_directory = \"db\"\n",
    "\n",
    "embedding = HuggingFaceEmbeddings()\n",
    "\n",
    "embedding"
   ]
  },
  {
   "cell_type": "code",
   "execution_count": null,
   "id": "d2d91ef1-16b2-4dbe-afd9-8f422f5981ef",
   "metadata": {},
   "outputs": [],
   "source": [
    "vectordb = Chroma.from_documents(documents=chunks, embedding=embedding, persist_directory=persist_directory)"
   ]
  },
  {
   "cell_type": "code",
   "execution_count": null,
   "id": "d6576a67-f40c-4a3a-add7-d285f86ca309",
   "metadata": {},
   "outputs": [],
   "source": [
    "# Persiste The DB To Disk \n",
    "\n",
    "vectordb.persist()\n",
    "vectordb = None"
   ]
  },
  {
   "cell_type": "code",
   "execution_count": null,
   "id": "c745ebf0-b6fe-4808-9cde-28a760fd2633",
   "metadata": {},
   "outputs": [],
   "source": [
    "vectordb = Chroma(persist_directory=persist_directory, embedding_function=embedding)"
   ]
  },
  {
   "cell_type": "markdown",
   "id": "93453a59-12bb-45e9-a334-f606811d0e47",
   "metadata": {},
   "source": [
    "## Make a Retriever ??"
   ]
  },
  {
   "cell_type": "code",
   "execution_count": null,
   "id": "66d10ece-f1b8-43bb-b15d-b606985c6b6d",
   "metadata": {},
   "outputs": [],
   "source": [
    "retriever = vectordb.as_retriever()"
   ]
  },
  {
   "cell_type": "code",
   "execution_count": null,
   "id": "4919dd01-9870-4186-ac48-419f130e8578",
   "metadata": {},
   "outputs": [],
   "source": [
    "docs = retriever.get_relevant_documents(\"How much money did Microsoft raise?\")\n",
    "\n",
    "len(docs)"
   ]
  },
  {
   "cell_type": "code",
   "execution_count": null,
   "id": "cfc78526-e7d4-4208-99f1-9ef7a8334641",
   "metadata": {},
   "outputs": [],
   "source": [
    "retriever = vectordb.as_retriever(search_kwargs={\"k\": 2})"
   ]
  },
  {
   "cell_type": "code",
   "execution_count": null,
   "id": "d3192375-a9c1-4217-a5a8-a8fc49641acd",
   "metadata": {},
   "outputs": [],
   "source": [
    "retriever.search_type"
   ]
  },
  {
   "cell_type": "code",
   "execution_count": null,
   "id": "710a9ed4-1dc0-4296-becc-26cbc61987c7",
   "metadata": {},
   "outputs": [],
   "source": [
    "retriever.search_kwargs"
   ]
  },
  {
   "cell_type": "code",
   "execution_count": null,
   "id": "32b75db7-8961-4094-ad59-abebd0a88aa8",
   "metadata": {},
   "outputs": [],
   "source": [
    "docs = retriever.get_relevant_documents(\"How much money did Microsoft raise?\")\n",
    "\n",
    "len(docs)"
   ]
  },
  {
   "cell_type": "markdown",
   "id": "56b4b2a7-f182-4824-a24e-d74bd4990c5d",
   "metadata": {},
   "source": [
    "## Make a Chain ??"
   ]
  },
  {
   "cell_type": "code",
   "execution_count": null,
   "id": "a4c75f02-b3ab-40cf-8924-60a10bd7d961",
   "metadata": {},
   "outputs": [],
   "source": [
    "from langchain.chains import RetrievalQA"
   ]
  },
  {
   "cell_type": "code",
   "execution_count": null,
   "id": "699e145a-967a-4a38-b557-19f9f77d9200",
   "metadata": {},
   "outputs": [],
   "source": [
    "qa_chain = RetrievalQA.from_chain_type(\n",
    "    llm=HuggingFaceHub,\n",
    "    chain_type=\"stuff\",\n",
    "    retriever=retriever,\n",
    "    return_source_documents=True\n",
    ")"
   ]
  },
  {
   "cell_type": "code",
   "execution_count": null,
   "id": "8f98fd15-db2f-4379-8f70-3791005295c7",
   "metadata": {},
   "outputs": [],
   "source": [
    "query = \"How mush money did Microsoft raise?\"\n",
    "\n",
    "llm_response = qa_chain(query)\n",
    "\n",
    "llm_response"
   ]
  },
  {
   "cell_type": "code",
   "execution_count": null,
   "id": "ef8f024d-9a0f-48f5-881e-894b4c4c4c0b",
   "metadata": {},
   "outputs": [],
   "source": [
    "def process_llm_response(llm_response):\n",
    "    print(llm_response['result'])\n",
    "    print('\\n\\nSources:')\n",
    "\n",
    "    for source in llm_response['source_documents']:\n",
    "        print(source.metadata['source'])"
   ]
  },
  {
   "cell_type": "code",
   "execution_count": null,
   "id": "7afbe79f-0265-4948-a77e-424677a86e8d",
   "metadata": {},
   "outputs": [],
   "source": [
    "process_llm_response(llm_response)"
   ]
  },
  {
   "cell_type": "markdown",
   "id": "98077b9b-8b6f-4ea1-a836-a048d8d10b0a",
   "metadata": {},
   "source": [
    "## Deleting The DB ??"
   ]
  },
  {
   "cell_type": "code",
   "execution_count": null,
   "id": "ce68540f-428f-42bc-a0f8-33a8da84104f",
   "metadata": {},
   "outputs": [],
   "source": [
    "!zip -r db.zip ./db"
   ]
  },
  {
   "cell_type": "code",
   "execution_count": null,
   "id": "67cb9953-69cf-4f74-8e2b-f28b1d2748cc",
   "metadata": {},
   "outputs": [],
   "source": [
    "# To Cleanup, You Can Delete the Collection ??\n",
    "vectordb.delete_collection()\n",
    "vectordb.persist()\n",
    "\n",
    "# Delete the Directory ??\n",
    "!rm -rf db/"
   ]
  },
  {
   "cell_type": "markdown",
   "id": "79326ec3-a7fa-42bd-aaad-bca06de787b4",
   "metadata": {},
   "source": [
    "## If You Want to Start Again To Use Your DB ??"
   ]
  },
  {
   "cell_type": "code",
   "execution_count": null,
   "id": "db6e9f95-4ded-4dd9-8928-79bd1070db67",
   "metadata": {},
   "outputs": [],
   "source": [
    "!unzip db.zip"
   ]
  }
 ],
 "metadata": {
  "kernelspec": {
   "display_name": "Python 3 (ipykernel)",
   "language": "python",
   "name": "python3"
  },
  "language_info": {
   "codemirror_mode": {
    "name": "ipython",
    "version": 3
   },
   "file_extension": ".py",
   "mimetype": "text/x-python",
   "name": "python",
   "nbconvert_exporter": "python",
   "pygments_lexer": "ipython3",
   "version": "3.12.4"
  }
 },
 "nbformat": 4,
 "nbformat_minor": 5
}
