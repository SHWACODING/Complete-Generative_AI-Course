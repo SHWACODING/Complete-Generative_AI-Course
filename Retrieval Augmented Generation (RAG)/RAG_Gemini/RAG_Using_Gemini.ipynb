{
 "cells": [
  {
   "cell_type": "markdown",
   "id": "91f0c1f8",
   "metadata": {},
   "source": [
    "#### 1- Load The Data ??"
   ]
  },
  {
   "cell_type": "code",
   "execution_count": 1,
   "id": "d7bd3763",
   "metadata": {},
   "outputs": [],
   "source": [
    "from langchain_community.document_loaders import PyPDFLoader\n",
    "\n",
    "loader = PyPDFLoader(\"my_paper.pdf\")\n",
    "\n",
    "data = loader.load()"
   ]
  },
  {
   "cell_type": "code",
   "execution_count": 2,
   "id": "36c5ac7d",
   "metadata": {},
   "outputs": [
    {
     "data": {
      "text/plain": [
       "15"
      ]
     },
     "execution_count": 2,
     "metadata": {},
     "output_type": "execute_result"
    }
   ],
   "source": [
    "len(data)"
   ]
  },
  {
   "cell_type": "code",
   "execution_count": 3,
   "id": "42325fd3",
   "metadata": {},
   "outputs": [
    {
     "data": {
      "text/plain": [
       "[Document(metadata={'producer': 'pdfTeX-1.40.21', 'creator': 'LaTeX with hyperref', 'creationdate': '2021-09-14T02:52:38+00:00', 'author': '', 'keywords': '', 'moddate': '2021-09-14T02:52:38+00:00', 'ptex.fullbanner': 'This is pdfTeX, Version 3.14159265-2.6-1.40.21 (TeX Live 2020) kpathsea version 6.3.2', 'subject': '', 'title': '', 'trapped': '/False', 'rgid': 'PB:357213035_AS:1103436619751424@1640091199662', 'source': 'my_paper.pdf', 'total_pages': 15, 'page': 0, 'page_label': '1'}, page_content='See discussions, stats, and author profiles for this publication at: https://www.researchgate.net/publication/357213035\\nDevelopment of Multiple Combined Regression Methods for Rainfall\\nMeasurement Development of Multiple Combined Regression Methods for\\nRainfall Measurement\\nArticle · December 2021\\nCITATIONS\\n0\\nREADS\\n711\\n6 authors, including:\\nNusrat Jahan Prottasha\\nDaffodil International University\\n26 PUBLICATIONS\\xa0\\xa0\\xa0299 CITATIONS\\xa0\\xa0\\xa0\\nSEE PROFILE\\nMd Kowsher\\nStevens Institute of Technology\\n73 PUBLICATIONS\\xa0\\xa0\\xa0561 CITATIONS\\xa0\\xa0\\xa0\\nSEE PROFILE\\nRokeya Khatun Shorna\\nJahangirnagar University\\n6 PUBLICATIONS\\xa0\\xa0\\xa05 CITATIONS\\xa0\\xa0\\xa0\\nSEE PROFILE\\nNiaz Murshed\\nJahangirnagar University\\n3 PUBLICATIONS\\xa0\\xa0\\xa00 CITATIONS\\xa0\\xa0\\xa0\\nSEE PROFILE\\nAll content following this page was uploaded by Niaz Murshed on 21 December 2021.\\nThe user has requested enhancement of the downloaded file.'),\n",
       " Document(metadata={'producer': 'pdfTeX-1.40.21', 'creator': 'LaTeX with hyperref', 'creationdate': '2021-09-14T02:52:38+00:00', 'author': '', 'keywords': '', 'moddate': '2021-09-14T02:52:38+00:00', 'ptex.fullbanner': 'This is pdfTeX, Version 3.14159265-2.6-1.40.21 (TeX Live 2020) kpathsea version 6.3.2', 'subject': '', 'title': '', 'trapped': '/False', 'rgid': 'PB:357213035_AS:1103436619751424@1640091199662', 'source': 'my_paper.pdf', 'total_pages': 15, 'page': 1, 'page_label': '2'}, page_content='See discussions, stats, and author profiles for this publication at: https://www.researchgate.net/publication/354831740\\nDevelopment of Multiple Combined Regression Methods for Rainfall\\nMeasurement\\nChapter · January 2021\\nDOI: 10.52458/978-93-91842-08-6-7\\nCITATIONS\\n0\\nREADS\\n47\\n6 authors, including:\\nSome of the authors of this publication are also working on these related projects:\\nBangla NLP View project\\nImpact learning Implementation View project\\nNusrat Jahan Prottasha\\nDaffodil International University\\n15 PUBLICATIONS\\xa0\\xa0\\xa012 CITATIONS\\xa0\\xa0\\xa0\\nSEE PROFILE\\nMd. Kowsher\\nStevens Institute of Technology\\n57 PUBLICATIONS\\xa0\\xa0\\xa094 CITATIONS\\xa0\\xa0\\xa0\\nSEE PROFILE\\nAll content following this page was uploaded by Md. Kowsher on 06 December 2021.\\nThe user has requested enhancement of the downloaded file.'),\n",
       " Document(metadata={'producer': 'pdfTeX-1.40.21', 'creator': 'LaTeX with hyperref', 'creationdate': '2021-09-14T02:52:38+00:00', 'author': '', 'keywords': '', 'moddate': '2021-09-14T02:52:38+00:00', 'ptex.fullbanner': 'This is pdfTeX, Version 3.14159265-2.6-1.40.21 (TeX Live 2020) kpathsea version 6.3.2', 'subject': '', 'title': '', 'trapped': '/False', 'rgid': 'PB:357213035_AS:1103436619751424@1640091199662', 'source': 'my_paper.pdf', 'total_pages': 15, 'page': 2, 'page_label': '3'}, page_content='Development of Multiple Combined Regression\\nMethods for Rainfall Measurement.\\nNusrat Jahan Prottasha1, Md. Jashim Uddin 2, Md. Kowsher3, Rokeya Khatun\\nShorna4, Niaz Al Murshed 5, and Boktiar Ahmed Bappy 6\\n1 Daﬀodil International University Dhaka 1207, Bangladesh,\\njahannusratprotta@gmail.com\\n2 Noakhali Science and Technology University, 3814, Dhaka,\\nmdjaud12@gmail.com\\n3 Stevens Institute of Technology, Hoboken, NJ 07030 USA,\\nga.kowsher@gmail.com\\n4 Daﬀodil International University, 1207, Dhaka,\\nrokeyashorna5@gmail.com\\n5 Jahangirnagar University, 1342, Dhaka,\\nniazalmurshed.ai@gmail.com\\n6 Jhenaidah polytechnic institute, 7300, Dhaka,\\nentbappy73@gmail.com\\nAbstract. Rainfall forecast is imperative as overwhelming precipitation\\ncan lead to numerous catastrophes. The prediction makes a diﬀerence for\\nindividuals to require preventive measures. In addition, the expectation\\nought to be precise. Most of the nations in the world is an agricultural\\nnation and most of the economy of any nation depends upon agriculture.\\nRain plays an imperative part in agribusiness so the early expectation of\\nrainfall plays a vital part within the economy of any agricultural. Over-\\nwhelming precipitation may well be a major disadvantage. It’s a cause\\nfor natural disasters like ﬂoods and drought that unit of measurement\\nexperienced by people over the world each year. Rainfall forecast has\\nbeen one of the foremost challenging issues around the world in the ﬁnal\\nyear. There are so many techniques that have been invented for predict-\\ning rainfall but most of them are classiﬁcation, clustering techniques.\\nPredicting the quantity of rain prediction is crucial for countries’ people.\\nIn our paperwork, we have proposed some regression analysis techniques\\nwhich can be utilized for predicting the quantity of rainfall (The amount\\nof rainfall recorded for the day in mm) based on some historical weather\\nconditions dataset. we have applied 10 supervised regressors (Machine\\nLearning Model) and some preprocessing methodology to the dataset.\\nWe have also analyzed the result and compared them using various sta-\\ntistical parameters among these trained models to ﬁnd the bestperformed\\nmodel. Using this model for predicting the quantity of rainfall in some\\ndiﬀerent places. Finally, the Random Forest regressor has predicted the\\nbest r2 score of 0.869904217, and the mean absolute error is 0.194459262,\\nmean squared error is 0.126358647 and the root mean squared error is\\n0.355469615. . .'),\n",
       " Document(metadata={'producer': 'pdfTeX-1.40.21', 'creator': 'LaTeX with hyperref', 'creationdate': '2021-09-14T02:52:38+00:00', 'author': '', 'keywords': '', 'moddate': '2021-09-14T02:52:38+00:00', 'ptex.fullbanner': 'This is pdfTeX, Version 3.14159265-2.6-1.40.21 (TeX Live 2020) kpathsea version 6.3.2', 'subject': '', 'title': '', 'trapped': '/False', 'rgid': 'PB:357213035_AS:1103436619751424@1640091199662', 'source': 'my_paper.pdf', 'total_pages': 15, 'page': 3, 'page_label': '4'}, page_content='2 Nusrat Jahan et al.\\nKeywords: Rainfall, Supervised Learning, Regression, Random Forest\\nTree, AdaBoost Regressor, Gradient Boosting Regressor, XGBoost.\\n1 Introduction\\nThis research paper proposed a scientiﬁc method to predict rainfall quantity\\nbased on some diﬀerent weather conditions considering preceding weather records\\nand present weather situations using some regression analysis techniques .[1]\\nRainfall determining is exceptionally vital since overwhelming and irregular rain-\\nfall can have numerous impacts on many other things like annihilation of river-\\nbank, crops, agriculture, and farms. One of the very deleterious departures is\\nﬂooding due to the over rain.[2] According to Wikipedia in late summer 2002,\\nenormous storm downpours driven to gigantic ﬂooding in eastern India, Nepal,\\nand Bangladesh, killing over 500 individuals and clearing out millions of houses.\\nEach year in Bangladesh approximately 26,000 square kilometers (10,000 sq mi)\\n(around 18% of the country) is ﬂooded, killing over 5,000 individuals and wreck-\\ning more than 7 million homes. On the other hand, Western Sydney is now\\nthe ”greatest concern” from the worst ﬂoods in decades to have ravaged east-\\nern Australia.[3] Jonh C, Rodda et al. presented a very rational method of the\\nrainfall measurement problem. The application of science and innovation that\\npredicts the state of the environment at any given speciﬁc period is known as\\nclimate determining or weather forecasting. There are many distinctive strate-\\ngies for climate estimate and weather forecasting. But rainfall prediction is rare.\\nSome of the research has shown some classiﬁcation method to predict whether\\nit would be rain tomorrow or not. But instead of a classiﬁcation method for pre-\\ndicting rain, we need to the quantity of the rainfall in a particular place. There\\nis numerous equipment implement for foreseeing rainfall by utilizing the climate\\nconditions like temperature, humidity, weight. These conventional strategies can-\\nnot work productively so by utilizing machine learning procedures. we can create\\nan exact comes about rain forecast. Ready to fair do it by having the histori-\\ncal information investigation of rainfall and can anticipate the precipitation for\\nfuture seasons. In our paper, we presented some predictive regression analysis\\ntechniques to quantify rainfall quantity at a place. Here we used more than 10\\nyears of historical data to train our model. The dataset contains various weather\\nconditions of diﬀerent places. This method can be utilized to predict the rainfall\\n(The amount of rainfall recorded for the day in mm) and avoid the annihilation\\ncaused by it to life, agriculture, farm, and property. If we can quantify the rain-\\nfall most people can make some decisions before overwhelmed rain-aﬀected. The\\ncontributions of this work are summarised as:\\n– We have assessed a pipeline of making choices for evaluating the ﬁnest rea-\\nsonable rain prediction.\\n– We have utilized 10 supervised regressors (Machine Learning Model). Be-\\ncause diﬀerent regressors give us diﬀerent results. So, it’s essential to ﬁnd\\nout the right model according to the requirements.'),\n",
       " Document(metadata={'producer': 'pdfTeX-1.40.21', 'creator': 'LaTeX with hyperref', 'creationdate': '2021-09-14T02:52:38+00:00', 'author': '', 'keywords': '', 'moddate': '2021-09-14T02:52:38+00:00', 'ptex.fullbanner': 'This is pdfTeX, Version 3.14159265-2.6-1.40.21 (TeX Live 2020) kpathsea version 6.3.2', 'subject': '', 'title': '', 'trapped': '/False', 'rgid': 'PB:357213035_AS:1103436619751424@1640091199662', 'source': 'my_paper.pdf', 'total_pages': 15, 'page': 4, 'page_label': '5'}, page_content='Rainfall Prediction 3\\n– We have discussed a big comparison among all trained models to ﬁgure out\\nthe best performer.\\nThe paper is organized as takes after: Section II clariﬁes the related work of\\ndiﬀerent classiﬁcation strategies for the forecast of rain classiﬁcation. Section-III\\ndepicts the technique and materials utilized. Section-IV depicts the experimental\\nanalysis including performance and result. Section V talks about the conclusion\\nof this research work where section VI described about the plan of future.\\n2 Related Works\\nIn this paper, through a systematic investigation Rodda et al. have presented the\\nrainfall measurement problem, they claim there’s an orderly mistake in the esti-\\nmation of precipitation made in an ordinary way, a mistake which may inﬂuence\\nany gauges utilizing these estimations.[3] Besides Prabakaran et al. proposed a\\nmethod that speaks to a numerical strategy called Linear Regression to antici-\\npate the rainfall in diﬀerent areas in southern states of India.[4] To improvement\\nWang et al. showed a case study they proposed an application of generalized\\nregression neural network (GRNN) model to anticipate yearly precipitation in\\nZhengzhou .[5] On the other hand, Sethi et al. presented an exploiting data min-\\ning technique for the early prediction of rainfall called multiple linear regression\\n(MLR) .[6] Sunyoung Lee et al. presented a divide and conquer approach to\\npredict the rainfall based on the locational information only .[7] Also, Bagirov,\\nM Adil et al. developed the Clusterwise Linear Regression (CLR) technique for\\nthe prediction of monthly rainfall .[8] In addition, Mohammed Moulana et al.\\nrepresented machine learning techniques to precipitation prediction the purpose\\nof this project is to oﬀer non-experts simple get to the methods, approaches\\nutilized within the division of precipitation forecast and give a comparative\\nthink about among the diﬀerent machine learning methods.[9] P, Asha, et al\\nproposed a mutual neural classiﬁcation model for predicting rainfall. [10] S, Sak-\\nthivel, et al described neural networks and the rapid miner-based rain prediction\\nsystem.[11] Diwakar, Naidu, et al presented the changes in rainfall patterns in\\nnumerous agro-climatic zones using machine learning approaches.[12] Besides,\\nTuan Vu, Dinh, et al utilized an LSHADE-PWI-SVM method for the integra-\\ntion of machine learning classiﬁers conjointly metaheuristic optimization .[13]\\nOn the other hand, Malathi, R, et al showed a Information Gain based Feature\\nSelection Method for Weather Dataset for the prediction of rainfall.[14] Also,\\nNor, SamsiahSani, et al. evaluated many machine learning classiﬁers based on\\nMalaysian data for rainfall prediction.[15] David, Ahijevych, et al presented a\\nrandom forest (RF) that is utilized to produce 2-h ﬁgures of the probability\\nfor the start of mesoscale convective frameworks (MCS-I).[16] John T, Allen,\\net al performed property and agribusiness, as well as handfuls of fatalities and\\nWonders related to extreme electrical storms.[15][17] Harold E, Brooks, et al, dis-\\nplayed the current dissemination of serious rainstorms as a work of large-scale\\nnatural conditions.[18] Pierre, Gentine, et al. Representing uncertain sodden con-\\nvection in coarse-scale climate models remains one of the most bottlenecks of'),\n",
       " Document(metadata={'producer': 'pdfTeX-1.40.21', 'creator': 'LaTeX with hyperref', 'creationdate': '2021-09-14T02:52:38+00:00', 'author': '', 'keywords': '', 'moddate': '2021-09-14T02:52:38+00:00', 'ptex.fullbanner': 'This is pdfTeX, Version 3.14159265-2.6-1.40.21 (TeX Live 2020) kpathsea version 6.3.2', 'subject': '', 'title': '', 'trapped': '/False', 'rgid': 'PB:357213035_AS:1103436619751424@1640091199662', 'source': 'my_paper.pdf', 'total_pages': 15, 'page': 5, 'page_label': '6'}, page_content='4 Nusrat Jahan et al.\\ncurrent climate recreations.[19] McPhaden, et al. described the participation of\\nthe pivotal for agriculture-dependent.[20] Hazell et al, Represented to reduce the\\nrisk of life and also maintain the agriculture farms in a better way [21] Then,\\nMollinga et al. elucidates farmers to take early measurements of ﬂoods, and\\nmanage the water resources properly.[22] Shah et al, discussed to related this\\ntask to predict rain.[23]\\n3 Methodology\\nTo perform the complete technique, we assume the four signiﬁcant steps such as\\ndata collection, data pre-processing, training model using 10 supervised regres-\\nsors, and execution examination. Within the information collection step, we have\\nused a dataset 7 from the Kaggle platform which has been split into two parts\\nsuch as the training part and validation part. Here we have utilized one of the\\nvalidation parts as the testing data to evaluate the models’ performance. Each\\nrow has various weights for decision making to suggest the sensible best rain\\nprediction. Afterward, gathering all raw data, ﬁrstly we would be made ready\\nfor the training model with the help of data pre-processing techniques and this\\nhas been used for outliers free and more rigid. It also assists to increase the per-\\nformance of the models. As a result, we have applied six pre-processing methods\\nsuch as cleaning data, missing value check, handling the categorical data, han-\\ndling outliers, handling outliers, feature selection. Next, to establish supervised\\nregressors models, we utilized the regressors such as Linear Regression, Ridge\\nRegression, Polynomial Regression, and Lasso Regression. From all the training\\nmethods we have used a total of 10 regressors so that we can compare the per-\\nformance and ﬁgure out the best model. Most of the regressors come up with a\\ngood performance. We have described the whole methodology in the ﬁgure 1:\\nData Collection\\nData Cleaning\\nData Analysis\\nPreprocessing\\nHandling missing value \\nHandling categorical data\\nHandling outliers\\nFeature scaling\\nFeature Selection\\nSpliting Data\\nTrain Data\\nModel \\nTeﬆ\\nData\\nTrained\\nModel \\nPrediction\\nFig. 1.The whole methodology of rainfall prediction including all important steps\\nsuch as data collection, necessary preprocessing, and training model with performance\\nprediction\\n7 https://www.kaggle.com/jsphyg/weather-dataset-rattle-package'),\n",
       " Document(metadata={'producer': 'pdfTeX-1.40.21', 'creator': 'LaTeX with hyperref', 'creationdate': '2021-09-14T02:52:38+00:00', 'author': '', 'keywords': '', 'moddate': '2021-09-14T02:52:38+00:00', 'ptex.fullbanner': 'This is pdfTeX, Version 3.14159265-2.6-1.40.21 (TeX Live 2020) kpathsea version 6.3.2', 'subject': '', 'title': '', 'trapped': '/False', 'rgid': 'PB:357213035_AS:1103436619751424@1640091199662', 'source': 'my_paper.pdf', 'total_pages': 15, 'page': 6, 'page_label': '7'}, page_content='Rainfall Prediction 5\\nTable 1.Considering feature’s description of dataset\\nFeature name Description\\nLocation The common title of the area of the climate\\nstation.\\nMinTemp The least temperature in degrees centigrade.\\nMaxTemp The most extreme temperature in degrees\\ncentigrade.\\nRainfall The sum of precipitation recorded for the day\\nin millimeters.\\nWindGustDir The heading of the most grounded wind blast\\nwithin 24 h to midnight.\\nWindGustSpeed The speed (in kilometers per hour) of the\\nstrongest wind blast within 24 h to midnight.\\nWindDir9am The course of the wind blast at 9 a.m.\\nWindSpeed9am Wind speed (km/hr) found the middle value\\nof over 10 minutes sometime recently 9 am.\\nWindSpeed3pm Wind speed (in kilometers per hour) found\\nthe middle value of over 10 min sometime re-\\ncently 3 p.m.\\nHumidity9am Relative humidity at 9 am.\\nHumidity3pm Relative humidity at 3 pm.\\nPressure 9am Climatic weight (hPa) was decreased to cruel\\nocean level at 9 a.m.\\nTemp3pm Temperature (degrees C) at 3 p.m.\\nRain Today Numbers 1 on the oﬀ chance that precipita-\\ntion (in millimeters) within the 24 h to 9 a.m.\\nsurpasses 1 mm, something else 0.\\n3.1 Introduction dataset\\nKindly This dataset contains about 10 years of daily weather observations from\\nmany locations. We have collected this dataset from Kaggle. It is having 23\\ndiverse observation features of weather condition like ’Location’, ’Min Temp’,\\n’MaxTemp’, ’Rainfall’, ’Evaporation’, ’Sunshine’, ’Wind Gust Dir’, ’Wind Gust\\nSpeed’, ’Wind Dir 9am’, ’Wind Dir 3pm’, ’Wind Speed 9am’, ’Wind Speed 3pm’,\\n’Humidity 9am’, ’Humidity 3pm’, ’Pressure 9 am’, ’Pressure 3pm’, ’Cloud 9am’,\\n’Cloud 3pm’, ’Temp 9am’, ’Temp 3pm’, ’Rain Today’. Here,in the table 1 the\\ndescription of the data-set has been illustrated.'),\n",
       " Document(metadata={'producer': 'pdfTeX-1.40.21', 'creator': 'LaTeX with hyperref', 'creationdate': '2021-09-14T02:52:38+00:00', 'author': '', 'keywords': '', 'moddate': '2021-09-14T02:52:38+00:00', 'ptex.fullbanner': 'This is pdfTeX, Version 3.14159265-2.6-1.40.21 (TeX Live 2020) kpathsea version 6.3.2', 'subject': '', 'title': '', 'trapped': '/False', 'rgid': 'PB:357213035_AS:1103436619751424@1640091199662', 'source': 'my_paper.pdf', 'total_pages': 15, 'page': 7, 'page_label': '8'}, page_content='6 Nusrat Jahan et al.\\n3.2 Pre-Processing\\nIn machine learning, the data preprocessing is within the framework of exchang-\\ning or encoding the crude information in a stage where calculations can be\\neﬀectively implemented to prepare. We ought to preprocess the information con-\\ncurring to create it ﬁt for the machine learning model. Well-processed data gives\\nhigh accuracy and makes the model more solid. Here, we have utilized a few\\nstages of preprocessing strategies, which have been outlined in Figure-2:\\nInput Data\\nData Cleaning\\nRemoved unused\\nfeature\\nRemoved Duplicates\\nHandling missing values\\nMean & Median\\nHandling categorical data\\nEDA\\nOne Hot Encoding\\nHandling outliers\\nIQR\\nMethod\\nFeature Scaling\\nStandard Scaler \\nFeature Selection\\nNumerical \\nCategorical \\nModel Output\\nFig. 2.Data Pre-Processing\\nIn our dataset, there are parcels of unused, null, and duplicate values. For\\nthis reason, we took some steps to handle these issues. such as,\\n– Erased duplicate row and column: we discover that numerous information\\npoints are repeated in row and column sections. Therefore, we expelled all\\nthe duplicate information.\\n– Erased the row and column, which shows up more than 50% of the null value.\\nCleaning data occurs when 50% of information comes to the null value. At\\nthat point, we have chosen to evacuate the whole rows and columns. For\\nthe most part, missing value is characterized as the value which was not put\\naway within the sample. The missing value may be a common occasion in\\ninformation. On the other hand, most prescient modeling strategies can’t\\nhandle any missing value. Thus, this issue must be unraveled before model-\\ning. In some cases, median, mean, mode strategies are utilized to overhaul\\na missing value. In any case, the foremost direct method for managing the\\nmissing value is the mean, median, mode strategy. Here we have utilized this\\nmean, median & mode strategy for managing missing data\\n– Handled categorical features: Categorical data could be a subjective include\\nwhose values are taken on the value of labels. So, we ought to encode this\\nsort of information into numbers so that the machine learning model can'),\n",
       " Document(metadata={'producer': 'pdfTeX-1.40.21', 'creator': 'LaTeX with hyperref', 'creationdate': '2021-09-14T02:52:38+00:00', 'author': '', 'keywords': '', 'moddate': '2021-09-14T02:52:38+00:00', 'ptex.fullbanner': 'This is pdfTeX, Version 3.14159265-2.6-1.40.21 (TeX Live 2020) kpathsea version 6.3.2', 'subject': '', 'title': '', 'trapped': '/False', 'rgid': 'PB:357213035_AS:1103436619751424@1640091199662', 'source': 'my_paper.pdf', 'total_pages': 15, 'page': 8, 'page_label': '9'}, page_content='Rainfall Prediction 7\\nexecute scientiﬁc operations on it. In our dataset, there exist a few categorical\\nfeatures. We have utilized one-hot encoding, one of the foremost prevalent\\nencoding algorithms, to encode the categorical values into numbers. It is the\\nforemost common approach, and it works well unless any categorical variable\\ntakes a large number of diverse values. After this encoding, a double matrix\\nis shaped where 1 indicates the presence of any value and 0 indicates the\\nabsence of the value.\\n– Inside our dataset, there were a lot of outliers presented: an outlier is a\\nperception point that’s removed from other perceptions. An outlier may be\\ndue to variations within the estimation or it may appear exploratory mistake\\nthe latter are some of the time excluded from the set of information. An issue\\nof outliers can cause, they tend to be unaﬀected by littler UI changes that\\ndo inﬂuence a more whimsical standard population. Bulk orders will thrust\\nthrough littler convenience changes in a way that your average visitor may\\nnot. So to handle the outliers we have used the IQR (interquartile range)\\nmethod, which is an eﬃcient technique.\\n– Include scaling is one of the signiﬁcant strategies that are mandatory to\\nstandardize the working data’s independent features. All things considered,\\nthere are diﬀerent strategies like Min-Max Scaling, Variance Scaling, Stan-\\ndardization, Mean Normalization, and Unit vectors for include scaling. In\\nour work, we have applied standard scaling as a feature scaling procedure.\\nHere, the exchanged every data point in the range of between -1 and 1.\\n3.3 Training selective Models\\nThe linear model[24]performs well in machine learning linearly. We utilized the\\nfour regressors as Linear Regression, Ridge Regression, Polynomial Regression,\\nand Lasso Regression. Tree-model [25]algorithms are considered to be one of the\\nleading and most utilized supervised learning methods. In this work, we utilize\\na decision tree regressor. We utilized ”gini” for the Gini impurity, and the split-\\nter is chosen as ’best’ to select the part at each node. Ensemble methods[26]\\nare procedures that make multiple models and combine them to create moves\\nforward. Here, we utilized four ensemble-based regressors. These are Random\\nForest, Gradient Boosting, Adaboost, and XGboost. Afterward, we have utilized\\nthree neighbors regressors of statistical pattern recognition. This is K- nearest\\nneighbors[27],ﬁve nearest is chosen for every iteration. Besides, the Manhat-\\ntan distance is chosen for all neighbor classiﬁers. The support vector machine\\nSVM[28] is used mainly for exploring a hyperplane in ddimensional space that\\nnotably ﬁts a hyperplane in data points. In the linear SVM, we used hinge as\\nloss function with l2 penalty.\\n4 Experiment\\nIn the advancement of our test from the proposed work, we have to begin with\\namassed the demonstrate and prepared it. 10 diﬀerent regressors from super-\\nvised learning based on distinctive learning techniques have been executed to'),\n",
       " Document(metadata={'producer': 'pdfTeX-1.40.21', 'creator': 'LaTeX with hyperref', 'creationdate': '2021-09-14T02:52:38+00:00', 'author': '', 'keywords': '', 'moddate': '2021-09-14T02:52:38+00:00', 'ptex.fullbanner': 'This is pdfTeX, Version 3.14159265-2.6-1.40.21 (TeX Live 2020) kpathsea version 6.3.2', 'subject': '', 'title': '', 'trapped': '/False', 'rgid': 'PB:357213035_AS:1103436619751424@1640091199662', 'source': 'my_paper.pdf', 'total_pages': 15, 'page': 9, 'page_label': '10'}, page_content='8 Nusrat Jahan et al.\\nModel \\nLinear Model \\n> Linear Regression\\n> Polynomial Regression\\n> Ridge \\n> Lasso\\nTree Model \\n> Decision tree     \\n Regressor \\nNeareﬆ Neighbor \\n> KNN Regressor \\nEnsemble Model \\n> Random Foreﬆ\\nRegressor \\n> Adabooﬆ\\n> Gradient Booﬆing\\n> XGBooﬆ\\nSVM\\n> Support Vector \\nMachine\\nFig. 3.Training Algorithms\\nanticipate precipitation’s most pertinent mode. This area depicted distinctive\\ntest errands for the execution investigation and assessment and compared all\\ncalculations. Then, we have outlined the test setup utilized to execute the entire\\nerrand and utilized 11 statistical assessment measurements for investigation ex-\\necution. At long last, we have moreover compared with other works related to\\nthis issue concerning the ﬁnest form of our work.\\n4.1 Experiment Setup\\nwe have completed the complete computation in 8google collab, a python reen-\\nactment environment given by Google. This environment comes with parallel\\ncomputation facilities for quick execution. We have utilized the foremost well-\\nknown libraries to create simple and expressive information structures that work\\nwell and instinctively quickly. At long last, sklearn library contains specialized\\nmachine learning and statistical modeling instruments, counting classiﬁcation,\\nregression, and clustering calculations for modeling. We have utilized a machine\\nlearning system named 9sci-kit learn to implement the regression algorithm. At\\nlong last, we utilized 10matplotlib and 11seaborn for information visualization,\\ngraphical representation, additionally for information investigation.\\n8 https://colab.research.google.com/\\n9 https://scikit-learn.org\\n10 https://matplotlib.org\\n11 https://seaborn.pydata.org'),\n",
       " Document(metadata={'producer': 'pdfTeX-1.40.21', 'creator': 'LaTeX with hyperref', 'creationdate': '2021-09-14T02:52:38+00:00', 'author': '', 'keywords': '', 'moddate': '2021-09-14T02:52:38+00:00', 'ptex.fullbanner': 'This is pdfTeX, Version 3.14159265-2.6-1.40.21 (TeX Live 2020) kpathsea version 6.3.2', 'subject': '', 'title': '', 'trapped': '/False', 'rgid': 'PB:357213035_AS:1103436619751424@1640091199662', 'source': 'my_paper.pdf', 'total_pages': 15, 'page': 10, 'page_label': '11'}, page_content='Rainfall Prediction 9\\n4.2 Statistical measurement\\nR2 score : The R2 score could be a very critical metric that’s utilized to assess the\\nperformance of a regression based machine learning model. It is articulated as\\nR squared and is additionally known as the coeﬃcient of assurance. It works by\\nmeasuring the sum of variance within the expectations clariﬁed by the dataset.\\nBasically put, it is the contrast between the tests within the dataset and the\\nexpectations made by the demonstrate. As we can see from all models Random\\nForest regressor achieves the best r2 score which is 0.869904217. The second\\nand third positions are achieved by GradientBoostingRegressor and XGBoost\\nwhich are 0.863496747 and 0.863215393. The condition is shown underneath in\\ncondition 1:\\nR2 = 1 −\\n∑n\\ni=1 (ˆyi − yi)2\\n∑n\\ni=1 (yi − ¯yi)2 (1)\\nMean absolute error: If we consider with respect to error rate then ﬁrst comes\\nto mean absolute error. In measurements, mean absolute error may be a degree of\\nblunders between combined perceptions communicating the same wonder. Mean\\nAbsolute Error (MAE) is another loss function utilized for relapse models. MAE\\nis the entirety of outright contrasts between our target and anticipated factors.\\nSo it measures the normal greatness of errors in a set of forecasts, without\\nconsidering their bearings. Random Forest regressor gets the least mean absolute\\nerror rate which is 0.194459262 compare to others. The declaration of the F1\\nscore is displayed in equation 2 :\\nMAE = 1\\nn\\nn∑\\ni=1\\n⏐⏐⏐Yi − ˆYi\\n⏐⏐⏐ (2)\\nMean squared error: If we consider with respect to mean squared error, The\\nmean squared error (MSE) tells how near a relapse line is to a set of focuses.\\nIt does this by taking the separations from the focuses to the relapse line these\\nseparations are the errors and squaring them, we call It mean squared error.\\nFrom all the models Random forest achieves a minimum mean squared error\\n0.126358647. The articulation is shown beneath in 3 :\\nMSE = 1\\nn\\nn∑\\ni=1\\n(\\nYi − ˆYi\\n)2\\n(3)\\nRoot mean squared error: Now if we consider the root mean squared error,\\nRoot Mean Square Error (RMSE) means the standard deviation of the residuals\\nwhich is prediction error. Residuals are a degree of how distant from the relapse\\nline information focuses are RMSE could be a degree of how to spread out these\\nresiduals are. Here root mean squared error of Random Forest is 0.355469615\\nwhich is less compare to others. The verbalization is shown in 4:\\nRMSE =\\n\\ued6a\\ued6b\\ued6b√\\nn∑\\ni=1\\n(ˆyi − yi)2\\nn (4)'),\n",
       " Document(metadata={'producer': 'pdfTeX-1.40.21', 'creator': 'LaTeX with hyperref', 'creationdate': '2021-09-14T02:52:38+00:00', 'author': '', 'keywords': '', 'moddate': '2021-09-14T02:52:38+00:00', 'ptex.fullbanner': 'This is pdfTeX, Version 3.14159265-2.6-1.40.21 (TeX Live 2020) kpathsea version 6.3.2', 'subject': '', 'title': '', 'trapped': '/False', 'rgid': 'PB:357213035_AS:1103436619751424@1640091199662', 'source': 'my_paper.pdf', 'total_pages': 15, 'page': 11, 'page_label': '12'}, page_content='10 Nusrat Jahan et al.\\nBy all the statistical performance analysis we can see Random forest is the\\neﬃcient regressor model and performing well in this use case.\\n4.3 Result & Performance Analysis\\nTable 2.Performance Metrics of diﬀerent regressors\\nModel Name r2 score MAE MSE RMSE\\nRandom Forest 0.869904217 0.19445926 0.126358647 0.355469615\\nDecision Tree 0.742284572 0.21508858 0.250312287 0.500312189\\nLinear Regression 0.837495137 0.22694578 0.157836744 0.397286728\\nKNN Regressor 0.401557082 0.48855924 0.581252029 0.762398865\\nAdaBoost Regressor 0.786451397 0.37659111 0.207414199 0.455427491\\nGradient Boosting Regressor0.863496747 0.20372662 0.132582057 0.364118191\\nXGBoost 0.863215393 0.20367076 0.132855329 0.364493249\\nRidge Regression 0.837495234 0.157836649 0.132855329 0.397286608\\nLasso Regression -5.91E-05 0.83158029 0.971331339 0.985561434\\nSVM 0.841801 0.203451 0.130951 0.345151\\nFrom table 2, we showed statistical results and comparisons among all ma-\\nchine learning regressors.For better analysis, we choose some statistical pro-\\ncedures for numerical result computing such as r2 score, mean absolute error\\n(MAE), mean square error (MSE), root mean square error (RMSE). After de-\\nveloping the models and testing all regressors, We can see that the Random\\nForest has predicted the best accuracy of 0.869904217 among all others, and the\\nmean absolute error is 0.194459262 which is the lowest, mean squared error is\\n0.126358647 and the root mean squared error is 0.355469615. Considering all\\nerrors and accuracy, it took the best place. Secondly, the gradient boosting re-\\ngressor has gained better accuracy with the second place which is 0.863496747\\nwith the mean absolute error is 0.203726623, mean squared error is 0.132582057\\nand the root mean squared error is 0.364118191. Thirdly, the XGBoost regres-\\nsor has acquired better accuracy, which is 0.863215393, along with the mean\\nabsolute error is 0.203670766, mean squared error is 0.132855329 and the root\\nmean squared error is 0.364493249. Also, from the section on linear algorithms,\\nwe can ﬁgure out that Linear Regression and Ridge Regression showed the al-\\nmost same accuracy and so on. So in this analysis, we can although Random'),\n",
       " Document(metadata={'producer': 'pdfTeX-1.40.21', 'creator': 'LaTeX with hyperref', 'creationdate': '2021-09-14T02:52:38+00:00', 'author': '', 'keywords': '', 'moddate': '2021-09-14T02:52:38+00:00', 'ptex.fullbanner': 'This is pdfTeX, Version 3.14159265-2.6-1.40.21 (TeX Live 2020) kpathsea version 6.3.2', 'subject': '', 'title': '', 'trapped': '/False', 'rgid': 'PB:357213035_AS:1103436619751424@1640091199662', 'source': 'my_paper.pdf', 'total_pages': 15, 'page': 12, 'page_label': '13'}, page_content='Rainfall Prediction 11\\nforest and Gradient Boosting Regressor have acquired almost the same Accuracy\\nbut if we consider the evaluation metrics of then so, Random forest has a low\\nerror rate compare to Gradient Boosting. So, here we have considered the Ran-\\ndom forest approach. Overall all of regressors showed a standard and acceptable\\nperformance.\\nThe bar chart is a graph for representing all regressors algorithms with Sta-\\ntistical measurement. The bar can be vertically or horizontally. Here is the bar\\ngraph of our selective algorithms, down below.\\nFig. 4.Selective algorithms\\n5 Conclusion\\nIn this work, we have presented an initial attempt to determine how much rain\\nwill come when it’s raining time. In the data collection phase, we adopted real\\ndata from Australia from the Kaggle platform. The primary purpose of this\\ntask is to ﬁnd out the best regression technique for the prediction of rain. For\\nthis reason, we have used a variety of regression analysis techniques that can\\nbe utilized for predicting the quantity of rainfall so that anyone can use the\\nbest predictive model in real-life applications. To perform this task, we selected\\nﬁve signiﬁcant steps, these are data collection, data prepossessing, training model\\nusing regression analysis techniques, and performance analysis. In pre-processing\\npart, we have described cleaning data, Missing value check, EDA, Handling\\noutliers, Feature selection, Feature scaling respectively. Besides, we used ten\\nsupervised regressors (machine learning models) for predicting rainfall. Among\\nall models the are gives good accuracy in our predicting regression. Here, in'),\n",
       " Document(metadata={'producer': 'pdfTeX-1.40.21', 'creator': 'LaTeX with hyperref', 'creationdate': '2021-09-14T02:52:38+00:00', 'author': '', 'keywords': '', 'moddate': '2021-09-14T02:52:38+00:00', 'ptex.fullbanner': 'This is pdfTeX, Version 3.14159265-2.6-1.40.21 (TeX Live 2020) kpathsea version 6.3.2', 'subject': '', 'title': '', 'trapped': '/False', 'rgid': 'PB:357213035_AS:1103436619751424@1640091199662', 'source': 'my_paper.pdf', 'total_pages': 15, 'page': 13, 'page_label': '14'}, page_content='12 Nusrat Jahan et al.\\nthe ﬁgure 4 the graphical performance including compassion among all trained\\nmodels has been depicted\\n6 Future Work\\nIn future work, we will focus on the real-life application of rainfall prediction,\\nso that anyone especially farmer can use it easily and forecast the weather of\\nrain. Also, we have plan to use the neural network based deep hybrid approaches\\nto improve the performance. Undoubtedly, we have plans to evaluate the other\\ncountry’s data for forecasting the rain.\\nReferences\\n1. EG Ortiz-Garc´ ıa, S Salcedo-Sanz, and C Casanova-Mateo. Accurate precipita-\\ntion prediction with support vector classiﬁers: A study including novel predictive\\nvariables and observational data. Atmospheric research, 139:128–136, 2014.\\n2. Ian Tyrrell. River Dreams: The people and landscape of the Cooks River. NewSouth,\\n2018.\\n3. John C Rodda. The rainfall measurement problem. IAHS Publication No, 78:215–\\n231, 1967.\\n4. Gujanatti Rudrappa, Nataraj Vijapur, Rajesh Pattar, Ravi Rathod, Rashmi\\nKulkarni, Vudu Sree Chandana, and Sateesh N Hosmane. Machine learning mod-\\nels applied for rainfall prediction. REVISTA GEINTEC-GESTAO INOVACAO E\\nTECNOLOGIAS, 11(3):179–187, 2021.\\n5. Zhi-liang Wang and Hui-hua Sheng. Rainfall prediction using generalized regres-\\nsion neural network: case study zhengzhou. In 2010 International conference on\\ncomputational and information sciences , pages 1265–1268. IEEE, 2010.\\n6. Nikhil Sethi and Kanwal Garg. Exploiting data mining technique for rainfall pre-\\ndiction. International Journal of Computer Science and Information Technologies ,\\n5(3):3982–3984, 2014.\\n7. Sunyoung Lee, Sungzoon Cho, and Patrick M Wong. Rainfall prediction using\\nartiﬁcial neural networks. journal of geographic information and Decision Analysis,\\n2(2):233–242, 1998.\\n8. Adil M Bagirov, Arshad Mahmood, and Andrew Barton. Prediction of monthly\\nrainfall in victoria, australia: Clusterwise linear regression approach. Atmospheric\\nresearch, 188:20–29, 2017.\\n9. Mohammed Moulana, Kolapalli Roshitha, Golla Niharika, and Maturi Siva Sai.\\nPrediction of rainfall using machine learning techniques. International Journal of\\nScientiﬁc & Technology Research, 9:3236–3240, 2020.\\n10. P Asha, A Jesudoss, S Prince Mary, KV Sai Sandeep, and K Harsha Vardhan.\\nAn eﬃcient hybrid machine learning classiﬁer for rainfall prediction. In Journal of\\nPhysics: Conference Series, volume 1770, page 012012. IOP Publishing, 2021.\\n11. S Sakthivel et al. Eﬀective procedure to predict rainfall conditions using hybrid\\nmachine learning strategies. Turkish Journal of Computer and Mathematics Edu-\\ncation (TURCOMAT), 12(6):209–216, 2021.\\n12. Diwakar Naidu, Babita Majhi, and Surendra Kumar Chandniha. Development of\\nrainfall prediction models using machine learning approaches for diﬀerent agro-\\nclimatic zones. In Handbook of Research on Automated Feature Engineering and\\nAdvanced Applications in Data Science , pages 72–94. IGI Global, 2021.'),\n",
       " Document(metadata={'producer': 'pdfTeX-1.40.21', 'creator': 'LaTeX with hyperref', 'creationdate': '2021-09-14T02:52:38+00:00', 'author': '', 'keywords': '', 'moddate': '2021-09-14T02:52:38+00:00', 'ptex.fullbanner': 'This is pdfTeX, Version 3.14159265-2.6-1.40.21 (TeX Live 2020) kpathsea version 6.3.2', 'subject': '', 'title': '', 'trapped': '/False', 'rgid': 'PB:357213035_AS:1103436619751424@1640091199662', 'source': 'my_paper.pdf', 'total_pages': 15, 'page': 14, 'page_label': '15'}, page_content='Rainfall Prediction 13\\n13. Tuan Vu Dinh, Hieu Nguyen, Xuan-Linh Tran, and Nhat-Duc Hoang. Predict-\\ning rainfall-induced soil erosion based on a hybridization of adaptive diﬀerential\\nevolution and support vector machine classiﬁcation. Mathematical Problems in\\nEngineering, 2021, 2021.\\n14. R Malathi and M Manimekalai. Ant colony–information gain based feature selec-\\ntion method for weather dataset. Annals of the Romanian Society for Cell Biology ,\\npages 3838–3850, 2021.\\n15. Nor SamsiahSani, Israa Shlash, Mohammed Hassan, Abdul Hadi, and Mohd Aliﬀ.\\nEnhancing malaysia rainfall prediction using classiﬁcation techniques. J. Appl.\\nEnviron. Biol. Sci , 7(2S):20–29, 2017.\\n16. David Ahijevych, James O Pinto, John K Williams, and Matthias Steiner. Proba-\\nbilistic forecasts of mesoscale convective system initiation using the random forest\\ndata mining technique. Weather and Forecasting, 31(2):581–599, 2016.\\n17. John T Allen. Climate change and severe thunderstorms. In Oxford research\\nencyclopedia of climate science . 2018.\\n18. Harold E Brooks. Severe thunderstorms and climate change. Atmospheric Re-\\nsearch, 123:129–138, 2013.\\n19. Pierre Gentine, Mike Pritchard, Stephan Rasp, Gael Reinaudi, and Galen Yacalis.\\nCould machine learning break the convection parameterization deadlock? Geo-\\nphysical Research Letters, 45(11):5742–5751, 2018.\\n20. Michael J Mcphaden, Gary Meyers, K Ando, Y Masumoto, VSN Murty,\\nM Ravichandran, F Syamsudin, J´ erˆ ome Vialard, Lianbo Yu, and W Yu. Rama:\\nthe research moored array for african–asian–australian monsoon analysis and pre-\\ndiction. Bulletin of the American Meteorological Society , 90(4):459–480, 2009.\\n21. Peter BR Hazell. The appropriate role of agricultural insurance in developing\\ncountries. Journal of International Development , 4(6):567–581, 1992.\\n22. Peter P Mollinga, Ruth S Meinzen-Dick, and Douglas J Merrey. Politics, plurality\\nand problemsheds: A strategic approach for reform of agricultural water resources\\nmanagement. Development Policy Review , 25(6):699–719, 2007.\\n23. Chirag Shah, Chathra Hendahewa, and Roberto Gonz´ alez-Ib´ a˜ nez. Rain or shine?\\nforecasting search process performance in exploratory search tasks. Journal of the\\nAssociation for Information Science and Technology , 67(7):1607–1623, 2016.\\n24. Gareth James, Daniela Witten, Trevor Hastie, and Robert Tibshirani. Linear\\nmodel selection and regularization. In An introduction to statistical learning, pages\\n225–288. Springer, 2021.\\n25. Raksha Agarwal and Niladri Chatterjee. Langresearchlab nc at cmcl2021 shared\\ntask: Predicting gaze behaviour using linguistic features and tree regressors. In\\nProceedings of the Workshop on Cognitive Modeling and Computational Linguis-\\ntics, pages 79–84, 2021.\\n26. S Ben´ ıtez-Pe˜ na, E Carrizosa, V Guerrero, MD Jim´ enez-Gamero, B Mart´ ın-\\nBarrag´ an, and C Molero-R´ ıo. On sparse ensemble methods. 2021.\\n27. Kim de Bie, Ana Lucic, and Hinda Haned. To trust or not to trust a regressor:\\nEstimating and explaining trustworthiness of regression predictions.arXiv preprint\\narXiv:2104.06982, 2021.\\n28. Mauricio Gonz´ alez-Palacio, Lina Sep´ ulveda-Cano, and Ronal Montoya. Simpli-\\nﬁed path loss lognormal shadow fading model versus a support vector machine-\\nbased regressor comparison for determining reception powers in wlan networks. In\\nInternational Conference on Information Technology & Systems , pages 431–441.\\nSpringer, 2021.\\nView publication statsView publication statsView publication stats')]"
      ]
     },
     "execution_count": 3,
     "metadata": {},
     "output_type": "execute_result"
    }
   ],
   "source": [
    "data"
   ]
  },
  {
   "cell_type": "markdown",
   "id": "01ebbbbf",
   "metadata": {},
   "source": [
    "#### 2- Perform Data Splitting Task ??"
   ]
  },
  {
   "cell_type": "code",
   "execution_count": 4,
   "id": "289c252e",
   "metadata": {},
   "outputs": [
    {
     "name": "stdout",
     "output_type": "stream",
     "text": [
      "Total Number of Documents ->  44\n"
     ]
    }
   ],
   "source": [
    "from langchain.text_splitter import RecursiveCharacterTextSplitter\n",
    "\n",
    "# Split Data \n",
    "splitter = RecursiveCharacterTextSplitter(chunk_size=1000)\n",
    "\n",
    "docs = splitter.split_documents(data)\n",
    "\n",
    "print(\"Total Number of Documents -> \", len(docs))"
   ]
  },
  {
   "cell_type": "code",
   "execution_count": 5,
   "id": "9ce2b90c",
   "metadata": {},
   "outputs": [
    {
     "data": {
      "text/plain": [
       "Document(metadata={'producer': 'pdfTeX-1.40.21', 'creator': 'LaTeX with hyperref', 'creationdate': '2021-09-14T02:52:38+00:00', 'author': '', 'keywords': '', 'moddate': '2021-09-14T02:52:38+00:00', 'ptex.fullbanner': 'This is pdfTeX, Version 3.14159265-2.6-1.40.21 (TeX Live 2020) kpathsea version 6.3.2', 'subject': '', 'title': '', 'trapped': '/False', 'rgid': 'PB:357213035_AS:1103436619751424@1640091199662', 'source': 'my_paper.pdf', 'total_pages': 15, 'page': 0, 'page_label': '1'}, page_content='See discussions, stats, and author profiles for this publication at: https://www.researchgate.net/publication/357213035\\nDevelopment of Multiple Combined Regression Methods for Rainfall\\nMeasurement Development of Multiple Combined Regression Methods for\\nRainfall Measurement\\nArticle · December 2021\\nCITATIONS\\n0\\nREADS\\n711\\n6 authors, including:\\nNusrat Jahan Prottasha\\nDaffodil International University\\n26 PUBLICATIONS\\xa0\\xa0\\xa0299 CITATIONS\\xa0\\xa0\\xa0\\nSEE PROFILE\\nMd Kowsher\\nStevens Institute of Technology\\n73 PUBLICATIONS\\xa0\\xa0\\xa0561 CITATIONS\\xa0\\xa0\\xa0\\nSEE PROFILE\\nRokeya Khatun Shorna\\nJahangirnagar University\\n6 PUBLICATIONS\\xa0\\xa0\\xa05 CITATIONS\\xa0\\xa0\\xa0\\nSEE PROFILE\\nNiaz Murshed\\nJahangirnagar University\\n3 PUBLICATIONS\\xa0\\xa0\\xa00 CITATIONS\\xa0\\xa0\\xa0\\nSEE PROFILE\\nAll content following this page was uploaded by Niaz Murshed on 21 December 2021.\\nThe user has requested enhancement of the downloaded file.')"
      ]
     },
     "execution_count": 5,
     "metadata": {},
     "output_type": "execute_result"
    }
   ],
   "source": [
    "docs[0]"
   ]
  },
  {
   "cell_type": "markdown",
   "id": "356b29da",
   "metadata": {},
   "source": [
    "##### Set The API Key For Google ??"
   ]
  },
  {
   "cell_type": "code",
   "execution_count": 6,
   "id": "0f8f3cda",
   "metadata": {},
   "outputs": [],
   "source": [
    "import os\n",
    "from dotenv import load_dotenv\n",
    "\n",
    "load_dotenv()\n",
    "\n",
    "os.environ[\"GOOGLE_API_KEY\"] = os.getenv(\"GOOGLE_API_KEY\")"
   ]
  },
  {
   "cell_type": "markdown",
   "id": "1a537df6",
   "metadata": {},
   "source": [
    "#### 3- Google Embedding Model ??"
   ]
  },
  {
   "cell_type": "code",
   "execution_count": 7,
   "id": "65f65ea1",
   "metadata": {},
   "outputs": [
    {
     "name": "stdout",
     "output_type": "stream",
     "text": [
      "[0.0568939670920372, 0.004847595002502203, -0.07480023056268692, -0.02037825807929039, 0.05459685996174812, 0.02078411728143692, 0.0077674356289207935, -0.02197110839188099, 0.00906389206647873, 0.03388899564743042, -0.017342258244752884, 0.025645652785897255, -0.02578129805624485, 0.004891649819910526, -0.012597976252436638, -0.03318558633327484, 0.02440493553876877, 0.014756722375750542, 0.022012624889612198, 0.00317054963670671, 0.0007803381304256618, 0.011279022321105003, -0.020237186923623085, -0.012590527534484863, 0.039630789309740067, -0.005595008842647076, 0.014365505427122116, -0.049365513026714325, -0.017230022698640823, 0.002269239164888859, -0.03728564828634262, -0.0014524658909067512, -0.02625308558344841, 0.030707990750670433, 0.027113739401102066, -0.06545340269804001, 0.011522505432367325, 0.005278872326016426, 0.001225037151016295, -0.015524037182331085, 0.01990637555718422, -0.06871866434812546, -0.03674895688891411, 0.015138255432248116, 0.0077547491528093815, 0.012380997650325298, -0.027889247983694077, 0.023457201197743416, 0.013905895873904228, -0.059300489723682404, 0.04455720633268356, 0.023701483383774757, 0.07336601614952087, -0.029307164251804352, 0.008182384073734283, -0.019398653879761696, 0.07664629071950912, 0.0030009003821760416, -0.03838124871253967, 0.03099704720079899, 0.0104394955560565, 0.027213871479034424, 0.03135812282562256, 0.02247050777077675, -0.019774572923779488, -0.06865722686052322, -0.05405093729496002, 0.022890079766511917, 0.03212771937251091, -0.007973965257406235, -0.012611323967576027, -0.03805025294423103, 0.02563226781785488, 0.0019003243651241064, 0.025922171771526337, -0.12086144834756851, -0.0035962534602731466, 0.031997766345739365, 0.011296551674604416, -0.028302328661084175, 0.009863627143204212, -0.05241444706916809, -0.07201427966356277, -0.021610664203763008, -0.08156156539916992, 0.012800521217286587, -0.030069582164287567, -0.010529788210988045, 0.004583507310599089, 0.04405635595321655, -0.023527536541223526, -0.014678271487355232, 0.0790552943944931, -0.04612550884485245, -0.004626696463674307, 0.0757657140493393, -0.04444706067442894, -0.04276314377784729, 0.034701310098171234, -0.02704339288175106, 0.023048443719744682, -0.0392889566719532, -0.05409098044037819, 0.0177915096282959, 0.04827747866511345, 0.010797567665576935, 0.017294349148869514, 0.03969012200832367, 0.012888490222394466, 0.0345049612224102, -0.07093636691570282, 0.024236315861344337, 0.0012301852693781257, 0.015455054119229317, 0.029080383479595184, -0.022658880800008774, -0.008969583548605442, 0.08323577791452408, 0.03463194519281387, 0.058079447597265244, 0.026873288676142693, -0.008889433927834034, 0.07345223426818848, -0.05069803074002266, 0.013713163323700428, -0.014129985123872757, -0.0058236513286828995, 0.04954303801059723, -0.0011701940093189478, -0.003474889323115349, -0.016779907047748566, -0.050880081951618195, -0.012935479171574116, 0.012259846553206444, 0.04837757721543312, 0.06441888958215714, 0.04326673224568367, -0.04323918744921684, 0.01695139892399311, -0.017139755189418793, 0.012883227318525314, 0.031087540090084076, 0.0033514511305838823, 0.016813447698950768, -0.018706027418375015, 0.06008279323577881, -0.07078618556261063, -0.010896322317421436, 0.051504675298929214, -0.03077443689107895, -0.016074271872639656, 0.0024336748756468296, -0.06950157135725021, -0.02407960407435894, 0.0702749714255333, -0.016342710703611374, -0.03673706203699112, 0.02507367730140686, 0.027210921049118042, 0.01390292402356863, 0.003940868657082319, -0.020218297839164734, 0.03692562133073807, 0.04319588094949722, -0.005736033897846937, -0.04001039266586304, -0.03310384228825569, -0.00886845588684082, -0.021747831255197525, 0.01275552622973919, -0.020256849005818367, 0.019512994214892387, -0.03576191887259483, -0.03808832913637161, -0.002509636338800192, -0.054943643510341644, 0.044192999601364136, -0.005285398103296757, -0.05581560730934143, -0.011985563673079014, 0.015446904115378857, -0.022894704714417458, 0.02088780887424946, 0.05233117192983627, 0.005131283774971962, -0.039041124284267426, 0.07343028485774994, -0.010996080935001373, -0.008323020301759243, 0.03399356082081795, 0.0024606233928352594, 0.009567758068442345, -0.03918510302901268, -0.039625175297260284, -0.030308162793517113, 0.05427950620651245, 0.0048946188762784, 0.026270685717463493, 0.02537357062101364, -0.03723279759287834, 0.01642005331814289, 0.07867787033319473, -0.008077102713286877, -0.02474944293498993, 0.034139733761548996, -0.03055610880255699, 0.07404465228319168, -0.04553644731640816, -0.03574192151427269, 0.027017295360565186, -0.02859196439385414, 0.016940994188189507, -0.005106800701469183, -0.009585712105035782, 0.04039027914404869, -5.684687948814826e-06, 0.0031341086141765118, 0.023774534463882446, 0.008860007859766483, -0.03558424115180969, -0.0259768795222044, -0.0035243029706180096, -0.01679454743862152, 0.003894762834534049, 0.008386132307350636, 0.05156468600034714, -0.01303941011428833, -0.012280809693038464, 0.01512138731777668, -0.04404867812991142, -0.017899135127663612, 0.084091916680336, 0.006080106366425753, 0.004018829204142094, 0.06028646603226662, -0.019414078444242477, -0.006743582896888256, 0.01624138280749321, 0.022335156798362732, 0.03449254110455513, -0.05960255488753319, 0.020629923790693283, 0.033002544194459915, 0.05124908685684204, -0.08574341237545013, -0.04107094928622246, -0.04075513035058975, 0.03528060019016266, -0.010358464904129505, 0.04977220669388771, 0.01659751869738102, -0.04777836799621582, -0.01076852809637785, -0.004757750779390335, -0.0979134738445282, 0.02600128762423992, -0.028735710307955742, 0.021629076451063156, -0.050837598741054535, 0.006012709345668554, 0.05716367065906525, -0.006010704208165407, 0.015239373780786991, -0.008925589732825756, -0.014175649732351303, -0.02798113040626049, 0.04458994045853615, -0.07062169909477234, 0.02545209787786007, 0.015878967940807343, 0.01452635508030653, -0.028127968311309814, 0.04546279087662697, 0.004343216307461262, 0.004787922836840153, 0.00639580050483346, -0.008945289999246597, 0.06811558455228806, 0.0276284608989954, -0.0421256460249424, 0.020765287801623344, 0.025358397513628006, 0.05498474836349487, -0.024869997054338455, 0.015531704761087894, -0.005255311261862516, -0.04767591878771782, -0.02706531621515751, 0.029924342408776283, -0.052969083189964294, -0.024311494082212448, -0.03543771058320999, 0.03589123114943504, -0.029787501320242882, -0.036585140973329544, 0.006137566175311804, 0.010992184281349182, 0.025703391060233116, 0.01472480222582817, -0.04913913086056709, -0.0155947869643569, -0.08505911380052567, 0.018039675429463387, -0.08579140901565552, -0.027005618438124657, 0.009565749205648899, -0.011740404181182384, -0.04437963292002678, 0.038961030542850494, 0.03429333120584488, -0.013760719448328018, 0.016709156334400177, -0.03601069375872612, 0.013494514860212803, 0.05567546561360359, 0.03586559370160103, -0.015552453696727753, 0.03116535022854805, -0.006256694905459881, 0.050921034067869186, 0.01516028679907322, 0.07806078344583511, 0.01788814179599285, -0.007139645516872406, -0.026542427018284798, 0.05163230746984482, 0.02335614711046219, 0.00714968191459775, -0.017662422731518745, 0.016756854951381683, -0.025387614965438843, 0.02253391407430172, -0.055112868547439575, -0.009182507172226906, -0.009682651609182358, 0.030605973675847054, -0.07371774315834045, 0.022448474541306496, -0.04354183375835419, -0.029795464128255844, -0.030889423564076424, 0.00822571199387312, -0.033986661583185196, -0.047389958053827286, 0.006868117023259401, 3.88906555599533e-05, -0.04563457518815994, 0.04449286311864853, 0.0674191564321518, 0.051186010241508484, 0.0030705209355801344, 0.08087074756622314, -0.036875639110803604, 0.05162472650408745, -0.005085556302219629, -0.03907090425491333, 0.04332626238465309, -0.03285377100110054, 0.024713963270187378, -0.023136775940656662, 0.019478723406791687, 0.034896258264780045, -0.017615647986531258, -0.039818454533815384, -0.024572838097810745, 0.010546371340751648, -0.02221301756799221, -0.0053849369287490845, -0.005633089225739241, 0.06070251017808914, 0.01378125511109829, -0.02791992947459221, 0.0250273197889328, -0.06745905429124832, 0.02397286333143711, 0.018406489863991737, -0.04203382134437561, -0.026316070929169655, 0.03155761584639549, 0.019209062680602074, 0.0020428230054676533, 0.004625084809958935, 0.03788876533508301, -0.003980997018516064, 0.025287393480539322, -0.021319564431905746, 0.03868448734283447, 0.024216629564762115, -0.03686216473579407, 0.026395883411169052, -0.05865897983312607, 0.026526324450969696, 0.08866927772760391, 0.013535949401557446, 0.009029120206832886, -0.03960416465997696, -0.01682383380830288, -0.06526109576225281, 0.018201608210802078, 0.03189193457365036, -0.01633073017001152, -0.05770814046263695, -0.031555645167827606, 0.014530757442116737, -0.06388385593891144, 0.020032759755849838, 0.018460145220160484, -0.004448956809937954, -0.0471462644636631, -0.030398502945899963, 0.031554196029901505, -0.01733573153614998, 0.011102311313152313, -0.06307102739810944, -0.05733530595898628, -0.05190306156873703, 0.04765915870666504, -0.021759239956736565, -0.04495984688401222, 0.022996753454208374, -0.011074049398303032, -0.00393737992271781, 0.005752489902079105, -0.012673845514655113, -0.07149337232112885, -0.019071467220783234, 0.04277618229389191, 0.03873470425605774, -0.0011569540947675705, 0.0021785178687423468, 0.027483845129609108, 0.015778489410877228, -0.022307951003313065, -0.01975986175239086, -0.015996064990758896, -0.06043291836977005, 0.0039784787222743034, 0.05081082507967949, -0.03806481882929802, 0.009106788784265518, 0.034552931785583496, -0.04032573848962784, 0.036206167191267014, -0.025533970445394516, -0.003656130749732256, -0.021426722407341003, -0.037686847150325775, -0.026546746492385864, 0.01118648611009121, -0.08730669319629669, 0.05420129373669624, -0.10224580764770508, -0.018065398558974266, -0.06849262863397598, -0.06547156721353531, -0.030607091262936592, 0.016245346516370773, 0.0659421980381012, -0.030390119180083275, 0.019571390002965927, -0.0040096715092659, -0.005876761861145496, -0.005175888072699308, -0.08314348757266998, 0.0273695457726717, -0.02600812166929245, 0.006962570361793041, -0.0021953904069960117, 0.03240561857819557, 0.04321125149726868, 0.011854088865220547, -0.013693604618310928, -0.0003502039471641183, -0.022484900429844856, -0.01965647004544735, -0.004221376962959766, -0.08455526828765869, 0.04455556347966194, -0.043345775455236435, -0.002402304206043482, 0.013125689700245857, 0.02710643596947193, -0.0047088381834328175, 0.03012683428823948, -0.021494358777999878, 0.022658368572592735, 0.015178196132183075, -0.013380635529756546, -0.04562748223543167, 0.06909959763288498, 0.03647273778915405, -0.019551290199160576, -0.014166155830025673, -0.018943587318062782, -0.029611453413963318, 0.008726958185434341, -0.0162203349173069, 0.05510978028178215, 0.04794895276427269, 0.04641906917095184, -0.018609974533319473, -0.02224154956638813, -0.00544573413208127, -0.010579596273601055, 0.08688873797655106, -0.09030566364526749, -0.01108825858682394, 0.04718577489256859, 0.01998884417116642, -0.010970116592943668, -0.0033341380767524242, 0.027454795315861702, -0.02348233573138714, 0.005686505232006311, 0.049853451550006866, -0.041692472994327545, 0.01674174703657627, -0.01711745746433735, 0.01002231054008007, 0.0018710020231083035, 0.030869828537106514, -0.011143059469759464, -0.08020130544900894, -0.02719528041779995, -0.006394295021891594, -0.04478413239121437, -0.02039479650557041, 0.01477647665888071, -0.03853590413928032, 0.017239192500710487, -0.040622178465127945, 0.08446826040744781, -0.06723503023386002, -0.014318681322038174, 0.05012288689613342, 0.002546813106164336, 0.03330983221530914, 0.0294908806681633, -0.02771536260843277, -0.02269130013883114, 0.06247716024518013, -0.010705385357141495, 0.04832056909799576, 0.015251794829964638, -0.042850933969020844, 0.02208532951772213, 0.013878083787858486, -0.07743512094020844, -0.005737493745982647, -0.010725968517363071, -0.008895687758922577, 0.031963638961315155, 0.04126423969864845, -0.008114529773592949, 0.01699364185333252, -0.005837161093950272, 0.0003686340351123363, 0.004959150217473507, 0.04529307037591934, 0.007234301883727312, 0.0396067276597023, 0.013006825000047684, 0.014296436682343483, 0.015175323002040386, 0.06671176105737686, 0.012170238420367241, -0.01887211576104164, -0.021505841985344887, 0.06221911311149597, -0.015454960986971855, -0.032240886241197586, 0.003580296179279685, 0.03363868221640587, -0.02042238414287567, 0.055833879858255386, -0.03524305671453476, -0.061577968299388885, -0.010380390100181103, -0.018054978922009468, 0.005042756907641888, 0.06614154577255249, -0.015887591987848282, -0.014793235808610916, 0.0781407579779625, -0.030160166323184967, 0.003923234064131975, 0.06682512164115906, 0.05443469434976578, 0.04557577893137932, 0.017327362671494484, -0.040000807493925095, 0.011859116144478321, -0.006442250683903694, 0.00172641861718148, -0.0159775298088789, 0.00653408607468009, 0.03148413076996803, -0.01867850497364998, -0.0029270153027027845, -0.016904190182685852, 0.01874837465584278, -0.03415394946932793, 0.04278642311692238, -0.05298299342393875, 0.03577811270952225, 0.03262009471654892, -0.025660358369350433, 0.000310958712361753, 0.029029836878180504, 0.09743361920118332, 0.0039949617348611355, -0.04260758310556412, 0.0005628719227388501, -0.02440793253481388, -0.019780464470386505, -0.052601855248212814, 0.08462513983249664, 0.0008708875975571573, -0.018245644867420197, -0.034609630703926086, -0.01706453040242195, 0.020654864609241486, 0.008893201127648354, -0.0016490462003275752, 0.0193073358386755, -0.002849981188774109, -0.04062735289335251, -0.007298626936972141, 0.05525210127234459, 0.04139147326350212, 0.056669287383556366, 0.061489202082157135, -0.02533164620399475, 0.02769460342824459, -0.025437897071242332, 0.006289827637374401, 0.0020621996372938156, 0.02973954565823078, 0.06153128668665886, -0.004342773463577032, -0.07276473939418793, 0.0037389968056231737, 0.008809543214738369, 0.0019198271911591291, -0.01987605169415474, 0.06668595969676971, 0.02704242244362831, -0.09218700230121613, -0.06001828610897064, -0.007468703202903271, -0.005603122524917126, -0.0035865160170942545, 0.011463122442364693, -0.015512248501181602, 0.015011916868388653, 0.04966216906905174, -0.023909175768494606, -0.05086527764797211, 0.021231969818472862, -0.024713095277547836, -0.038889143615961075, -0.009279986843466759, -0.026141677051782608, 0.000283970934106037, 0.039070434868335724, -0.032816413789987564, -0.05011756345629692, -0.09566441923379898, -0.013210601173341274, 0.04406476765871048, -0.06719470769166946, 0.030647829174995422, 0.05187875032424927, -0.00726708211004734, 0.034616850316524506, 0.019347093999385834, 0.004162616096436977, 0.02972562424838543, 0.007180212996900082, 0.02298312447965145, 0.02662445418536663, -0.011983957141637802, -0.035644885152578354, 0.027323661372065544, -0.0005669006495736539, 0.037571150809526443, 0.017664503306150436, -0.020099302753806114, -0.04097779467701912, -0.026837343350052834, 0.012212082743644714, -0.01769746094942093, 0.016596874222159386, 0.04634376987814903, 0.025233380496501923, 0.04592706263065338, -0.0012533444678410888, -0.004180428571999073, 0.020524632185697556, 0.05407899245619774, -0.02579873986542225, -0.03997611999511719, -0.01279966626316309, 0.008133587427437305, 0.0382763147354126, 0.00016583515389356762, 0.027926603332161903, 0.031172720715403557, 0.011033864691853523, 0.06314267963171005, -0.003907681442797184, -0.04407218098640442, -0.008617500774562359, 0.044043149799108505, 0.019311927258968353, -0.04287315905094147, 0.006418025586754084, 0.044071875512599945, -0.020879296585917473, 0.058492615818977356, 0.04656992480158806, 0.039462748914957047, 0.03267480805516243, -0.016983354464173317, -0.05983531102538109, 0.06663211435079575, -0.04416248947381973, -0.012364812195301056, -0.033712003380060196, -0.037613146007061005, 0.0994146391749382, -0.030673090368509293, 0.006241484545171261, 0.011274914257228374, -0.01707063429057598, 0.07213740795850754, 0.023248113691806793, 0.022030768916010857, -0.0015538508305326104, -0.07318916916847229, -0.03977106139063835, 0.0070924293249845505, 0.009507655166089535, 0.059195663779973984, 0.032635319977998734, -0.005295357666909695, 0.018004268407821655, -0.00807927642017603, 0.011919444426894188, -0.058366987854242325, -0.040247511118650436, -0.006896898150444031, -0.03844812884926796, 0.06753455102443695, 0.03793894499540329, 0.0014206707710400224, -0.007690230384469032, 0.002481193980202079, -0.011617102660238743, -4.532548337010667e-05, -0.04854711517691612, -0.025518245995044708, 0.006668572314083576, -0.008097332902252674, 0.03302744776010513, 0.0049459682777523994, -0.02888891100883484, 0.006633411627262831]\n"
     ]
    }
   ],
   "source": [
    "from langchain_google_genai import GoogleGenerativeAIEmbeddings\n",
    "\n",
    "embeddings = GoogleGenerativeAIEmbeddings(model=\"models/embedding-001\")\n",
    "\n",
    "vector = embeddings.embed_query(\"Hello, world!\")\n",
    "\n",
    "print(vector)"
   ]
  },
  {
   "cell_type": "code",
   "execution_count": 8,
   "id": "62602c0a",
   "metadata": {},
   "outputs": [
    {
     "data": {
      "text/plain": [
       "768"
      ]
     },
     "execution_count": 8,
     "metadata": {},
     "output_type": "execute_result"
    }
   ],
   "source": [
    "len(vector)"
   ]
  },
  {
   "cell_type": "markdown",
   "id": "b74c2b02",
   "metadata": {},
   "source": [
    "#### 4- Prepare Chroma Vector Store ??"
   ]
  },
  {
   "cell_type": "code",
   "execution_count": 9,
   "id": "eef38445",
   "metadata": {},
   "outputs": [],
   "source": [
    "from langchain_chroma import Chroma\n",
    "\n",
    "vectorstore = Chroma.from_documents(\n",
    "    documents=docs,\n",
    "    embedding=GoogleGenerativeAIEmbeddings(model=\"models/embedding-001\")\n",
    ")\n",
    "\n",
    "retriever = vectorstore.as_retriever(search_type=\"similarity\", search_kwargs={\"k\": 10})\n",
    "\n",
    "retrieved_docs = retriever.invoke(\"What is new in Development of Multiple Combined Regression Methods for Rainfall Measurement paper?\")"
   ]
  },
  {
   "cell_type": "code",
   "execution_count": 10,
   "id": "b5baa750",
   "metadata": {},
   "outputs": [
    {
     "data": {
      "text/plain": [
       "10"
      ]
     },
     "execution_count": 10,
     "metadata": {},
     "output_type": "execute_result"
    }
   ],
   "source": [
    "len(retrieved_docs)"
   ]
  },
  {
   "cell_type": "code",
   "execution_count": 11,
   "id": "a7fba07c",
   "metadata": {},
   "outputs": [
    {
     "data": {
      "text/plain": [
       "[Document(id='0da7fbe0-9988-46a5-a0f7-ddad16c934c5', metadata={'producer': 'pdfTeX-1.40.21', 'title': '', 'subject': '', 'moddate': '2021-09-14T02:52:38+00:00', 'source': 'my_paper.pdf', 'rgid': 'PB:357213035_AS:1103436619751424@1640091199662', 'page': 4, 'creator': 'LaTeX with hyperref', 'ptex.fullbanner': 'This is pdfTeX, Version 3.14159265-2.6-1.40.21 (TeX Live 2020) kpathsea version 6.3.2', 'keywords': '', 'author': '', 'creationdate': '2021-09-14T02:52:38+00:00', 'trapped': '/False', 'page_label': '5', 'total_pages': 15}, page_content='any gauges utilizing these estimations.[3] Besides Prabakaran et al. proposed a\\nmethod that speaks to a numerical strategy called Linear Regression to antici-\\npate the rainfall in diﬀerent areas in southern states of India.[4] To improvement\\nWang et al. showed a case study they proposed an application of generalized\\nregression neural network (GRNN) model to anticipate yearly precipitation in\\nZhengzhou .[5] On the other hand, Sethi et al. presented an exploiting data min-\\ning technique for the early prediction of rainfall called multiple linear regression\\n(MLR) .[6] Sunyoung Lee et al. presented a divide and conquer approach to\\npredict the rainfall based on the locational information only .[7] Also, Bagirov,\\nM Adil et al. developed the Clusterwise Linear Regression (CLR) technique for\\nthe prediction of monthly rainfall .[8] In addition, Mohammed Moulana et al.\\nrepresented machine learning techniques to precipitation prediction the purpose'),\n",
       " Document(id='f32243a1-26c4-4d16-9f60-1a7606ff0fdd', metadata={'ptex.fullbanner': 'This is pdfTeX, Version 3.14159265-2.6-1.40.21 (TeX Live 2020) kpathsea version 6.3.2', 'page': 3, 'subject': '', 'author': '', 'total_pages': 15, 'source': 'my_paper.pdf', 'creator': 'LaTeX with hyperref', 'title': '', 'rgid': 'PB:357213035_AS:1103436619751424@1640091199662', 'keywords': '', 'moddate': '2021-09-14T02:52:38+00:00', 'producer': 'pdfTeX-1.40.21', 'creationdate': '2021-09-14T02:52:38+00:00', 'trapped': '/False', 'page_label': '4'}, page_content='years of historical data to train our model. The dataset contains various weather\\nconditions of diﬀerent places. This method can be utilized to predict the rainfall\\n(The amount of rainfall recorded for the day in mm) and avoid the annihilation\\ncaused by it to life, agriculture, farm, and property. If we can quantify the rain-\\nfall most people can make some decisions before overwhelmed rain-aﬀected. The\\ncontributions of this work are summarised as:\\n– We have assessed a pipeline of making choices for evaluating the ﬁnest rea-\\nsonable rain prediction.\\n– We have utilized 10 supervised regressors (Machine Learning Model). Be-\\ncause diﬀerent regressors give us diﬀerent results. So, it’s essential to ﬁnd\\nout the right model according to the requirements.'),\n",
       " Document(id='56b1ce9c-e12c-4bbb-811b-fef645d56524', metadata={'subject': '', 'source': 'my_paper.pdf', 'creationdate': '2021-09-14T02:52:38+00:00', 'total_pages': 15, 'creator': 'LaTeX with hyperref', 'title': '', 'moddate': '2021-09-14T02:52:38+00:00', 'author': '', 'keywords': '', 'page_label': '5', 'trapped': '/False', 'ptex.fullbanner': 'This is pdfTeX, Version 3.14159265-2.6-1.40.21 (TeX Live 2020) kpathsea version 6.3.2', 'page': 4, 'rgid': 'PB:357213035_AS:1103436619751424@1640091199662', 'producer': 'pdfTeX-1.40.21'}, page_content='Rainfall Prediction 3\\n– We have discussed a big comparison among all trained models to ﬁgure out\\nthe best performer.\\nThe paper is organized as takes after: Section II clariﬁes the related work of\\ndiﬀerent classiﬁcation strategies for the forecast of rain classiﬁcation. Section-III\\ndepicts the technique and materials utilized. Section-IV depicts the experimental\\nanalysis including performance and result. Section V talks about the conclusion\\nof this research work where section VI described about the plan of future.\\n2 Related Works\\nIn this paper, through a systematic investigation Rodda et al. have presented the\\nrainfall measurement problem, they claim there’s an orderly mistake in the esti-\\nmation of precipitation made in an ordinary way, a mistake which may inﬂuence\\nany gauges utilizing these estimations.[3] Besides Prabakaran et al. proposed a\\nmethod that speaks to a numerical strategy called Linear Regression to antici-'),\n",
       " Document(id='03fd82c4-f540-42c4-90d0-8eeacfc56d60', metadata={'creationdate': '2021-09-14T02:52:38+00:00', 'source': 'my_paper.pdf', 'page_label': '4', 'trapped': '/False', 'rgid': 'PB:357213035_AS:1103436619751424@1640091199662', 'moddate': '2021-09-14T02:52:38+00:00', 'page': 3, 'creator': 'LaTeX with hyperref', 'ptex.fullbanner': 'This is pdfTeX, Version 3.14159265-2.6-1.40.21 (TeX Live 2020) kpathsea version 6.3.2', 'total_pages': 15, 'producer': 'pdfTeX-1.40.21', 'subject': '', 'author': '', 'title': '', 'keywords': ''}, page_content='Some of the research has shown some classiﬁcation method to predict whether\\nit would be rain tomorrow or not. But instead of a classiﬁcation method for pre-\\ndicting rain, we need to the quantity of the rainfall in a particular place. There\\nis numerous equipment implement for foreseeing rainfall by utilizing the climate\\nconditions like temperature, humidity, weight. These conventional strategies can-\\nnot work productively so by utilizing machine learning procedures. we can create\\nan exact comes about rain forecast. Ready to fair do it by having the histori-\\ncal information investigation of rainfall and can anticipate the precipitation for\\nfuture seasons. In our paper, we presented some predictive regression analysis\\ntechniques to quantify rainfall quantity at a place. Here we used more than 10\\nyears of historical data to train our model. The dataset contains various weather\\nconditions of diﬀerent places. This method can be utilized to predict the rainfall'),\n",
       " Document(id='cdaa0cb5-31a2-419a-a85c-b3850595d531', metadata={'total_pages': 15, 'moddate': '2021-09-14T02:52:38+00:00', 'rgid': 'PB:357213035_AS:1103436619751424@1640091199662', 'page': 0, 'producer': 'pdfTeX-1.40.21', 'source': 'my_paper.pdf', 'page_label': '1', 'ptex.fullbanner': 'This is pdfTeX, Version 3.14159265-2.6-1.40.21 (TeX Live 2020) kpathsea version 6.3.2', 'subject': '', 'author': '', 'title': '', 'keywords': '', 'creationdate': '2021-09-14T02:52:38+00:00', 'trapped': '/False', 'creator': 'LaTeX with hyperref'}, page_content='See discussions, stats, and author profiles for this publication at: https://www.researchgate.net/publication/357213035\\nDevelopment of Multiple Combined Regression Methods for Rainfall\\nMeasurement Development of Multiple Combined Regression Methods for\\nRainfall Measurement\\nArticle · December 2021\\nCITATIONS\\n0\\nREADS\\n711\\n6 authors, including:\\nNusrat Jahan Prottasha\\nDaffodil International University\\n26 PUBLICATIONS\\xa0\\xa0\\xa0299 CITATIONS\\xa0\\xa0\\xa0\\nSEE PROFILE\\nMd Kowsher\\nStevens Institute of Technology\\n73 PUBLICATIONS\\xa0\\xa0\\xa0561 CITATIONS\\xa0\\xa0\\xa0\\nSEE PROFILE\\nRokeya Khatun Shorna\\nJahangirnagar University\\n6 PUBLICATIONS\\xa0\\xa0\\xa05 CITATIONS\\xa0\\xa0\\xa0\\nSEE PROFILE\\nNiaz Murshed\\nJahangirnagar University\\n3 PUBLICATIONS\\xa0\\xa0\\xa00 CITATIONS\\xa0\\xa0\\xa0\\nSEE PROFILE\\nAll content following this page was uploaded by Niaz Murshed on 21 December 2021.\\nThe user has requested enhancement of the downloaded file.'),\n",
       " Document(id='5a602d8d-17c4-4c95-8dd8-c1d28319fcca', metadata={'moddate': '2021-09-14T02:52:38+00:00', 'subject': '', 'page': 13, 'title': '', 'creator': 'LaTeX with hyperref', 'creationdate': '2021-09-14T02:52:38+00:00', 'source': 'my_paper.pdf', 'trapped': '/False', 'producer': 'pdfTeX-1.40.21', 'total_pages': 15, 'keywords': '', 'ptex.fullbanner': 'This is pdfTeX, Version 3.14159265-2.6-1.40.21 (TeX Live 2020) kpathsea version 6.3.2', 'rgid': 'PB:357213035_AS:1103436619751424@1640091199662', 'author': '', 'page_label': '14'}, page_content='An eﬃcient hybrid machine learning classiﬁer for rainfall prediction. In Journal of\\nPhysics: Conference Series, volume 1770, page 012012. IOP Publishing, 2021.\\n11. S Sakthivel et al. Eﬀective procedure to predict rainfall conditions using hybrid\\nmachine learning strategies. Turkish Journal of Computer and Mathematics Edu-\\ncation (TURCOMAT), 12(6):209–216, 2021.\\n12. Diwakar Naidu, Babita Majhi, and Surendra Kumar Chandniha. Development of\\nrainfall prediction models using machine learning approaches for diﬀerent agro-\\nclimatic zones. In Handbook of Research on Automated Feature Engineering and\\nAdvanced Applications in Data Science , pages 72–94. IGI Global, 2021.'),\n",
       " Document(id='ec3410db-b881-4098-bc82-a7e193824043', metadata={'source': 'my_paper.pdf', 'subject': '', 'creator': 'LaTeX with hyperref', 'ptex.fullbanner': 'This is pdfTeX, Version 3.14159265-2.6-1.40.21 (TeX Live 2020) kpathsea version 6.3.2', 'moddate': '2021-09-14T02:52:38+00:00', 'rgid': 'PB:357213035_AS:1103436619751424@1640091199662', 'trapped': '/False', 'producer': 'pdfTeX-1.40.21', 'keywords': '', 'page': 12, 'title': '', 'page_label': '13', 'author': '', 'creationdate': '2021-09-14T02:52:38+00:00', 'total_pages': 15}, page_content='task is to ﬁnd out the best regression technique for the prediction of rain. For\\nthis reason, we have used a variety of regression analysis techniques that can\\nbe utilized for predicting the quantity of rainfall so that anyone can use the\\nbest predictive model in real-life applications. To perform this task, we selected\\nﬁve signiﬁcant steps, these are data collection, data prepossessing, training model\\nusing regression analysis techniques, and performance analysis. In pre-processing\\npart, we have described cleaning data, Missing value check, EDA, Handling\\noutliers, Feature selection, Feature scaling respectively. Besides, we used ten\\nsupervised regressors (machine learning models) for predicting rainfall. Among\\nall models the are gives good accuracy in our predicting regression. Here, in'),\n",
       " Document(id='22b47558-2c54-4e3c-85ee-09c631305f25', metadata={'subject': '', 'page_label': '14', 'creationdate': '2021-09-14T02:52:38+00:00', 'keywords': '', 'author': '', 'ptex.fullbanner': 'This is pdfTeX, Version 3.14159265-2.6-1.40.21 (TeX Live 2020) kpathsea version 6.3.2', 'source': 'my_paper.pdf', 'total_pages': 15, 'rgid': 'PB:357213035_AS:1103436619751424@1640091199662', 'trapped': '/False', 'moddate': '2021-09-14T02:52:38+00:00', 'producer': 'pdfTeX-1.40.21', 'page': 13, 'creator': 'LaTeX with hyperref', 'title': ''}, page_content='diction. International Journal of Computer Science and Information Technologies ,\\n5(3):3982–3984, 2014.\\n7. Sunyoung Lee, Sungzoon Cho, and Patrick M Wong. Rainfall prediction using\\nartiﬁcial neural networks. journal of geographic information and Decision Analysis,\\n2(2):233–242, 1998.\\n8. Adil M Bagirov, Arshad Mahmood, and Andrew Barton. Prediction of monthly\\nrainfall in victoria, australia: Clusterwise linear regression approach. Atmospheric\\nresearch, 188:20–29, 2017.\\n9. Mohammed Moulana, Kolapalli Roshitha, Golla Niharika, and Maturi Siva Sai.\\nPrediction of rainfall using machine learning techniques. International Journal of\\nScientiﬁc & Technology Research, 9:3236–3240, 2020.\\n10. P Asha, A Jesudoss, S Prince Mary, KV Sai Sandeep, and K Harsha Vardhan.\\nAn eﬃcient hybrid machine learning classiﬁer for rainfall prediction. In Journal of\\nPhysics: Conference Series, volume 1770, page 012012. IOP Publishing, 2021.'),\n",
       " Document(id='7e3fa950-f5ec-47aa-a05b-a1f2941eb742', metadata={'page': 2, 'author': '', 'source': 'my_paper.pdf', 'moddate': '2021-09-14T02:52:38+00:00', 'title': '', 'ptex.fullbanner': 'This is pdfTeX, Version 3.14159265-2.6-1.40.21 (TeX Live 2020) kpathsea version 6.3.2', 'subject': '', 'keywords': '', 'rgid': 'PB:357213035_AS:1103436619751424@1640091199662', 'trapped': '/False', 'total_pages': 15, 'page_label': '3', 'creator': 'LaTeX with hyperref', 'producer': 'pdfTeX-1.40.21', 'creationdate': '2021-09-14T02:52:38+00:00'}, page_content='Development of Multiple Combined Regression\\nMethods for Rainfall Measurement.\\nNusrat Jahan Prottasha1, Md. Jashim Uddin 2, Md. Kowsher3, Rokeya Khatun\\nShorna4, Niaz Al Murshed 5, and Boktiar Ahmed Bappy 6\\n1 Daﬀodil International University Dhaka 1207, Bangladesh,\\njahannusratprotta@gmail.com\\n2 Noakhali Science and Technology University, 3814, Dhaka,\\nmdjaud12@gmail.com\\n3 Stevens Institute of Technology, Hoboken, NJ 07030 USA,\\nga.kowsher@gmail.com\\n4 Daﬀodil International University, 1207, Dhaka,\\nrokeyashorna5@gmail.com\\n5 Jahangirnagar University, 1342, Dhaka,\\nniazalmurshed.ai@gmail.com\\n6 Jhenaidah polytechnic institute, 7300, Dhaka,\\nentbappy73@gmail.com\\nAbstract. Rainfall forecast is imperative as overwhelming precipitation\\ncan lead to numerous catastrophes. The prediction makes a diﬀerence for\\nindividuals to require preventive measures. In addition, the expectation\\nought to be precise. Most of the nations in the world is an agricultural'),\n",
       " Document(id='7353a4b1-8b5f-40b9-b4ad-3dccff3f4837', metadata={'total_pages': 15, 'creator': 'LaTeX with hyperref', 'creationdate': '2021-09-14T02:52:38+00:00', 'author': '', 'source': 'my_paper.pdf', 'rgid': 'PB:357213035_AS:1103436619751424@1640091199662', 'trapped': '/False', 'producer': 'pdfTeX-1.40.21', 'keywords': '', 'moddate': '2021-09-14T02:52:38+00:00', 'title': '', 'ptex.fullbanner': 'This is pdfTeX, Version 3.14159265-2.6-1.40.21 (TeX Live 2020) kpathsea version 6.3.2', 'page_label': '2', 'page': 1, 'subject': ''}, page_content='See discussions, stats, and author profiles for this publication at: https://www.researchgate.net/publication/354831740\\nDevelopment of Multiple Combined Regression Methods for Rainfall\\nMeasurement\\nChapter · January 2021\\nDOI: 10.52458/978-93-91842-08-6-7\\nCITATIONS\\n0\\nREADS\\n47\\n6 authors, including:\\nSome of the authors of this publication are also working on these related projects:\\nBangla NLP View project\\nImpact learning Implementation View project\\nNusrat Jahan Prottasha\\nDaffodil International University\\n15 PUBLICATIONS\\xa0\\xa0\\xa012 CITATIONS\\xa0\\xa0\\xa0\\nSEE PROFILE\\nMd. Kowsher\\nStevens Institute of Technology\\n57 PUBLICATIONS\\xa0\\xa0\\xa094 CITATIONS\\xa0\\xa0\\xa0\\nSEE PROFILE\\nAll content following this page was uploaded by Md. Kowsher on 06 December 2021.\\nThe user has requested enhancement of the downloaded file.')]"
      ]
     },
     "execution_count": 11,
     "metadata": {},
     "output_type": "execute_result"
    }
   ],
   "source": [
    "retrieved_docs"
   ]
  },
  {
   "cell_type": "code",
   "execution_count": 13,
   "id": "18c10a30",
   "metadata": {},
   "outputs": [
    {
     "name": "stdout",
     "output_type": "stream",
     "text": [
      "An eﬃcient hybrid machine learning classiﬁer for rainfall prediction. In Journal of\n",
      "Physics: Conference Series, volume 1770, page 012012. IOP Publishing, 2021.\n",
      "11. S Sakthivel et al. Eﬀective procedure to predict rainfall conditions using hybrid\n",
      "machine learning strategies. Turkish Journal of Computer and Mathematics Edu-\n",
      "cation (TURCOMAT), 12(6):209–216, 2021.\n",
      "12. Diwakar Naidu, Babita Majhi, and Surendra Kumar Chandniha. Development of\n",
      "rainfall prediction models using machine learning approaches for diﬀerent agro-\n",
      "climatic zones. In Handbook of Research on Automated Feature Engineering and\n",
      "Advanced Applications in Data Science , pages 72–94. IGI Global, 2021.\n"
     ]
    }
   ],
   "source": [
    "print(retrieved_docs[5].page_content)"
   ]
  },
  {
   "cell_type": "markdown",
   "id": "23a9f204",
   "metadata": {},
   "source": [
    "#### 5- Create The Google LLM and Test it ??"
   ]
  },
  {
   "cell_type": "code",
   "execution_count": 15,
   "id": "a0236cb1",
   "metadata": {},
   "outputs": [],
   "source": [
    "from langchain_google_genai import ChatGoogleGenerativeAI\n",
    "\n",
    "llm = ChatGoogleGenerativeAI(\n",
    "    model=\"gemini-2.0-flash\",\n",
    "    temperature=0.3,\n",
    "    max_tokens=500\n",
    ")"
   ]
  },
  {
   "cell_type": "code",
   "execution_count": 16,
   "id": "a8fe8d10",
   "metadata": {},
   "outputs": [
    {
     "data": {
      "text/plain": [
       "AIMessage(content='Okay, let\\'s break down Quantum Artificial Intelligence (QAI) and understand what it\\'s all about.\\n\\n**What is Quantum Artificial Intelligence (QAI)?**\\n\\nQuantum Artificial Intelligence (QAI) is a field that explores the intersection of quantum computing and artificial intelligence (AI).  It aims to leverage the unique capabilities of quantum computers to enhance and accelerate AI algorithms, potentially solving problems that are intractable for classical computers.  In essence, it\\'s about using quantum mechanics to make AI smarter and faster.\\n\\n**Key Concepts to Understand:**\\n\\n*   **Quantum Computing:**\\n    *   Classical computers store information as bits, which can be either 0 or 1.\\n    *   Quantum computers use *qubits*.  Qubits can be 0, 1, or a *superposition* of both 0 and 1 simultaneously. This superposition allows quantum computers to explore many possibilities at once.\\n    *   Another key concept is *entanglement*, where two or more qubits become linked, and their fates are intertwined.  Measuring the state of one entangled qubit instantly reveals the state of the other, regardless of the distance between them.\\n    *   Quantum computers use these principles to perform computations in fundamentally different ways than classical computers, potentially leading to exponential speedups for certain types of problems.\\n\\n*   **Artificial Intelligence (AI):**\\n    *   AI is a broad field encompassing the development of computer systems that can perform tasks that typically require human intelligence, such as learning, problem-solving, and decision-making.\\n    *   *Machine Learning (ML)* is a subfield of AI that focuses on enabling computers to learn from data without being explicitly programmed.\\n    *   *Deep Learning (DL)* is a subfield of ML that uses artificial neural networks with many layers (hence \"deep\") to learn complex patterns from data.\\n\\n**How Quantum Computing Can Enhance AI:**\\n\\nQAI explores how quantum computing can improve various aspects of AI, particularly machine learning and deep learning. Here are some key areas:\\n\\n1.  **Quantum Machine Learning (QML):** This is the most prominent area of QAI. It involves developing quantum algorithms for machine learning tasks. Some potential benefits include:\\n\\n    *   **Speeding up Training:**  Many machine learning algorithms, especially those used in deep learning, are computationally expensive to train. Quantum algorithms could potentially speed up the training process significantly.  ', additional_kwargs={}, response_metadata={'prompt_feedback': {'block_reason': 0, 'safety_ratings': []}, 'finish_reason': 'MAX_TOKENS', 'model_name': 'gemini-2.0-flash', 'safety_ratings': []}, id='run--f44c1f68-df67-4a0a-ae8f-1c4e2d09f94d-0', usage_metadata={'input_tokens': 6, 'output_tokens': 501, 'total_tokens': 507, 'input_token_details': {'cache_read': 0}})"
      ]
     },
     "execution_count": 16,
     "metadata": {},
     "output_type": "execute_result"
    }
   ],
   "source": [
    "llm.invoke(\"Explain me Quantum Artificial Intelligence?\")"
   ]
  },
  {
   "cell_type": "markdown",
   "id": "e49162e6",
   "metadata": {},
   "source": [
    "#### 6- Let's Create the Chains and Prompt Template ??"
   ]
  },
  {
   "cell_type": "code",
   "execution_count": 17,
   "id": "38608259",
   "metadata": {},
   "outputs": [],
   "source": [
    "from langchain.chains import create_retrieval_chain\n",
    "from langchain.chains.combine_documents import create_stuff_documents_chain\n",
    "from langchain_core.prompts import ChatPromptTemplate"
   ]
  },
  {
   "cell_type": "code",
   "execution_count": 18,
   "id": "7f070a8f",
   "metadata": {},
   "outputs": [],
   "source": [
    "system_prompt = (\n",
    "    \"You are an assistant for question-answering tasks. \"\n",
    "    \"Use the following pieces of retrieved context to answer \"\n",
    "    \"the question. If you don't know the answer, say that you \"\n",
    "    \"don't know. Use three sentences maximum and keep the \"\n",
    "    \"answer concise.\"\n",
    "    \"\\n\\n\"\n",
    "    \"{context}\"\n",
    ")"
   ]
  },
  {
   "cell_type": "code",
   "execution_count": 19,
   "id": "d9540113",
   "metadata": {},
   "outputs": [],
   "source": [
    "prompt = ChatPromptTemplate.from_messages(\n",
    "    [\n",
    "        (\"system\", system_prompt),\n",
    "        (\"human\", \"{input}\"),\n",
    "    ]\n",
    ")"
   ]
  },
  {
   "cell_type": "code",
   "execution_count": 20,
   "id": "f6360242",
   "metadata": {},
   "outputs": [],
   "source": [
    "question_answer_chain = create_stuff_documents_chain(llm, prompt)\n",
    "\n",
    "rag_chain = create_retrieval_chain(retriever, question_answer_chain)"
   ]
  },
  {
   "cell_type": "code",
   "execution_count": 21,
   "id": "d8dad467",
   "metadata": {},
   "outputs": [
    {
     "name": "stdout",
     "output_type": "stream",
     "text": [
      "The paper assesses a pipeline of making choices for evaluating the finest reasonable rain prediction. It utilizes 10 supervised regressors (Machine Learning Model) because different regressors give different results. The paper also discusses a big comparison among all trained models to figure out the best performer.\n"
     ]
    }
   ],
   "source": [
    "response = rag_chain.invoke({\"input\": \"What is new in Development of Multiple Combined Regression Methods for Rainfall Measurement paper?\"})\n",
    "\n",
    "print(response[\"answer\"])"
   ]
  },
  {
   "cell_type": "code",
   "execution_count": null,
   "id": "0ffdd960",
   "metadata": {},
   "outputs": [],
   "source": []
  }
 ],
 "metadata": {
  "kernelspec": {
   "display_name": "langchain-env",
   "language": "python",
   "name": "python3"
  },
  "language_info": {
   "codemirror_mode": {
    "name": "ipython",
    "version": 3
   },
   "file_extension": ".py",
   "mimetype": "text/x-python",
   "name": "python",
   "nbconvert_exporter": "python",
   "pygments_lexer": "ipython3",
   "version": "3.11.13"
  }
 },
 "nbformat": 4,
 "nbformat_minor": 5
}
